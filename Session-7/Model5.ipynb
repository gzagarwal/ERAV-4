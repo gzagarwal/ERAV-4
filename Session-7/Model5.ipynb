{
  "cells": [
    {
      "cell_type": "markdown",
      "id": "caaac7fd",
      "metadata": {
        "id": "caaac7fd"
      },
      "source": [
        "# Iteration 1\n",
        "This notebook demonstrates the `train` and `test` functions for the dataset. The focus is to setup the basic model to have a good accuracy."
      ]
    },
    {
      "cell_type": "markdown",
      "id": "bd283fa6",
      "metadata": {
        "id": "bd283fa6"
      },
      "source": []
    },
    {
      "cell_type": "code",
      "execution_count": null,
      "id": "16ad1d74",
      "metadata": {
        "id": "16ad1d74"
      },
      "outputs": [],
      "source": [
        "#pip install albumentations==1.3.1 opencv-python"
      ]
    },
    {
      "cell_type": "code",
      "execution_count": null,
      "id": "ca6db051",
      "metadata": {
        "id": "ca6db051"
      },
      "outputs": [],
      "source": [
        "import torch\n",
        "import torch.optim as optim\n",
        "from torchvision import datasets, transforms\n",
        "from torch.utils.data import DataLoader\n",
        "from py_src.models.model_5 import Net\n",
        "from py_src.train_model4 import train, train_losses, train_acc\n",
        "from py_src.train_model4 import AlbumentationsWrapper\n",
        "from py_src.train_model4 import train_aug, test_aug\n",
        "from py_src.test import test, test_losses, test_acc\n",
        "from torchsummary import summary\n",
        "from py_src.train_model4 import train_transforms, test_transforms"
      ]
    },
    {
      "cell_type": "code",
      "execution_count": null,
      "id": "78060b3d",
      "metadata": {
        "id": "78060b3d"
      },
      "outputs": [],
      "source": [
        "# Data transforms (use helpers from train.py)\n",
        "\n",
        "\n",
        "# Set augment=True to enable small augmentations during training\n",
        "train_transforms = train_transforms(augment=False)\n",
        "test_transforms = test_transforms()"
      ]
    },
    {
      "cell_type": "code",
      "execution_count": null,
      "id": "52331208",
      "metadata": {
        "id": "52331208"
      },
      "outputs": [],
      "source": [
        "# Dataset and DataLoader\n",
        "\n",
        "\n",
        "train_dataset = datasets.CIFAR10('./data', train=True, download=True, transform=None)\n",
        "test_dataset = datasets.CIFAR10('./data', train=False, download=True, transform=None)\n",
        "\n",
        "train_ds = AlbumentationsWrapper(train_dataset, train_aug)\n",
        "test_ds  = AlbumentationsWrapper(test_dataset,  test_aug)\n",
        "\n",
        "train_loader = DataLoader(train_ds, batch_size=64, shuffle=True,num_workers=0)\n",
        "test_loader = DataLoader(test_ds, batch_size=64, shuffle=False,num_workers=0)\n"
      ]
    },
    {
      "cell_type": "code",
      "execution_count": null,
      "id": "88a0f845",
      "metadata": {
        "colab": {
          "base_uri": "https://localhost:8080/"
        },
        "id": "88a0f845",
        "outputId": "73bc763c-832a-4104-fe86-a49da85f0abc"
      },
      "outputs": [
        {
          "output_type": "stream",
          "name": "stdout",
          "text": [
            "torch.Size([64, 3, 32, 32])\n"
          ]
        }
      ],
      "source": [
        "import numpy as np\n",
        "import torch\n",
        "import matplotlib.pyplot as plt\n",
        "\n",
        "# CIFAR-10 stats used in your Normalize\n",
        "MEAN = (0.4914, 0.4822, 0.4465)\n",
        "STD  = (0.2470, 0.2435, 0.2616)\n",
        "\n",
        "def show_batch(tensors, labels=None, n=20):\n",
        "    \"\"\"\n",
        "    tensors: (B, C, H, W) normalized by MEAN/STD\n",
        "    labels:  (B,) optional\n",
        "    \"\"\"\n",
        "    if isinstance(tensors, np.ndarray):\n",
        "            tensors = torch.from_numpy(tensors)\n",
        "    if tensors.dim() == 3:\n",
        "        tensors = tensors.unsqueeze(0)\n",
        "        if labels is not None and not isinstance(labels, (list, tuple)):\n",
        "            labels = [labels]\n",
        "    b = min(n, tensors.size(0))\n",
        "    mean = torch.tensor(MEAN, device=tensors.device).view(1, 3, 1, 1)\n",
        "    std  = torch.tensor(STD,  device=tensors.device).view(1, 3, 1, 1)\n",
        "\n",
        "    # de-normalize to [0,1] range\n",
        "    imgs = tensors * std + mean\n",
        "    imgs = imgs.clamp(0, 1)  # safe for display\n",
        "\n",
        "    cols = 10\n",
        "    rows = (b + cols - 1) // cols\n",
        "    plt.figure(figsize=(1.6*cols, 1.6*rows))\n",
        "    for i in range(b):\n",
        "        plt.subplot(rows, cols, i+1)\n",
        "        img = imgs[i].permute(1, 2, 0).detach().cpu().numpy()  # HWC\n",
        "        plt.imshow(img)\n",
        "        if labels is not None:\n",
        "            plt.title(int(labels[i]))\n",
        "        plt.axis('off')\n",
        "    plt.tight_layout()\n",
        "    plt.show()#Let us visualize few sample images\n",
        "\n",
        "import matplotlib.pyplot as plt\n",
        "\n",
        "batch_data, batch_label = next(iter(train_loader))\n",
        "print(batch_data.shape)  # Should be (batch_size, 3, 32, 32)\n",
        "#show_batch(batch_data, batch_label, n=20)\n",
        "\n",
        "#@show_batch(batch_data, batch_label, n=20)\n",
        "#fig = plt.figure(figsize=(15, 10))  # Increased figure size\n",
        "\n",
        "\n"
      ]
    },
    {
      "cell_type": "code",
      "execution_count": null,
      "id": "231a50eb",
      "metadata": {
        "colab": {
          "base_uri": "https://localhost:8080/"
        },
        "id": "231a50eb",
        "outputId": "235eabf4-0bed-43fd-c966-349cd6a78060"
      },
      "outputs": [
        {
          "output_type": "stream",
          "name": "stdout",
          "text": [
            "----------------------------------------------------------------\n",
            "        Layer (type)               Output Shape         Param #\n",
            "================================================================\n",
            "            Conv2d-1           [-1, 16, 32, 32]             432\n",
            "       BatchNorm2d-2           [-1, 16, 32, 32]              32\n",
            "              ReLU-3           [-1, 16, 32, 32]               0\n",
            "           Dropout-4           [-1, 16, 32, 32]               0\n",
            "            Conv2d-5           [-1, 32, 16, 16]           4,608\n",
            "       BatchNorm2d-6           [-1, 32, 16, 16]              64\n",
            "              ReLU-7           [-1, 32, 16, 16]               0\n",
            "           Dropout-8           [-1, 32, 16, 16]               0\n",
            "            Conv2d-9           [-1, 64, 16, 16]          18,432\n",
            "      BatchNorm2d-10           [-1, 64, 16, 16]             128\n",
            "             ReLU-11           [-1, 64, 16, 16]               0\n",
            "          Dropout-12           [-1, 64, 16, 16]               0\n",
            "           Conv2d-13           [-1, 64, 16, 16]           4,096\n",
            "      BatchNorm2d-14           [-1, 64, 16, 16]             128\n",
            "             ReLU-15           [-1, 64, 16, 16]               0\n",
            "          Dropout-16           [-1, 64, 16, 16]               0\n",
            "           Conv2d-17           [-1, 64, 16, 16]           4,096\n",
            "      BatchNorm2d-18           [-1, 64, 16, 16]             128\n",
            "             ReLU-19           [-1, 64, 16, 16]               0\n",
            "           Conv2d-20           [-1, 96, 16, 16]          55,296\n",
            "      BatchNorm2d-21           [-1, 96, 16, 16]             192\n",
            "             ReLU-22           [-1, 96, 16, 16]               0\n",
            "          Dropout-23           [-1, 96, 16, 16]               0\n",
            "           Conv2d-24           [-1, 96, 16, 16]             864\n",
            "           Conv2d-25          [-1, 128, 16, 16]          12,288\n",
            "      BatchNorm2d-26          [-1, 128, 16, 16]             256\n",
            "             ReLU-27          [-1, 128, 16, 16]               0\n",
            "          Dropout-28          [-1, 128, 16, 16]               0\n",
            "  DWSeparableConv-29          [-1, 128, 16, 16]               0\n",
            "           Conv2d-30          [-1, 128, 16, 16]           1,152\n",
            "           Conv2d-31          [-1, 128, 16, 16]          16,384\n",
            "      BatchNorm2d-32          [-1, 128, 16, 16]             256\n",
            "             ReLU-33          [-1, 128, 16, 16]               0\n",
            "          Dropout-34          [-1, 128, 16, 16]               0\n",
            "  DWSeparableConv-35          [-1, 128, 16, 16]               0\n",
            "           Conv2d-36            [-1, 128, 8, 8]           1,152\n",
            "           Conv2d-37            [-1, 128, 8, 8]          16,384\n",
            "      BatchNorm2d-38            [-1, 128, 8, 8]             256\n",
            "             ReLU-39            [-1, 128, 8, 8]               0\n",
            "          Dropout-40            [-1, 128, 8, 8]               0\n",
            "  DWSeparableConv-41            [-1, 128, 8, 8]               0\n",
            "           Conv2d-42            [-1, 128, 8, 8]          16,384\n",
            "      BatchNorm2d-43            [-1, 128, 8, 8]             256\n",
            "             ReLU-44            [-1, 128, 8, 8]               0\n",
            "AdaptiveAvgPool2d-45            [-1, 128, 1, 1]               0\n",
            "           Conv2d-46             [-1, 10, 1, 1]           1,280\n",
            "================================================================\n",
            "Total params: 154,544\n",
            "Trainable params: 154,544\n",
            "Non-trainable params: 0\n",
            "----------------------------------------------------------------\n",
            "Input size (MB): 0.01\n",
            "Forward/backward pass size (MB): 6.38\n",
            "Params size (MB): 0.59\n",
            "Estimated Total Size (MB): 6.98\n",
            "----------------------------------------------------------------\n"
          ]
        }
      ],
      "source": [
        "from torch.optim.lr_scheduler import StepLR\n",
        "# Model, device, optimizer\n",
        "use_cuda = torch.cuda.is_available()\n",
        "device = torch.device(\"cuda\" if use_cuda else \"cpu\")\n",
        "model = Net().to(device)\n",
        "optimizer = optim.SGD(model.parameters(), lr=0.1, momentum=0.9, weight_decay=5e-4)\n",
        "summary(model, input_size=(3, 32, 32))"
      ]
    },
    {
      "cell_type": "code",
      "execution_count": null,
      "id": "d6d5b2f2",
      "metadata": {
        "colab": {
          "base_uri": "https://localhost:8080/"
        },
        "id": "d6d5b2f2",
        "outputId": "c9a39103-79e5-4b7f-f426-bbb14e356d1a"
      },
      "outputs": [
        {
          "output_type": "stream",
          "name": "stdout",
          "text": [
            "EPOCH: 0\n"
          ]
        },
        {
          "output_type": "stream",
          "name": "stderr",
          "text": [
            "Loss=1.428773045539856 Batch_id=781 Accuracy=37.60: 100%|██████████| 782/782 [00:35<00:00, 21.75it/s]\n"
          ]
        },
        {
          "output_type": "stream",
          "name": "stdout",
          "text": [
            "\n",
            "Test set: Average loss: 0.0258, Accuracy: 4150/10000 (41.50%)\n",
            "\n",
            "EPOCH: 1\n"
          ]
        },
        {
          "output_type": "stream",
          "name": "stderr",
          "text": [
            "Loss=1.5532183647155762 Batch_id=781 Accuracy=53.59: 100%|██████████| 782/782 [00:34<00:00, 22.49it/s]\n"
          ]
        },
        {
          "output_type": "stream",
          "name": "stdout",
          "text": [
            "\n",
            "Test set: Average loss: 0.0236, Accuracy: 4839/10000 (48.39%)\n",
            "\n",
            "EPOCH: 2\n"
          ]
        },
        {
          "output_type": "stream",
          "name": "stderr",
          "text": [
            "Loss=1.4222559928894043 Batch_id=781 Accuracy=60.07: 100%|██████████| 782/782 [00:34<00:00, 22.65it/s]\n"
          ]
        },
        {
          "output_type": "stream",
          "name": "stdout",
          "text": [
            "\n",
            "Test set: Average loss: 0.0171, Accuracy: 6217/10000 (62.17%)\n",
            "\n",
            "EPOCH: 3\n"
          ]
        },
        {
          "output_type": "stream",
          "name": "stderr",
          "text": [
            "Loss=1.2148993015289307 Batch_id=781 Accuracy=63.91: 100%|██████████| 782/782 [00:34<00:00, 22.80it/s]\n"
          ]
        },
        {
          "output_type": "stream",
          "name": "stdout",
          "text": [
            "\n",
            "Test set: Average loss: 0.0201, Accuracy: 5709/10000 (57.09%)\n",
            "\n",
            "EPOCH: 4\n"
          ]
        },
        {
          "output_type": "stream",
          "name": "stderr",
          "text": [
            "Loss=0.8430016040802002 Batch_id=781 Accuracy=66.59: 100%|██████████| 782/782 [00:35<00:00, 22.33it/s]\n"
          ]
        },
        {
          "output_type": "stream",
          "name": "stdout",
          "text": [
            "\n",
            "Test set: Average loss: 0.0213, Accuracy: 5750/10000 (57.50%)\n",
            "\n",
            "EPOCH: 5\n"
          ]
        },
        {
          "output_type": "stream",
          "name": "stderr",
          "text": [
            "Loss=1.4576164484024048 Batch_id=781 Accuracy=67.58: 100%|██████████| 782/782 [00:34<00:00, 22.66it/s]\n"
          ]
        },
        {
          "output_type": "stream",
          "name": "stdout",
          "text": [
            "\n",
            "Test set: Average loss: 0.0172, Accuracy: 6317/10000 (63.17%)\n",
            "\n",
            "EPOCH: 6\n"
          ]
        },
        {
          "output_type": "stream",
          "name": "stderr",
          "text": [
            "Loss=0.8033480644226074 Batch_id=781 Accuracy=69.02: 100%|██████████| 782/782 [00:34<00:00, 22.62it/s]\n"
          ]
        },
        {
          "output_type": "stream",
          "name": "stdout",
          "text": [
            "\n",
            "Test set: Average loss: 0.0143, Accuracy: 6934/10000 (69.34%)\n",
            "\n",
            "EPOCH: 7\n"
          ]
        },
        {
          "output_type": "stream",
          "name": "stderr",
          "text": [
            "Loss=0.7574529051780701 Batch_id=781 Accuracy=69.43: 100%|██████████| 782/782 [00:34<00:00, 22.65it/s]\n"
          ]
        },
        {
          "output_type": "stream",
          "name": "stdout",
          "text": [
            "\n",
            "Test set: Average loss: 0.0123, Accuracy: 7280/10000 (72.80%)\n",
            "\n",
            "EPOCH: 8\n"
          ]
        },
        {
          "output_type": "stream",
          "name": "stderr",
          "text": [
            "Loss=0.9425679445266724 Batch_id=781 Accuracy=70.45: 100%|██████████| 782/782 [00:35<00:00, 22.23it/s]\n"
          ]
        },
        {
          "output_type": "stream",
          "name": "stdout",
          "text": [
            "\n",
            "Test set: Average loss: 0.0150, Accuracy: 6719/10000 (67.19%)\n",
            "\n",
            "EPOCH: 9\n"
          ]
        },
        {
          "output_type": "stream",
          "name": "stderr",
          "text": [
            "Loss=1.0173283815383911 Batch_id=781 Accuracy=70.53: 100%|██████████| 782/782 [00:34<00:00, 22.41it/s]\n"
          ]
        },
        {
          "output_type": "stream",
          "name": "stdout",
          "text": [
            "\n",
            "Test set: Average loss: 0.0131, Accuracy: 7131/10000 (71.31%)\n",
            "\n",
            "EPOCH: 10\n"
          ]
        },
        {
          "output_type": "stream",
          "name": "stderr",
          "text": [
            "Loss=0.6078682541847229 Batch_id=781 Accuracy=78.74: 100%|██████████| 782/782 [00:34<00:00, 22.42it/s]\n"
          ]
        },
        {
          "output_type": "stream",
          "name": "stdout",
          "text": [
            "\n",
            "Test set: Average loss: 0.0082, Accuracy: 8200/10000 (82.00%)\n",
            "\n",
            "EPOCH: 11\n"
          ]
        },
        {
          "output_type": "stream",
          "name": "stderr",
          "text": [
            "Loss=0.4997500777244568 Batch_id=781 Accuracy=80.55: 100%|██████████| 782/782 [00:34<00:00, 22.47it/s]\n"
          ]
        },
        {
          "output_type": "stream",
          "name": "stdout",
          "text": [
            "\n",
            "Test set: Average loss: 0.0078, Accuracy: 8280/10000 (82.80%)\n",
            "\n",
            "EPOCH: 12\n"
          ]
        },
        {
          "output_type": "stream",
          "name": "stderr",
          "text": [
            "Loss=0.3927803933620453 Batch_id=781 Accuracy=81.18: 100%|██████████| 782/782 [00:35<00:00, 22.19it/s]\n"
          ]
        },
        {
          "output_type": "stream",
          "name": "stdout",
          "text": [
            "\n",
            "Test set: Average loss: 0.0077, Accuracy: 8297/10000 (82.97%)\n",
            "\n",
            "EPOCH: 13\n"
          ]
        },
        {
          "output_type": "stream",
          "name": "stderr",
          "text": [
            "Loss=0.7410441637039185 Batch_id=781 Accuracy=81.95: 100%|██████████| 782/782 [00:34<00:00, 22.44it/s]\n"
          ]
        },
        {
          "output_type": "stream",
          "name": "stdout",
          "text": [
            "\n",
            "Test set: Average loss: 0.0076, Accuracy: 8357/10000 (83.57%)\n",
            "\n",
            "EPOCH: 14\n"
          ]
        },
        {
          "output_type": "stream",
          "name": "stderr",
          "text": [
            "Loss=0.5746945142745972 Batch_id=781 Accuracy=82.29: 100%|██████████| 782/782 [00:34<00:00, 22.47it/s]\n"
          ]
        },
        {
          "output_type": "stream",
          "name": "stdout",
          "text": [
            "\n",
            "Test set: Average loss: 0.0075, Accuracy: 8331/10000 (83.31%)\n",
            "\n",
            "EPOCH: 15\n"
          ]
        },
        {
          "output_type": "stream",
          "name": "stderr",
          "text": [
            "Loss=1.1353321075439453 Batch_id=781 Accuracy=82.64: 100%|██████████| 782/782 [00:35<00:00, 22.25it/s]\n"
          ]
        },
        {
          "output_type": "stream",
          "name": "stdout",
          "text": [
            "\n",
            "Test set: Average loss: 0.0074, Accuracy: 8417/10000 (84.17%)\n",
            "\n",
            "EPOCH: 16\n"
          ]
        },
        {
          "output_type": "stream",
          "name": "stderr",
          "text": [
            "Loss=0.57362961769104 Batch_id=781 Accuracy=83.00: 100%|██████████| 782/782 [00:36<00:00, 21.49it/s]\n"
          ]
        },
        {
          "output_type": "stream",
          "name": "stdout",
          "text": [
            "\n",
            "Test set: Average loss: 0.0073, Accuracy: 8430/10000 (84.30%)\n",
            "\n",
            "EPOCH: 17\n"
          ]
        },
        {
          "output_type": "stream",
          "name": "stderr",
          "text": [
            "Loss=0.4464775025844574 Batch_id=781 Accuracy=83.22: 100%|██████████| 782/782 [00:36<00:00, 21.72it/s]\n"
          ]
        },
        {
          "output_type": "stream",
          "name": "stdout",
          "text": [
            "\n",
            "Test set: Average loss: 0.0075, Accuracy: 8352/10000 (83.52%)\n",
            "\n",
            "EPOCH: 18\n"
          ]
        },
        {
          "output_type": "stream",
          "name": "stderr",
          "text": [
            "Loss=0.6928497552871704 Batch_id=781 Accuracy=83.46: 100%|██████████| 782/782 [00:35<00:00, 22.10it/s]\n"
          ]
        },
        {
          "output_type": "stream",
          "name": "stdout",
          "text": [
            "\n",
            "Test set: Average loss: 0.0077, Accuracy: 8339/10000 (83.39%)\n",
            "\n",
            "EPOCH: 19\n"
          ]
        },
        {
          "output_type": "stream",
          "name": "stderr",
          "text": [
            "Loss=0.9828096032142639 Batch_id=781 Accuracy=83.48: 100%|██████████| 782/782 [00:36<00:00, 21.71it/s]\n"
          ]
        },
        {
          "output_type": "stream",
          "name": "stdout",
          "text": [
            "\n",
            "Test set: Average loss: 0.0074, Accuracy: 8405/10000 (84.05%)\n",
            "\n",
            "EPOCH: 20\n"
          ]
        },
        {
          "output_type": "stream",
          "name": "stderr",
          "text": [
            "Loss=0.3998897969722748 Batch_id=781 Accuracy=85.64: 100%|██████████| 782/782 [00:36<00:00, 21.38it/s]\n"
          ]
        },
        {
          "output_type": "stream",
          "name": "stdout",
          "text": [
            "\n",
            "Test set: Average loss: 0.0063, Accuracy: 8602/10000 (86.02%)\n",
            "\n",
            "EPOCH: 21\n"
          ]
        },
        {
          "output_type": "stream",
          "name": "stderr",
          "text": [
            "Loss=0.5133297443389893 Batch_id=781 Accuracy=86.42: 100%|██████████| 782/782 [00:35<00:00, 22.29it/s]\n"
          ]
        },
        {
          "output_type": "stream",
          "name": "stdout",
          "text": [
            "\n",
            "Test set: Average loss: 0.0061, Accuracy: 8667/10000 (86.67%)\n",
            "\n",
            "EPOCH: 22\n"
          ]
        },
        {
          "output_type": "stream",
          "name": "stderr",
          "text": [
            "Loss=0.3621320128440857 Batch_id=781 Accuracy=86.51: 100%|██████████| 782/782 [00:34<00:00, 22.37it/s]\n"
          ]
        },
        {
          "output_type": "stream",
          "name": "stdout",
          "text": [
            "\n",
            "Test set: Average loss: 0.0060, Accuracy: 8684/10000 (86.84%)\n",
            "\n",
            "EPOCH: 23\n"
          ]
        },
        {
          "output_type": "stream",
          "name": "stderr",
          "text": [
            "Loss=0.6998043060302734 Batch_id=781 Accuracy=86.71: 100%|██████████| 782/782 [00:35<00:00, 21.79it/s]\n"
          ]
        },
        {
          "output_type": "stream",
          "name": "stdout",
          "text": [
            "\n",
            "Test set: Average loss: 0.0061, Accuracy: 8680/10000 (86.80%)\n",
            "\n",
            "EPOCH: 24\n"
          ]
        },
        {
          "output_type": "stream",
          "name": "stderr",
          "text": [
            "Loss=0.734221339225769 Batch_id=781 Accuracy=86.89: 100%|██████████| 782/782 [00:35<00:00, 22.34it/s]\n"
          ]
        },
        {
          "output_type": "stream",
          "name": "stdout",
          "text": [
            "\n",
            "Test set: Average loss: 0.0060, Accuracy: 8677/10000 (86.77%)\n",
            "\n",
            "EPOCH: 25\n"
          ]
        },
        {
          "output_type": "stream",
          "name": "stderr",
          "text": [
            "Loss=0.461467981338501 Batch_id=781 Accuracy=86.89: 100%|██████████| 782/782 [00:35<00:00, 22.34it/s]\n"
          ]
        },
        {
          "output_type": "stream",
          "name": "stdout",
          "text": [
            "\n",
            "Test set: Average loss: 0.0059, Accuracy: 8708/10000 (87.08%)\n",
            "\n",
            "EPOCH: 26\n"
          ]
        },
        {
          "output_type": "stream",
          "name": "stderr",
          "text": [
            "Loss=0.4738641381263733 Batch_id=781 Accuracy=87.18: 100%|██████████| 782/782 [00:35<00:00, 22.15it/s]\n"
          ]
        },
        {
          "output_type": "stream",
          "name": "stdout",
          "text": [
            "\n",
            "Test set: Average loss: 0.0059, Accuracy: 8722/10000 (87.22%)\n",
            "\n",
            "EPOCH: 27\n"
          ]
        },
        {
          "output_type": "stream",
          "name": "stderr",
          "text": [
            "Loss=0.3975053131580353 Batch_id=781 Accuracy=86.88: 100%|██████████| 782/782 [00:35<00:00, 21.82it/s]\n"
          ]
        },
        {
          "output_type": "stream",
          "name": "stdout",
          "text": [
            "\n",
            "Test set: Average loss: 0.0059, Accuracy: 8717/10000 (87.17%)\n",
            "\n",
            "EPOCH: 28\n"
          ]
        },
        {
          "output_type": "stream",
          "name": "stderr",
          "text": [
            "Loss=0.2989272475242615 Batch_id=781 Accuracy=87.20: 100%|██████████| 782/782 [00:35<00:00, 22.22it/s]\n"
          ]
        },
        {
          "output_type": "stream",
          "name": "stdout",
          "text": [
            "\n",
            "Test set: Average loss: 0.0058, Accuracy: 8728/10000 (87.28%)\n",
            "\n",
            "EPOCH: 29\n"
          ]
        },
        {
          "output_type": "stream",
          "name": "stderr",
          "text": [
            "Loss=0.23510470986366272 Batch_id=781 Accuracy=87.32: 100%|██████████| 782/782 [00:34<00:00, 22.43it/s]\n"
          ]
        },
        {
          "output_type": "stream",
          "name": "stdout",
          "text": [
            "\n",
            "Test set: Average loss: 0.0058, Accuracy: 8732/10000 (87.32%)\n",
            "\n",
            "EPOCH: 30\n"
          ]
        },
        {
          "output_type": "stream",
          "name": "stderr",
          "text": [
            "Loss=0.25185275077819824 Batch_id=781 Accuracy=87.46: 100%|██████████| 782/782 [00:34<00:00, 22.44it/s]\n"
          ]
        },
        {
          "output_type": "stream",
          "name": "stdout",
          "text": [
            "\n",
            "Test set: Average loss: 0.0057, Accuracy: 8741/10000 (87.41%)\n",
            "\n",
            "EPOCH: 31\n"
          ]
        },
        {
          "output_type": "stream",
          "name": "stderr",
          "text": [
            "Loss=0.5943067073822021 Batch_id=781 Accuracy=87.59: 100%|██████████| 782/782 [00:35<00:00, 22.06it/s]\n"
          ]
        },
        {
          "output_type": "stream",
          "name": "stdout",
          "text": [
            "\n",
            "Test set: Average loss: 0.0058, Accuracy: 8725/10000 (87.25%)\n",
            "\n",
            "EPOCH: 32\n"
          ]
        },
        {
          "output_type": "stream",
          "name": "stderr",
          "text": [
            "Loss=0.05432559922337532 Batch_id=781 Accuracy=87.80: 100%|██████████| 782/782 [00:34<00:00, 22.52it/s]\n"
          ]
        },
        {
          "output_type": "stream",
          "name": "stdout",
          "text": [
            "\n",
            "Test set: Average loss: 0.0057, Accuracy: 8743/10000 (87.43%)\n",
            "\n",
            "EPOCH: 33\n"
          ]
        },
        {
          "output_type": "stream",
          "name": "stderr",
          "text": [
            "Loss=0.5301576852798462 Batch_id=781 Accuracy=87.74: 100%|██████████| 782/782 [00:35<00:00, 22.26it/s]\n"
          ]
        },
        {
          "output_type": "stream",
          "name": "stdout",
          "text": [
            "\n",
            "Test set: Average loss: 0.0058, Accuracy: 8724/10000 (87.24%)\n",
            "\n",
            "EPOCH: 34\n"
          ]
        },
        {
          "output_type": "stream",
          "name": "stderr",
          "text": [
            "Loss=0.605631947517395 Batch_id=781 Accuracy=87.92: 100%|██████████| 782/782 [00:35<00:00, 22.28it/s]\n"
          ]
        },
        {
          "output_type": "stream",
          "name": "stdout",
          "text": [
            "\n",
            "Test set: Average loss: 0.0057, Accuracy: 8740/10000 (87.40%)\n",
            "\n",
            "EPOCH: 35\n"
          ]
        },
        {
          "output_type": "stream",
          "name": "stderr",
          "text": [
            "Loss=0.33036404848098755 Batch_id=781 Accuracy=87.73: 100%|██████████| 782/782 [00:35<00:00, 22.12it/s]\n"
          ]
        },
        {
          "output_type": "stream",
          "name": "stdout",
          "text": [
            "\n",
            "Test set: Average loss: 0.0058, Accuracy: 8716/10000 (87.16%)\n",
            "\n",
            "EPOCH: 36\n"
          ]
        },
        {
          "output_type": "stream",
          "name": "stderr",
          "text": [
            "Loss=0.3431711792945862 Batch_id=781 Accuracy=87.72: 100%|██████████| 782/782 [00:34<00:00, 22.46it/s]\n"
          ]
        },
        {
          "output_type": "stream",
          "name": "stdout",
          "text": [
            "\n",
            "Test set: Average loss: 0.0058, Accuracy: 8723/10000 (87.23%)\n",
            "\n",
            "EPOCH: 37\n"
          ]
        },
        {
          "output_type": "stream",
          "name": "stderr",
          "text": [
            "Loss=0.33136647939682007 Batch_id=781 Accuracy=87.80: 100%|██████████| 782/782 [00:35<00:00, 22.33it/s]\n"
          ]
        },
        {
          "output_type": "stream",
          "name": "stdout",
          "text": [
            "\n",
            "Test set: Average loss: 0.0057, Accuracy: 8756/10000 (87.56%)\n",
            "\n",
            "EPOCH: 38\n"
          ]
        },
        {
          "output_type": "stream",
          "name": "stderr",
          "text": [
            "Loss=0.7047814130783081 Batch_id=781 Accuracy=87.93: 100%|██████████| 782/782 [00:35<00:00, 21.87it/s]\n"
          ]
        },
        {
          "output_type": "stream",
          "name": "stdout",
          "text": [
            "\n",
            "Test set: Average loss: 0.0057, Accuracy: 8751/10000 (87.51%)\n",
            "\n",
            "EPOCH: 39\n"
          ]
        },
        {
          "output_type": "stream",
          "name": "stderr",
          "text": [
            "Loss=0.6061822175979614 Batch_id=781 Accuracy=87.86: 100%|██████████| 782/782 [00:35<00:00, 22.27it/s]\n"
          ]
        },
        {
          "output_type": "stream",
          "name": "stdout",
          "text": [
            "\n",
            "Test set: Average loss: 0.0058, Accuracy: 8736/10000 (87.36%)\n",
            "\n",
            "EPOCH: 40\n"
          ]
        },
        {
          "output_type": "stream",
          "name": "stderr",
          "text": [
            "Loss=0.621471643447876 Batch_id=781 Accuracy=87.92: 100%|██████████| 782/782 [00:34<00:00, 22.48it/s]\n"
          ]
        },
        {
          "output_type": "stream",
          "name": "stdout",
          "text": [
            "\n",
            "Test set: Average loss: 0.0058, Accuracy: 8707/10000 (87.07%)\n",
            "\n",
            "EPOCH: 41\n"
          ]
        },
        {
          "output_type": "stream",
          "name": "stderr",
          "text": [
            "Loss=0.572001039981842 Batch_id=781 Accuracy=87.81: 100%|██████████| 782/782 [00:35<00:00, 22.26it/s]\n"
          ]
        },
        {
          "output_type": "stream",
          "name": "stdout",
          "text": [
            "\n",
            "Test set: Average loss: 0.0057, Accuracy: 8738/10000 (87.38%)\n",
            "\n",
            "EPOCH: 42\n"
          ]
        },
        {
          "output_type": "stream",
          "name": "stderr",
          "text": [
            "Loss=0.8504981398582458 Batch_id=781 Accuracy=87.97: 100%|██████████| 782/782 [00:36<00:00, 21.44it/s]\n"
          ]
        },
        {
          "output_type": "stream",
          "name": "stdout",
          "text": [
            "\n",
            "Test set: Average loss: 0.0057, Accuracy: 8749/10000 (87.49%)\n",
            "\n",
            "EPOCH: 43\n"
          ]
        },
        {
          "output_type": "stream",
          "name": "stderr",
          "text": [
            "Loss=0.5374453067779541 Batch_id=781 Accuracy=87.81: 100%|██████████| 782/782 [00:34<00:00, 22.48it/s]\n"
          ]
        },
        {
          "output_type": "stream",
          "name": "stdout",
          "text": [
            "\n",
            "Test set: Average loss: 0.0057, Accuracy: 8767/10000 (87.67%)\n",
            "\n",
            "EPOCH: 44\n"
          ]
        },
        {
          "output_type": "stream",
          "name": "stderr",
          "text": [
            "Loss=0.28891000151634216 Batch_id=781 Accuracy=87.95: 100%|██████████| 782/782 [00:34<00:00, 22.47it/s]\n"
          ]
        },
        {
          "output_type": "stream",
          "name": "stdout",
          "text": [
            "\n",
            "Test set: Average loss: 0.0057, Accuracy: 8750/10000 (87.50%)\n",
            "\n",
            "EPOCH: 45\n"
          ]
        },
        {
          "output_type": "stream",
          "name": "stderr",
          "text": [
            "Loss=0.9214630126953125 Batch_id=781 Accuracy=87.99: 100%|██████████| 782/782 [00:34<00:00, 22.46it/s]\n"
          ]
        },
        {
          "output_type": "stream",
          "name": "stdout",
          "text": [
            "\n",
            "Test set: Average loss: 0.0058, Accuracy: 8725/10000 (87.25%)\n",
            "\n",
            "EPOCH: 46\n"
          ]
        },
        {
          "output_type": "stream",
          "name": "stderr",
          "text": [
            "Loss=1.012266993522644 Batch_id=781 Accuracy=87.91: 100%|██████████| 782/782 [00:35<00:00, 21.84it/s]\n"
          ]
        },
        {
          "output_type": "stream",
          "name": "stdout",
          "text": [
            "\n",
            "Test set: Average loss: 0.0058, Accuracy: 8701/10000 (87.01%)\n",
            "\n",
            "EPOCH: 47\n"
          ]
        },
        {
          "output_type": "stream",
          "name": "stderr",
          "text": [
            "Loss=0.18230527639389038 Batch_id=781 Accuracy=87.65: 100%|██████████| 782/782 [00:35<00:00, 22.16it/s]\n"
          ]
        },
        {
          "output_type": "stream",
          "name": "stdout",
          "text": [
            "\n",
            "Test set: Average loss: 0.0057, Accuracy: 8733/10000 (87.33%)\n",
            "\n",
            "EPOCH: 48\n"
          ]
        },
        {
          "output_type": "stream",
          "name": "stderr",
          "text": [
            "Loss=0.40316835045814514 Batch_id=781 Accuracy=87.73: 100%|██████████| 782/782 [00:35<00:00, 22.18it/s]\n"
          ]
        },
        {
          "output_type": "stream",
          "name": "stdout",
          "text": [
            "\n",
            "Test set: Average loss: 0.0057, Accuracy: 8734/10000 (87.34%)\n",
            "\n",
            "EPOCH: 49\n"
          ]
        },
        {
          "output_type": "stream",
          "name": "stderr",
          "text": [
            "Loss=0.8123587369918823 Batch_id=781 Accuracy=88.10: 100%|██████████| 782/782 [00:35<00:00, 22.28it/s]\n"
          ]
        },
        {
          "output_type": "stream",
          "name": "stdout",
          "text": [
            "\n",
            "Test set: Average loss: 0.0058, Accuracy: 8733/10000 (87.33%)\n",
            "\n"
          ]
        }
      ],
      "source": [
        "# Training and Testing Loop\n",
        "EPOCHS = 50\n",
        "scheduler = StepLR(optimizer, step_size=10, gamma=0.1)\n",
        "for epoch in range(EPOCHS):\n",
        "    print(f\"EPOCH: {epoch}\")\n",
        "    train(model, device, train_loader, optimizer, epoch)z\n",
        "    test(model, device, test_loader)\n",
        "    scheduler.step()\n"
      ]
    },
    {
      "cell_type": "code",
      "execution_count": null,
      "id": "8075825f",
      "metadata": {
        "colab": {
          "base_uri": "https://localhost:8080/",
          "height": 853
        },
        "id": "8075825f",
        "outputId": "3e65b943-bb23-434a-a727-c2618bbe9823"
      },
      "outputs": [
        {
          "output_type": "display_data",
          "data": {
            "text/plain": [
              "<Figure size 1500x1000 with 4 Axes>"
            ],
            "image/png": "[encoded data removed]"
          },
          "metadata": {}
        }
      ],
      "source": [
        "# Plotting results\n",
        "import matplotlib.pyplot as plt\n",
        "fig, axs = plt.subplots(2,2,figsize=(15,10))\n",
        "axs[0, 0].plot([t.item() for t in train_losses])\n",
        "axs[0, 0].set_title(\"Training Loss\")\n",
        "axs[1, 0].plot(train_acc)\n",
        "axs[1, 0].set_title(\"Training Accuracy\")\n",
        "axs[0, 1].plot(test_losses)\n",
        "axs[0, 1].set_title(\"Test Loss\")\n",
        "axs[1, 1].plot(test_acc)\n",
        "axs[1, 1].set_title(\"Test Accuracy\")\n",
        "plt.show()"
      ]
    }
  ],
  "metadata": {
    "accelerator": "GPU",
    "colab": {
      "gpuType": "T4",
      "provenance": []
    },
    "kernelspec": {
      "display_name": "venv",
      "language": "python",
      "name": "python3"
    },
    "language_info": {
      "codemirror_mode": {
        "name": "ipython",
        "version": 3
      },
      "file_extension": ".py",
      "mimetype": "text/x-python",
      "name": "python",
      "nbconvert_exporter": "python",
      "pygments_lexer": "ipython3",
      "version": "3.13.6"
    }
  },
  "nbformat": 4,
  "nbformat_minor": 5
}