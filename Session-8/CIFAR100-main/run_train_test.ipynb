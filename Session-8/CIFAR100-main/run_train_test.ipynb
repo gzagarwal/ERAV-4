{
 "cells": [
  {
   "cell_type": "markdown",
   "id": "5827ef0e",
   "metadata": {
    "id": "5827ef0e"
   },
   "source": [
    "# CIFAR-100 Classification with ResNet34\n",
    "\n",
    "This notebook implements a modified ResNet34 architecture for CIFAR-100 classification, targeting 75% accuracy. The implementation includes several optimizations:\n",
    "\n",
    "- Adapted ResNet34 architecture for 32x32 images\n",
    "- Strong data augmentation strategy\n",
    "- One Cycle Learning Rate policy with warmup\n",
    "- Label smoothing and gradient clipping\n",
    "- Memory optimizations for efficient training"
   ]
  },
  {
   "cell_type": "markdown",
   "id": "caaac7fd",
   "metadata": {
    "id": "caaac7fd"
   },
   "source": [
    "## Training Configuration (Iteration 2)\n",
    "\n",
    "Key improvements in this iteration:\n",
    "1. Removed MaxPooling layers, using stride>1 convolutions for downsampling\n",
    "2. Enhanced data augmentation pipeline\n",
    "3. Added label smoothing (0.1) for better generalization\n",
    "4. Implemented OneCycleLR with 10% warmup phase\n",
    "5. Memory optimizations including gradient clipping and periodic cache clearing"
   ]
  },
  {
   "cell_type": "code",
   "execution_count": null,
   "id": "ca6db051",
   "metadata": {
    "execution": {
     "iopub.execute_input": "2025-10-11T07:02:30.134111Z",
     "iopub.status.busy": "2025-10-11T07:02:30.133515Z",
     "iopub.status.idle": "2025-10-11T07:02:30.160481Z",
     "shell.execute_reply": "2025-10-11T07:02:30.159764Z",
     "shell.execute_reply.started": "2025-10-11T07:02:30.134093Z"
    },
    "executionInfo": {
     "elapsed": 11447,
     "status": "ok",
     "timestamp": 1760028978563,
     "user": {
      "displayName": "Mohan",
      "userId": "06552445326308276007"
     },
     "user_tz": -330
    },
    "id": "ca6db051",
    "trusted": true
   },
   "outputs": [],
   "source": [
    "import torch\n",
    "import torch.optim as optim\n",
    "from torchvision import datasets, transforms\n",
    "from torch.utils.data import DataLoader\n",
    "from model_2 import ResNet34 as Net\n",
    "from train_2 import train, train_losses, train_acc\n",
    "from test import test, test_losses, test_acc\n",
    "from torchsummary import summary\n",
    "import torchvision\n",
    "import torch.nn as nn"
   ]
  },
  {
   "cell_type": "code",
   "execution_count": 5,
   "id": "78060b3d",
   "metadata": {
    "execution": {
     "iopub.execute_input": "2025-10-11T07:02:30.161411Z",
     "iopub.status.busy": "2025-10-11T07:02:30.161160Z",
     "iopub.status.idle": "2025-10-11T07:02:30.171641Z",
     "shell.execute_reply": "2025-10-11T07:02:30.170989Z",
     "shell.execute_reply.started": "2025-10-11T07:02:30.161389Z"
    },
    "executionInfo": {
     "elapsed": 1,
     "status": "ok",
     "timestamp": 1760028978566,
     "user": {
      "displayName": "Mohan",
      "userId": "06552445326308276007"
     },
     "user_tz": -330
    },
    "id": "78060b3d",
    "trusted": true
   },
   "outputs": [],
   "source": [
    "# Data transforms (use helpers from train.py)\n",
    "# from train_2 import train_transforms, test_transforms\n",
    "\n",
    "# Set augment=True to enable small augmentations during training\n",
    "train_transforms = train_transforms(augment=True)\n",
    "test_transforms = test_transforms()"
   ]
  },
  {
   "cell_type": "code",
   "execution_count": 6,
   "id": "52331208",
   "metadata": {
    "colab": {
     "base_uri": "https://localhost:8080/"
    },
    "execution": {
     "iopub.execute_input": "2025-10-11T07:02:30.172952Z",
     "iopub.status.busy": "2025-10-11T07:02:30.172292Z",
     "iopub.status.idle": "2025-10-11T07:02:37.591909Z",
     "shell.execute_reply": "2025-10-11T07:02:37.591296Z",
     "shell.execute_reply.started": "2025-10-11T07:02:30.172924Z"
    },
    "executionInfo": {
     "elapsed": 7042,
     "status": "ok",
     "timestamp": 1760028985610,
     "user": {
      "displayName": "Mohan",
      "userId": "06552445326308276007"
     },
     "user_tz": -330
    },
    "id": "52331208",
    "outputId": "7254c116-7ed9-45cb-f1d8-37f1f4aed444",
    "trusted": true
   },
   "outputs": [
    {
     "name": "stdout",
     "output_type": "stream",
     "text": [
      "\n",
      "Downloading and loading CIFAR-100 dataset...\n"
     ]
    },
    {
     "name": "stderr",
     "output_type": "stream",
     "text": [
      "100%|██████████| 169M/169M [00:03<00:00, 43.5MB/s] \n"
     ]
    }
   ],
   "source": [
    "print(\"\\nDownloading and loading CIFAR-100 dataset...\")\n",
    "\n",
    "# Dataset and DataLoader\n",
    "train_dataset = torchvision.datasets.CIFAR100(root='./data', train=True, download=True, transform=train_transforms)\n",
    "test_dataset  = torchvision.datasets.CIFAR100(root='./data', train=False, download=True, transform=test_transforms)\n",
    "\n",
    "# Reduce batch size to save memory\n",
    "train_loader = DataLoader(train_dataset, batch_size=128, shuffle=True, num_workers=2, pin_memory=True)\n",
    "test_loader = DataLoader(test_dataset, batch_size=128, shuffle=False, num_workers=2, pin_memory=True)"
   ]
  },
  {
   "cell_type": "code",
   "execution_count": null,
   "id": "231a50eb",
   "metadata": {
    "colab": {
     "base_uri": "https://localhost:8080/"
    },
    "execution": {
     "iopub.execute_input": "2025-10-11T07:02:37.592799Z",
     "iopub.status.busy": "2025-10-11T07:02:37.592591Z",
     "iopub.status.idle": "2025-10-11T07:02:38.633661Z",
     "shell.execute_reply": "2025-10-11T07:02:38.632987Z",
     "shell.execute_reply.started": "2025-10-11T07:02:37.592783Z"
    },
    "executionInfo": {
     "elapsed": 1629,
     "status": "ok",
     "timestamp": 1760028987250,
     "user": {
      "displayName": "Mohan",
      "userId": "06552445326308276007"
     },
     "user_tz": -330
    },
    "id": "231a50eb",
    "outputId": "eeb41277-9c24-44f2-899f-e1cba7fae0fe",
    "trusted": true
   },
   "outputs": [
    {
     "name": "stdout",
     "output_type": "stream",
     "text": [
      "----------------------------------------------------------------\n",
      "        Layer (type)               Output Shape         Param #\n",
      "================================================================\n",
      "            Conv2d-1           [-1, 64, 32, 32]           1,728\n",
      "       BatchNorm2d-2           [-1, 64, 32, 32]             128\n",
      "              ReLU-3           [-1, 64, 32, 32]               0\n",
      "            Conv2d-4           [-1, 64, 32, 32]          36,864\n",
      "       BatchNorm2d-5           [-1, 64, 32, 32]             128\n",
      "              ReLU-6           [-1, 64, 32, 32]               0\n",
      "            Conv2d-7           [-1, 64, 32, 32]          36,864\n",
      "       BatchNorm2d-8           [-1, 64, 32, 32]             128\n",
      "              ReLU-9           [-1, 64, 32, 32]               0\n",
      "           Conv2d-10           [-1, 64, 32, 32]          36,864\n",
      "      BatchNorm2d-11           [-1, 64, 32, 32]             128\n",
      "             ReLU-12           [-1, 64, 32, 32]               0\n",
      "           Conv2d-13           [-1, 64, 32, 32]          36,864\n",
      "      BatchNorm2d-14           [-1, 64, 32, 32]             128\n",
      "             ReLU-15           [-1, 64, 32, 32]               0\n",
      "           Conv2d-16           [-1, 64, 32, 32]          36,864\n",
      "      BatchNorm2d-17           [-1, 64, 32, 32]             128\n",
      "             ReLU-18           [-1, 64, 32, 32]               0\n",
      "           Conv2d-19           [-1, 64, 32, 32]          36,864\n",
      "      BatchNorm2d-20           [-1, 64, 32, 32]             128\n",
      "             ReLU-21           [-1, 64, 32, 32]               0\n",
      "           Conv2d-22          [-1, 128, 16, 16]          73,728\n",
      "      BatchNorm2d-23          [-1, 128, 16, 16]             256\n",
      "             ReLU-24          [-1, 128, 16, 16]               0\n",
      "           Conv2d-25          [-1, 128, 16, 16]         147,456\n",
      "      BatchNorm2d-26          [-1, 128, 16, 16]             256\n",
      "           Conv2d-27          [-1, 128, 16, 16]           8,192\n",
      "      BatchNorm2d-28          [-1, 128, 16, 16]             256\n",
      "             ReLU-29          [-1, 128, 16, 16]               0\n",
      "           Conv2d-30          [-1, 128, 16, 16]         147,456\n",
      "      BatchNorm2d-31          [-1, 128, 16, 16]             256\n",
      "             ReLU-32          [-1, 128, 16, 16]               0\n",
      "           Conv2d-33          [-1, 128, 16, 16]         147,456\n",
      "      BatchNorm2d-34          [-1, 128, 16, 16]             256\n",
      "             ReLU-35          [-1, 128, 16, 16]               0\n",
      "           Conv2d-36          [-1, 128, 16, 16]         147,456\n",
      "      BatchNorm2d-37          [-1, 128, 16, 16]             256\n",
      "             ReLU-38          [-1, 128, 16, 16]               0\n",
      "           Conv2d-39          [-1, 128, 16, 16]         147,456\n",
      "      BatchNorm2d-40          [-1, 128, 16, 16]             256\n",
      "             ReLU-41          [-1, 128, 16, 16]               0\n",
      "           Conv2d-42          [-1, 128, 16, 16]         147,456\n",
      "      BatchNorm2d-43          [-1, 128, 16, 16]             256\n",
      "             ReLU-44          [-1, 128, 16, 16]               0\n",
      "           Conv2d-45          [-1, 128, 16, 16]         147,456\n",
      "      BatchNorm2d-46          [-1, 128, 16, 16]             256\n",
      "             ReLU-47          [-1, 128, 16, 16]               0\n",
      "           Conv2d-48            [-1, 256, 8, 8]         294,912\n",
      "      BatchNorm2d-49            [-1, 256, 8, 8]             512\n",
      "             ReLU-50            [-1, 256, 8, 8]               0\n",
      "           Conv2d-51            [-1, 256, 8, 8]         589,824\n",
      "      BatchNorm2d-52            [-1, 256, 8, 8]             512\n",
      "           Conv2d-53            [-1, 256, 8, 8]          32,768\n",
      "      BatchNorm2d-54            [-1, 256, 8, 8]             512\n",
      "             ReLU-55            [-1, 256, 8, 8]               0\n",
      "           Conv2d-56            [-1, 256, 8, 8]         589,824\n",
      "      BatchNorm2d-57            [-1, 256, 8, 8]             512\n",
      "             ReLU-58            [-1, 256, 8, 8]               0\n",
      "           Conv2d-59            [-1, 256, 8, 8]         589,824\n",
      "      BatchNorm2d-60            [-1, 256, 8, 8]             512\n",
      "             ReLU-61            [-1, 256, 8, 8]               0\n",
      "           Conv2d-62            [-1, 256, 8, 8]         589,824\n",
      "      BatchNorm2d-63            [-1, 256, 8, 8]             512\n",
      "             ReLU-64            [-1, 256, 8, 8]               0\n",
      "           Conv2d-65            [-1, 256, 8, 8]         589,824\n",
      "      BatchNorm2d-66            [-1, 256, 8, 8]             512\n",
      "             ReLU-67            [-1, 256, 8, 8]               0\n",
      "           Conv2d-68            [-1, 256, 8, 8]         589,824\n",
      "      BatchNorm2d-69            [-1, 256, 8, 8]             512\n",
      "             ReLU-70            [-1, 256, 8, 8]               0\n",
      "           Conv2d-71            [-1, 256, 8, 8]         589,824\n",
      "      BatchNorm2d-72            [-1, 256, 8, 8]             512\n",
      "             ReLU-73            [-1, 256, 8, 8]               0\n",
      "           Conv2d-74            [-1, 256, 8, 8]         589,824\n",
      "      BatchNorm2d-75            [-1, 256, 8, 8]             512\n",
      "             ReLU-76            [-1, 256, 8, 8]               0\n",
      "           Conv2d-77            [-1, 256, 8, 8]         589,824\n",
      "      BatchNorm2d-78            [-1, 256, 8, 8]             512\n",
      "             ReLU-79            [-1, 256, 8, 8]               0\n",
      "           Conv2d-80            [-1, 256, 8, 8]         589,824\n",
      "      BatchNorm2d-81            [-1, 256, 8, 8]             512\n",
      "             ReLU-82            [-1, 256, 8, 8]               0\n",
      "           Conv2d-83            [-1, 256, 8, 8]         589,824\n",
      "      BatchNorm2d-84            [-1, 256, 8, 8]             512\n",
      "             ReLU-85            [-1, 256, 8, 8]               0\n",
      "           Conv2d-86            [-1, 512, 4, 4]       1,179,648\n",
      "      BatchNorm2d-87            [-1, 512, 4, 4]           1,024\n",
      "             ReLU-88            [-1, 512, 4, 4]               0\n",
      "           Conv2d-89            [-1, 512, 4, 4]       2,359,296\n",
      "      BatchNorm2d-90            [-1, 512, 4, 4]           1,024\n",
      "           Conv2d-91            [-1, 512, 4, 4]         131,072\n",
      "      BatchNorm2d-92            [-1, 512, 4, 4]           1,024\n",
      "             ReLU-93            [-1, 512, 4, 4]               0\n",
      "           Conv2d-94            [-1, 512, 4, 4]       2,359,296\n",
      "      BatchNorm2d-95            [-1, 512, 4, 4]           1,024\n",
      "             ReLU-96            [-1, 512, 4, 4]               0\n",
      "           Conv2d-97            [-1, 512, 4, 4]       2,359,296\n",
      "      BatchNorm2d-98            [-1, 512, 4, 4]           1,024\n",
      "             ReLU-99            [-1, 512, 4, 4]               0\n",
      "          Conv2d-100            [-1, 512, 4, 4]       2,359,296\n",
      "     BatchNorm2d-101            [-1, 512, 4, 4]           1,024\n",
      "            ReLU-102            [-1, 512, 4, 4]               0\n",
      "          Conv2d-103            [-1, 512, 4, 4]       2,359,296\n",
      "     BatchNorm2d-104            [-1, 512, 4, 4]           1,024\n",
      "            ReLU-105            [-1, 512, 4, 4]               0\n",
      "AdaptiveAvgPool2d-106            [-1, 512, 1, 1]               0\n",
      "         Dropout-107                  [-1, 512]               0\n",
      "          Linear-108                  [-1, 100]          51,300\n",
      "================================================================\n",
      "Total params: 21,328,292\n",
      "Trainable params: 21,328,292\n",
      "Non-trainable params: 0\n",
      "----------------------------------------------------------------\n",
      "Input size (MB): 0.01\n",
      "Forward/backward pass size (MB): 23.01\n",
      "Params size (MB): 81.36\n",
      "Estimated Total Size (MB): 104.38\n",
      "----------------------------------------------------------------\n"
     ]
    }
   ],
   "source": [
    "LEARNING_RATE = 0.1\n",
    "MOMENTUM = 0.9\n",
    "WEIGHT_DECAY = 0.0005  # Reduced for better generalization\n",
    "EPOCHS = 300\n",
    "\n",
    "# Model, device, optimizer\n",
    "use_cuda = torch.cuda.is_available()\n",
    "device = torch.device(\"cuda\" if use_cuda else \"cpu\")\n",
    "model = Net().to(device)\n",
    "\n",
    "criterion = nn.CrossEntropyLoss()\n",
    "\n",
    "# Optimizer with improved settings\n",
    "optimizer = optim.SGD(\n",
    "    model.parameters(), \n",
    "    lr=LEARNING_RATE, \n",
    "    momentum=MOMENTUM, \n",
    "    weight_decay=WEIGHT_DECAY, \n",
    "    nesterov=True\n",
    ")\n",
    "\n",
    "# Enhanced Learning Rate Scheduler with warmup\n",
    "from torch.optim.lr_scheduler import OneCycleLR\n",
    "\n",
    "\n",
    "scheduler = OneCycleLR(\n",
    "    optimizer,\n",
    "    max_lr=LEARNING_RATE,\n",
    "    epochs=EPOCHS,\n",
    "    steps_per_epoch=len(train_loader),\n",
    "    pct_start=0.1,  # 10% warmup\n",
    "    div_factor=10,  # Initial LR = max_lr/div_factor\n",
    "    final_div_factor=100  # Final LR = max_lr/final_div_factor\n",
    ")\n",
    "\n",
    "summary(model, input_size=(3, 32, 32))"
   ]
  },
  {
   "cell_type": "code",
   "execution_count": null,
   "id": "e5bdbaf2",
   "metadata": {
    "execution": {
     "iopub.execute_input": "2025-10-11T07:02:38.639677Z",
     "iopub.status.busy": "2025-10-11T07:02:38.639422Z"
    },
    "trusted": true
   },
   "outputs": [
    {
     "name": "stdout",
     "output_type": "stream",
     "text": [
      "🚀 No checkpoint found. Starting training from scratch.\n",
      "\n",
      "EPOCH: 1/300\n"
     ]
    },
    {
     "name": "stderr",
     "output_type": "stream",
     "text": [
      "Loss=4.037995338439941 Batch_id=390 Accuracy=5.79: 100%|██████████| 391/391 [00:43<00:00,  8.94it/s] \n"
     ]
    },
    {
     "name": "stdout",
     "output_type": "stream",
     "text": [
      "\n",
      "Test set: Average loss: 3.6660, Accuracy: 1365/10000 (13.65%)\n",
      "\n",
      "💾 Checkpoint saved at epoch 1\n",
      "\n",
      "EPOCH: 2/300\n"
     ]
    },
    {
     "name": "stderr",
     "output_type": "stream",
     "text": [
      "Loss=3.838561534881592 Batch_id=390 Accuracy=13.99: 100%|██████████| 391/391 [00:43<00:00,  9.06it/s] \n"
     ]
    },
    {
     "name": "stdout",
     "output_type": "stream",
     "text": [
      "\n",
      "Test set: Average loss: 3.2251, Accuracy: 2087/10000 (20.87%)\n",
      "\n",
      "💾 Checkpoint saved at epoch 2\n",
      "\n",
      "EPOCH: 3/300\n"
     ]
    },
    {
     "name": "stderr",
     "output_type": "stream",
     "text": [
      "Loss=3.4785165786743164 Batch_id=390 Accuracy=20.16: 100%|██████████| 391/391 [00:43<00:00,  9.07it/s]\n"
     ]
    },
    {
     "name": "stdout",
     "output_type": "stream",
     "text": [
      "\n",
      "Test set: Average loss: 2.9369, Accuracy: 2576/10000 (25.76%)\n",
      "\n",
      "💾 Checkpoint saved at epoch 3\n",
      "\n",
      "EPOCH: 4/300\n"
     ]
    },
    {
     "name": "stderr",
     "output_type": "stream",
     "text": [
      "Loss=3.3137869834899902 Batch_id=390 Accuracy=25.31: 100%|██████████| 391/391 [00:43<00:00,  9.07it/s]\n"
     ]
    },
    {
     "name": "stdout",
     "output_type": "stream",
     "text": [
      "\n",
      "Test set: Average loss: 2.9253, Accuracy: 2819/10000 (28.19%)\n",
      "\n",
      "💾 Checkpoint saved at epoch 4\n",
      "\n",
      "EPOCH: 5/300\n"
     ]
    },
    {
     "name": "stderr",
     "output_type": "stream",
     "text": [
      "Loss=2.898136615753174 Batch_id=390 Accuracy=29.91: 100%|██████████| 391/391 [00:43<00:00,  9.07it/s] \n"
     ]
    },
    {
     "name": "stdout",
     "output_type": "stream",
     "text": [
      "\n",
      "Test set: Average loss: 2.4565, Accuracy: 3631/10000 (36.31%)\n",
      "\n",
      "💾 Checkpoint saved at epoch 5\n",
      "\n",
      "EPOCH: 6/300\n"
     ]
    },
    {
     "name": "stderr",
     "output_type": "stream",
     "text": [
      "Loss=3.0180349349975586 Batch_id=390 Accuracy=33.56: 100%|██████████| 391/391 [00:43<00:00,  9.08it/s]\n"
     ]
    },
    {
     "name": "stdout",
     "output_type": "stream",
     "text": [
      "\n",
      "Test set: Average loss: 2.4860, Accuracy: 3531/10000 (35.31%)\n",
      "\n",
      "💾 Checkpoint saved at epoch 6\n",
      "\n",
      "EPOCH: 7/300\n"
     ]
    },
    {
     "name": "stderr",
     "output_type": "stream",
     "text": [
      "Loss=2.6526575088500977 Batch_id=390 Accuracy=36.56: 100%|██████████| 391/391 [00:43<00:00,  9.09it/s]\n"
     ]
    },
    {
     "name": "stdout",
     "output_type": "stream",
     "text": [
      "\n",
      "Test set: Average loss: 2.4663, Accuracy: 3639/10000 (36.39%)\n",
      "\n",
      "💾 Checkpoint saved at epoch 7\n",
      "\n",
      "EPOCH: 8/300\n"
     ]
    },
    {
     "name": "stderr",
     "output_type": "stream",
     "text": [
      "Loss=2.7083988189697266 Batch_id=390 Accuracy=39.01: 100%|██████████| 391/391 [00:43<00:00,  9.07it/s]\n"
     ]
    },
    {
     "name": "stdout",
     "output_type": "stream",
     "text": [
      "\n",
      "Test set: Average loss: 2.1648, Accuracy: 4270/10000 (42.70%)\n",
      "\n",
      "💾 Checkpoint saved at epoch 8\n",
      "\n",
      "EPOCH: 9/300\n"
     ]
    },
    {
     "name": "stderr",
     "output_type": "stream",
     "text": [
      "Loss=2.5283772945404053 Batch_id=390 Accuracy=41.29: 100%|██████████| 391/391 [00:43<00:00,  9.09it/s]\n"
     ]
    },
    {
     "name": "stdout",
     "output_type": "stream",
     "text": [
      "\n",
      "Test set: Average loss: 2.2007, Accuracy: 4235/10000 (42.35%)\n",
      "\n",
      "💾 Checkpoint saved at epoch 9\n",
      "\n",
      "EPOCH: 10/300\n"
     ]
    },
    {
     "name": "stderr",
     "output_type": "stream",
     "text": [
      "Loss=2.5366218090057373 Batch_id=390 Accuracy=42.92: 100%|██████████| 391/391 [00:43<00:00,  9.09it/s]\n"
     ]
    },
    {
     "name": "stdout",
     "output_type": "stream",
     "text": [
      "\n",
      "Test set: Average loss: 2.0111, Accuracy: 4656/10000 (46.56%)\n",
      "\n",
      "💾 Checkpoint saved at epoch 10\n",
      "\n",
      "EPOCH: 11/300\n"
     ]
    },
    {
     "name": "stderr",
     "output_type": "stream",
     "text": [
      "Loss=2.346264362335205 Batch_id=390 Accuracy=44.34: 100%|██████████| 391/391 [00:43<00:00,  9.08it/s] \n"
     ]
    },
    {
     "name": "stdout",
     "output_type": "stream",
     "text": [
      "\n",
      "Test set: Average loss: 2.0171, Accuracy: 4598/10000 (45.98%)\n",
      "\n",
      "💾 Checkpoint saved at epoch 11\n",
      "\n",
      "EPOCH: 12/300\n"
     ]
    },
    {
     "name": "stderr",
     "output_type": "stream",
     "text": [
      "Loss=2.6170222759246826 Batch_id=390 Accuracy=45.54: 100%|██████████| 391/391 [00:43<00:00,  9.08it/s]\n"
     ]
    },
    {
     "name": "stdout",
     "output_type": "stream",
     "text": [
      "\n",
      "Test set: Average loss: 1.9989, Accuracy: 4707/10000 (47.07%)\n",
      "\n",
      "💾 Checkpoint saved at epoch 12\n",
      "\n",
      "EPOCH: 13/300\n"
     ]
    },
    {
     "name": "stderr",
     "output_type": "stream",
     "text": [
      "Loss=2.7238619327545166 Batch_id=390 Accuracy=46.87: 100%|██████████| 391/391 [00:43<00:00,  9.09it/s]\n"
     ]
    },
    {
     "name": "stdout",
     "output_type": "stream",
     "text": [
      "\n",
      "Test set: Average loss: 1.9819, Accuracy: 4704/10000 (47.04%)\n",
      "\n",
      "💾 Checkpoint saved at epoch 13\n",
      "\n",
      "EPOCH: 14/300\n"
     ]
    },
    {
     "name": "stderr",
     "output_type": "stream",
     "text": [
      "Loss=2.4802913665771484 Batch_id=390 Accuracy=47.70: 100%|██████████| 391/391 [00:43<00:00,  9.08it/s]\n"
     ]
    },
    {
     "name": "stdout",
     "output_type": "stream",
     "text": [
      "\n",
      "Test set: Average loss: 2.0106, Accuracy: 4701/10000 (47.01%)\n",
      "\n",
      "💾 Checkpoint saved at epoch 14\n",
      "\n",
      "EPOCH: 15/300\n"
     ]
    },
    {
     "name": "stderr",
     "output_type": "stream",
     "text": [
      "Loss=2.4950175285339355 Batch_id=390 Accuracy=48.56: 100%|██████████| 391/391 [00:43<00:00,  9.08it/s]\n"
     ]
    },
    {
     "name": "stdout",
     "output_type": "stream",
     "text": [
      "\n",
      "Test set: Average loss: 2.1925, Accuracy: 4378/10000 (43.78%)\n",
      "\n",
      "💾 Checkpoint saved at epoch 15\n",
      "\n",
      "EPOCH: 16/300\n"
     ]
    },
    {
     "name": "stderr",
     "output_type": "stream",
     "text": [
      "Loss=2.5384504795074463 Batch_id=390 Accuracy=49.56: 100%|██████████| 391/391 [00:43<00:00,  9.08it/s]\n"
     ]
    },
    {
     "name": "stdout",
     "output_type": "stream",
     "text": [
      "\n",
      "Test set: Average loss: 1.9966, Accuracy: 4752/10000 (47.52%)\n",
      "\n",
      "💾 Checkpoint saved at epoch 16\n",
      "\n",
      "EPOCH: 17/300\n"
     ]
    },
    {
     "name": "stderr",
     "output_type": "stream",
     "text": [
      "Loss=1.9225138425827026 Batch_id=390 Accuracy=50.47: 100%|██████████| 391/391 [00:43<00:00,  9.08it/s]\n"
     ]
    },
    {
     "name": "stdout",
     "output_type": "stream",
     "text": [
      "\n",
      "Test set: Average loss: 1.7166, Accuracy: 5403/10000 (54.03%)\n",
      "\n",
      "💾 Checkpoint saved at epoch 17\n",
      "\n",
      "EPOCH: 18/300\n"
     ]
    },
    {
     "name": "stderr",
     "output_type": "stream",
     "text": [
      "Loss=2.5580153465270996 Batch_id=390 Accuracy=51.01: 100%|██████████| 391/391 [00:43<00:00,  9.08it/s]\n"
     ]
    },
    {
     "name": "stdout",
     "output_type": "stream",
     "text": [
      "\n",
      "Test set: Average loss: 1.9611, Accuracy: 4827/10000 (48.27%)\n",
      "\n",
      "💾 Checkpoint saved at epoch 18\n",
      "\n",
      "EPOCH: 19/300\n"
     ]
    },
    {
     "name": "stderr",
     "output_type": "stream",
     "text": [
      "Loss=2.2294106483459473 Batch_id=390 Accuracy=51.97: 100%|██████████| 391/391 [00:43<00:00,  9.07it/s]\n"
     ]
    },
    {
     "name": "stdout",
     "output_type": "stream",
     "text": [
      "\n",
      "Test set: Average loss: 2.0977, Accuracy: 4606/10000 (46.06%)\n",
      "\n",
      "💾 Checkpoint saved at epoch 19\n",
      "\n",
      "EPOCH: 20/300\n"
     ]
    },
    {
     "name": "stderr",
     "output_type": "stream",
     "text": [
      "Loss=2.134110927581787 Batch_id=390 Accuracy=52.40: 100%|██████████| 391/391 [00:43<00:00,  9.09it/s] \n"
     ]
    },
    {
     "name": "stdout",
     "output_type": "stream",
     "text": [
      "\n",
      "Test set: Average loss: 1.6976, Accuracy: 5423/10000 (54.23%)\n",
      "\n",
      "💾 Checkpoint saved at epoch 20\n",
      "\n",
      "EPOCH: 21/300\n"
     ]
    },
    {
     "name": "stderr",
     "output_type": "stream",
     "text": [
      "Loss=2.2309651374816895 Batch_id=390 Accuracy=53.15: 100%|██████████| 391/391 [00:42<00:00,  9.10it/s]\n"
     ]
    },
    {
     "name": "stdout",
     "output_type": "stream",
     "text": [
      "\n",
      "Test set: Average loss: 1.7060, Accuracy: 5454/10000 (54.54%)\n",
      "\n",
      "💾 Checkpoint saved at epoch 21\n",
      "\n",
      "EPOCH: 22/300\n"
     ]
    },
    {
     "name": "stderr",
     "output_type": "stream",
     "text": [
      "Loss=2.2796270847320557 Batch_id=390 Accuracy=53.83: 100%|██████████| 391/391 [00:43<00:00,  9.08it/s]\n"
     ]
    },
    {
     "name": "stdout",
     "output_type": "stream",
     "text": [
      "\n",
      "Test set: Average loss: 1.7738, Accuracy: 5303/10000 (53.03%)\n",
      "\n",
      "💾 Checkpoint saved at epoch 22\n",
      "\n",
      "EPOCH: 23/300\n"
     ]
    },
    {
     "name": "stderr",
     "output_type": "stream",
     "text": [
      "Loss=2.2020788192749023 Batch_id=390 Accuracy=54.54: 100%|██████████| 391/391 [00:43<00:00,  9.08it/s]\n"
     ]
    },
    {
     "name": "stdout",
     "output_type": "stream",
     "text": [
      "\n",
      "Test set: Average loss: 1.7250, Accuracy: 5468/10000 (54.68%)\n",
      "\n",
      "💾 Checkpoint saved at epoch 23\n",
      "\n",
      "EPOCH: 24/300\n"
     ]
    },
    {
     "name": "stderr",
     "output_type": "stream",
     "text": [
      "Loss=2.213303804397583 Batch_id=390 Accuracy=54.83: 100%|██████████| 391/391 [00:43<00:00,  9.08it/s] \n"
     ]
    },
    {
     "name": "stdout",
     "output_type": "stream",
     "text": [
      "\n",
      "Test set: Average loss: 1.7275, Accuracy: 5520/10000 (55.20%)\n",
      "\n",
      "💾 Checkpoint saved at epoch 24\n",
      "\n",
      "EPOCH: 25/300\n"
     ]
    },
    {
     "name": "stderr",
     "output_type": "stream",
     "text": [
      "Loss=2.29181170463562 Batch_id=390 Accuracy=55.41: 100%|██████████| 391/391 [00:43<00:00,  9.09it/s]  \n"
     ]
    },
    {
     "name": "stdout",
     "output_type": "stream",
     "text": [
      "\n",
      "Test set: Average loss: 1.7303, Accuracy: 5514/10000 (55.14%)\n",
      "\n",
      "💾 Checkpoint saved at epoch 25\n",
      "\n",
      "EPOCH: 26/300\n"
     ]
    },
    {
     "name": "stderr",
     "output_type": "stream",
     "text": [
      "Loss=2.149336099624634 Batch_id=390 Accuracy=55.40: 100%|██████████| 391/391 [00:43<00:00,  9.08it/s] \n"
     ]
    },
    {
     "name": "stdout",
     "output_type": "stream",
     "text": [
      "\n",
      "Test set: Average loss: 1.6605, Accuracy: 5633/10000 (56.33%)\n",
      "\n",
      "💾 Checkpoint saved at epoch 26\n",
      "\n",
      "EPOCH: 27/300\n"
     ]
    },
    {
     "name": "stderr",
     "output_type": "stream",
     "text": [
      "Loss=2.158798933029175 Batch_id=390 Accuracy=56.10: 100%|██████████| 391/391 [00:43<00:00,  9.09it/s] \n"
     ]
    },
    {
     "name": "stdout",
     "output_type": "stream",
     "text": [
      "\n",
      "Test set: Average loss: 1.8133, Accuracy: 5231/10000 (52.31%)\n",
      "\n",
      "💾 Checkpoint saved at epoch 27\n",
      "\n",
      "EPOCH: 28/300\n"
     ]
    },
    {
     "name": "stderr",
     "output_type": "stream",
     "text": [
      "Loss=2.0639376640319824 Batch_id=390 Accuracy=56.07: 100%|██████████| 391/391 [00:43<00:00,  9.08it/s]\n"
     ]
    },
    {
     "name": "stdout",
     "output_type": "stream",
     "text": [
      "\n",
      "Test set: Average loss: 1.7878, Accuracy: 5344/10000 (53.44%)\n",
      "\n",
      "💾 Checkpoint saved at epoch 28\n",
      "\n",
      "EPOCH: 29/300\n"
     ]
    },
    {
     "name": "stderr",
     "output_type": "stream",
     "text": [
      "Loss=2.118359088897705 Batch_id=390 Accuracy=56.25: 100%|██████████| 391/391 [00:43<00:00,  9.08it/s] \n"
     ]
    },
    {
     "name": "stdout",
     "output_type": "stream",
     "text": [
      "\n",
      "Test set: Average loss: 1.6736, Accuracy: 5657/10000 (56.57%)\n",
      "\n",
      "💾 Checkpoint saved at epoch 29\n",
      "\n",
      "EPOCH: 30/300\n"
     ]
    },
    {
     "name": "stderr",
     "output_type": "stream",
     "text": [
      "Loss=2.274402618408203 Batch_id=390 Accuracy=56.84: 100%|██████████| 391/391 [00:43<00:00,  9.07it/s] \n"
     ]
    },
    {
     "name": "stdout",
     "output_type": "stream",
     "text": [
      "\n",
      "Test set: Average loss: 1.8377, Accuracy: 5208/10000 (52.08%)\n",
      "\n",
      "💾 Checkpoint saved at epoch 30\n",
      "\n",
      "EPOCH: 31/300\n"
     ]
    },
    {
     "name": "stderr",
     "output_type": "stream",
     "text": [
      "Loss=2.4618072509765625 Batch_id=390 Accuracy=56.89: 100%|██████████| 391/391 [00:43<00:00,  9.08it/s]\n"
     ]
    },
    {
     "name": "stdout",
     "output_type": "stream",
     "text": [
      "\n",
      "Test set: Average loss: 1.6536, Accuracy: 5706/10000 (57.06%)\n",
      "\n",
      "💾 Checkpoint saved at epoch 31\n",
      "\n",
      "EPOCH: 32/300\n"
     ]
    },
    {
     "name": "stderr",
     "output_type": "stream",
     "text": [
      "Loss=2.0812883377075195 Batch_id=390 Accuracy=57.31: 100%|██████████| 391/391 [00:43<00:00,  9.08it/s]\n"
     ]
    },
    {
     "name": "stdout",
     "output_type": "stream",
     "text": [
      "\n",
      "Test set: Average loss: 1.7355, Accuracy: 5407/10000 (54.07%)\n",
      "\n",
      "💾 Checkpoint saved at epoch 32\n",
      "\n",
      "EPOCH: 33/300\n"
     ]
    },
    {
     "name": "stderr",
     "output_type": "stream",
     "text": [
      "Loss=2.1066436767578125 Batch_id=390 Accuracy=57.52: 100%|██████████| 391/391 [00:43<00:00,  9.08it/s]\n"
     ]
    },
    {
     "name": "stdout",
     "output_type": "stream",
     "text": [
      "\n",
      "Test set: Average loss: 1.7057, Accuracy: 5547/10000 (55.47%)\n",
      "\n",
      "💾 Checkpoint saved at epoch 33\n",
      "\n",
      "EPOCH: 34/300\n"
     ]
    },
    {
     "name": "stderr",
     "output_type": "stream",
     "text": [
      "Loss=2.1405839920043945 Batch_id=390 Accuracy=57.81: 100%|██████████| 391/391 [00:43<00:00,  9.08it/s]\n"
     ]
    },
    {
     "name": "stdout",
     "output_type": "stream",
     "text": [
      "\n",
      "Test set: Average loss: 1.9223, Accuracy: 5154/10000 (51.54%)\n",
      "\n",
      "💾 Checkpoint saved at epoch 34\n",
      "\n",
      "EPOCH: 35/300\n"
     ]
    },
    {
     "name": "stderr",
     "output_type": "stream",
     "text": [
      "Loss=1.82216477394104 Batch_id=390 Accuracy=58.21: 100%|██████████| 391/391 [00:43<00:00,  9.08it/s]  \n"
     ]
    },
    {
     "name": "stdout",
     "output_type": "stream",
     "text": [
      "\n",
      "Test set: Average loss: 1.6690, Accuracy: 5726/10000 (57.26%)\n",
      "\n",
      "💾 Checkpoint saved at epoch 35\n",
      "\n",
      "EPOCH: 36/300\n"
     ]
    },
    {
     "name": "stderr",
     "output_type": "stream",
     "text": [
      "Loss=2.2976722717285156 Batch_id=390 Accuracy=58.27: 100%|██████████| 391/391 [00:43<00:00,  9.09it/s]\n"
     ]
    },
    {
     "name": "stdout",
     "output_type": "stream",
     "text": [
      "\n",
      "Test set: Average loss: 1.5717, Accuracy: 5872/10000 (58.72%)\n",
      "\n",
      "💾 Checkpoint saved at epoch 36\n",
      "\n",
      "EPOCH: 37/300\n"
     ]
    },
    {
     "name": "stderr",
     "output_type": "stream",
     "text": [
      "Loss=2.2284812927246094 Batch_id=390 Accuracy=58.60: 100%|██████████| 391/391 [00:43<00:00,  9.08it/s]\n"
     ]
    },
    {
     "name": "stdout",
     "output_type": "stream",
     "text": [
      "\n",
      "Test set: Average loss: 1.6820, Accuracy: 5672/10000 (56.72%)\n",
      "\n",
      "💾 Checkpoint saved at epoch 37\n",
      "\n",
      "EPOCH: 38/300\n"
     ]
    },
    {
     "name": "stderr",
     "output_type": "stream",
     "text": [
      "Loss=2.3047425746917725 Batch_id=390 Accuracy=58.73: 100%|██████████| 391/391 [00:43<00:00,  9.09it/s]\n"
     ]
    },
    {
     "name": "stdout",
     "output_type": "stream",
     "text": [
      "\n",
      "Test set: Average loss: 1.5996, Accuracy: 5871/10000 (58.71%)\n",
      "\n",
      "💾 Checkpoint saved at epoch 38\n",
      "\n",
      "EPOCH: 39/300\n"
     ]
    },
    {
     "name": "stderr",
     "output_type": "stream",
     "text": [
      "Loss=2.1129579544067383 Batch_id=390 Accuracy=58.63: 100%|██████████| 391/391 [00:43<00:00,  9.09it/s]\n"
     ]
    },
    {
     "name": "stdout",
     "output_type": "stream",
     "text": [
      "\n",
      "Test set: Average loss: 1.7239, Accuracy: 5594/10000 (55.94%)\n",
      "\n",
      "💾 Checkpoint saved at epoch 39\n",
      "\n",
      "EPOCH: 40/300\n"
     ]
    },
    {
     "name": "stderr",
     "output_type": "stream",
     "text": [
      "Loss=1.9126315116882324 Batch_id=390 Accuracy=59.13: 100%|██████████| 391/391 [00:43<00:00,  9.08it/s]\n"
     ]
    },
    {
     "name": "stdout",
     "output_type": "stream",
     "text": [
      "\n",
      "Test set: Average loss: 1.6924, Accuracy: 5669/10000 (56.69%)\n",
      "\n",
      "💾 Checkpoint saved at epoch 40\n",
      "\n",
      "EPOCH: 41/300\n"
     ]
    },
    {
     "name": "stderr",
     "output_type": "stream",
     "text": [
      "Loss=1.9921132326126099 Batch_id=390 Accuracy=59.30: 100%|██████████| 391/391 [00:43<00:00,  9.09it/s]\n"
     ]
    },
    {
     "name": "stdout",
     "output_type": "stream",
     "text": [
      "\n",
      "Test set: Average loss: 1.6833, Accuracy: 5714/10000 (57.14%)\n",
      "\n",
      "💾 Checkpoint saved at epoch 41\n",
      "\n",
      "EPOCH: 42/300\n"
     ]
    },
    {
     "name": "stderr",
     "output_type": "stream",
     "text": [
      "Loss=1.7585928440093994 Batch_id=390 Accuracy=59.43: 100%|██████████| 391/391 [00:43<00:00,  9.09it/s]\n"
     ]
    },
    {
     "name": "stdout",
     "output_type": "stream",
     "text": [
      "\n",
      "Test set: Average loss: 1.6853, Accuracy: 5689/10000 (56.89%)\n",
      "\n",
      "💾 Checkpoint saved at epoch 42\n",
      "\n",
      "EPOCH: 43/300\n"
     ]
    },
    {
     "name": "stderr",
     "output_type": "stream",
     "text": [
      "Loss=2.128376007080078 Batch_id=390 Accuracy=59.69: 100%|██████████| 391/391 [00:43<00:00,  9.08it/s] \n"
     ]
    },
    {
     "name": "stdout",
     "output_type": "stream",
     "text": [
      "\n",
      "Test set: Average loss: 1.6045, Accuracy: 5882/10000 (58.82%)\n",
      "\n",
      "💾 Checkpoint saved at epoch 43\n",
      "\n",
      "EPOCH: 44/300\n"
     ]
    },
    {
     "name": "stderr",
     "output_type": "stream",
     "text": [
      "Loss=2.18102765083313 Batch_id=390 Accuracy=59.78: 100%|██████████| 391/391 [00:43<00:00,  9.09it/s]  \n"
     ]
    },
    {
     "name": "stdout",
     "output_type": "stream",
     "text": [
      "\n",
      "Test set: Average loss: 1.6196, Accuracy: 5790/10000 (57.90%)\n",
      "\n",
      "💾 Checkpoint saved at epoch 44\n",
      "\n",
      "EPOCH: 45/300\n"
     ]
    },
    {
     "name": "stderr",
     "output_type": "stream",
     "text": [
      "Loss=2.3417820930480957 Batch_id=390 Accuracy=59.82: 100%|██████████| 391/391 [00:43<00:00,  9.08it/s]\n"
     ]
    },
    {
     "name": "stdout",
     "output_type": "stream",
     "text": [
      "\n",
      "Test set: Average loss: 1.8039, Accuracy: 5433/10000 (54.33%)\n",
      "\n",
      "💾 Checkpoint saved at epoch 45\n",
      "\n",
      "EPOCH: 46/300\n"
     ]
    },
    {
     "name": "stderr",
     "output_type": "stream",
     "text": [
      "Loss=2.245455741882324 Batch_id=390 Accuracy=60.14: 100%|██████████| 391/391 [00:43<00:00,  9.09it/s] \n"
     ]
    },
    {
     "name": "stdout",
     "output_type": "stream",
     "text": [
      "\n",
      "Test set: Average loss: 1.4902, Accuracy: 6132/10000 (61.32%)\n",
      "\n",
      "💾 Checkpoint saved at epoch 46\n",
      "\n",
      "EPOCH: 47/300\n"
     ]
    },
    {
     "name": "stderr",
     "output_type": "stream",
     "text": [
      "Loss=2.069802761077881 Batch_id=390 Accuracy=60.11: 100%|██████████| 391/391 [00:43<00:00,  9.08it/s] \n"
     ]
    },
    {
     "name": "stdout",
     "output_type": "stream",
     "text": [
      "\n",
      "Test set: Average loss: 1.6580, Accuracy: 5689/10000 (56.89%)\n",
      "\n",
      "💾 Checkpoint saved at epoch 47\n",
      "\n",
      "EPOCH: 48/300\n"
     ]
    },
    {
     "name": "stderr",
     "output_type": "stream",
     "text": [
      "Loss=2.082340955734253 Batch_id=390 Accuracy=60.39: 100%|██████████| 391/391 [00:43<00:00,  9.09it/s] \n"
     ]
    },
    {
     "name": "stdout",
     "output_type": "stream",
     "text": [
      "\n",
      "Test set: Average loss: 1.4817, Accuracy: 6122/10000 (61.22%)\n",
      "\n",
      "💾 Checkpoint saved at epoch 48\n",
      "\n",
      "EPOCH: 49/300\n"
     ]
    },
    {
     "name": "stderr",
     "output_type": "stream",
     "text": [
      "Loss=2.160215139389038 Batch_id=390 Accuracy=60.58: 100%|██████████| 391/391 [00:43<00:00,  9.08it/s] \n"
     ]
    },
    {
     "name": "stdout",
     "output_type": "stream",
     "text": [
      "\n",
      "Test set: Average loss: 1.5984, Accuracy: 5889/10000 (58.89%)\n",
      "\n",
      "💾 Checkpoint saved at epoch 49\n",
      "\n",
      "EPOCH: 50/300\n"
     ]
    },
    {
     "name": "stderr",
     "output_type": "stream",
     "text": [
      "Loss=2.0123977661132812 Batch_id=390 Accuracy=60.70: 100%|██████████| 391/391 [00:43<00:00,  9.08it/s]\n"
     ]
    },
    {
     "name": "stdout",
     "output_type": "stream",
     "text": [
      "\n",
      "Test set: Average loss: 1.5162, Accuracy: 6062/10000 (60.62%)\n",
      "\n",
      "💾 Checkpoint saved at epoch 50\n",
      "\n",
      "EPOCH: 51/300\n"
     ]
    },
    {
     "name": "stderr",
     "output_type": "stream",
     "text": [
      "Loss=2.146287441253662 Batch_id=390 Accuracy=60.54: 100%|██████████| 391/391 [00:43<00:00,  9.09it/s] \n"
     ]
    },
    {
     "name": "stdout",
     "output_type": "stream",
     "text": [
      "\n",
      "Test set: Average loss: 1.6780, Accuracy: 5636/10000 (56.36%)\n",
      "\n",
      "💾 Checkpoint saved at epoch 51\n",
      "\n",
      "EPOCH: 52/300\n"
     ]
    },
    {
     "name": "stderr",
     "output_type": "stream",
     "text": [
      "Loss=2.1789822578430176 Batch_id=390 Accuracy=60.71: 100%|██████████| 391/391 [00:43<00:00,  9.07it/s]\n"
     ]
    },
    {
     "name": "stdout",
     "output_type": "stream",
     "text": [
      "\n",
      "Test set: Average loss: 1.6145, Accuracy: 5826/10000 (58.26%)\n",
      "\n",
      "💾 Checkpoint saved at epoch 52\n",
      "\n",
      "EPOCH: 53/300\n"
     ]
    },
    {
     "name": "stderr",
     "output_type": "stream",
     "text": [
      "Loss=2.1693549156188965 Batch_id=390 Accuracy=60.86: 100%|██████████| 391/391 [00:43<00:00,  9.09it/s]\n"
     ]
    },
    {
     "name": "stdout",
     "output_type": "stream",
     "text": [
      "\n",
      "Test set: Average loss: 1.6522, Accuracy: 5699/10000 (56.99%)\n",
      "\n",
      "💾 Checkpoint saved at epoch 53\n",
      "\n",
      "EPOCH: 54/300\n"
     ]
    },
    {
     "name": "stderr",
     "output_type": "stream",
     "text": [
      "Loss=1.9338715076446533 Batch_id=390 Accuracy=61.13: 100%|██████████| 391/391 [00:43<00:00,  9.08it/s]\n"
     ]
    },
    {
     "name": "stdout",
     "output_type": "stream",
     "text": [
      "\n",
      "Test set: Average loss: 1.6288, Accuracy: 5787/10000 (57.87%)\n",
      "\n",
      "💾 Checkpoint saved at epoch 54\n",
      "\n",
      "EPOCH: 55/300\n"
     ]
    },
    {
     "name": "stderr",
     "output_type": "stream",
     "text": [
      "Loss=2.1143646240234375 Batch_id=390 Accuracy=61.33: 100%|██████████| 391/391 [00:43<00:00,  9.09it/s]\n"
     ]
    },
    {
     "name": "stdout",
     "output_type": "stream",
     "text": [
      "\n",
      "Test set: Average loss: 1.7332, Accuracy: 5652/10000 (56.52%)\n",
      "\n",
      "💾 Checkpoint saved at epoch 55\n",
      "\n",
      "EPOCH: 56/300\n"
     ]
    },
    {
     "name": "stderr",
     "output_type": "stream",
     "text": [
      "Loss=1.9018990993499756 Batch_id=390 Accuracy=61.36: 100%|██████████| 391/391 [00:43<00:00,  9.08it/s]\n"
     ]
    },
    {
     "name": "stdout",
     "output_type": "stream",
     "text": [
      "\n",
      "Test set: Average loss: 1.5068, Accuracy: 6112/10000 (61.12%)\n",
      "\n",
      "💾 Checkpoint saved at epoch 56\n",
      "\n",
      "EPOCH: 57/300\n"
     ]
    },
    {
     "name": "stderr",
     "output_type": "stream",
     "text": [
      "Loss=1.9239170551300049 Batch_id=390 Accuracy=61.54: 100%|██████████| 391/391 [00:43<00:00,  9.08it/s]\n"
     ]
    },
    {
     "name": "stdout",
     "output_type": "stream",
     "text": [
      "\n",
      "Test set: Average loss: 1.5305, Accuracy: 6021/10000 (60.21%)\n",
      "\n",
      "💾 Checkpoint saved at epoch 57\n",
      "\n",
      "EPOCH: 58/300\n"
     ]
    },
    {
     "name": "stderr",
     "output_type": "stream",
     "text": [
      "Loss=2.2363040447235107 Batch_id=390 Accuracy=61.25: 100%|██████████| 391/391 [00:43<00:00,  9.08it/s]\n"
     ]
    },
    {
     "name": "stdout",
     "output_type": "stream",
     "text": [
      "\n",
      "Test set: Average loss: 1.5132, Accuracy: 6081/10000 (60.81%)\n",
      "\n",
      "💾 Checkpoint saved at epoch 58\n",
      "\n",
      "EPOCH: 59/300\n"
     ]
    },
    {
     "name": "stderr",
     "output_type": "stream",
     "text": [
      "Loss=2.0670082569122314 Batch_id=390 Accuracy=61.43: 100%|██████████| 391/391 [00:43<00:00,  9.08it/s]\n"
     ]
    },
    {
     "name": "stdout",
     "output_type": "stream",
     "text": [
      "\n",
      "Test set: Average loss: 1.7556, Accuracy: 5615/10000 (56.15%)\n",
      "\n",
      "💾 Checkpoint saved at epoch 59\n",
      "\n",
      "EPOCH: 60/300\n"
     ]
    },
    {
     "name": "stderr",
     "output_type": "stream",
     "text": [
      "Loss=1.9410362243652344 Batch_id=390 Accuracy=61.68: 100%|██████████| 391/391 [00:43<00:00,  9.09it/s]\n"
     ]
    },
    {
     "name": "stdout",
     "output_type": "stream",
     "text": [
      "\n",
      "Test set: Average loss: 1.6046, Accuracy: 5887/10000 (58.87%)\n",
      "\n",
      "💾 Checkpoint saved at epoch 60\n",
      "\n",
      "EPOCH: 61/300\n"
     ]
    },
    {
     "name": "stderr",
     "output_type": "stream",
     "text": [
      "Loss=1.9584969282150269 Batch_id=390 Accuracy=61.65: 100%|██████████| 391/391 [00:43<00:00,  9.08it/s]\n"
     ]
    },
    {
     "name": "stdout",
     "output_type": "stream",
     "text": [
      "\n",
      "Test set: Average loss: 1.5013, Accuracy: 6148/10000 (61.48%)\n",
      "\n",
      "💾 Checkpoint saved at epoch 61\n",
      "\n",
      "EPOCH: 62/300\n"
     ]
    },
    {
     "name": "stderr",
     "output_type": "stream",
     "text": [
      "Loss=1.9866883754730225 Batch_id=390 Accuracy=61.90: 100%|██████████| 391/391 [00:43<00:00,  9.08it/s]\n"
     ]
    },
    {
     "name": "stdout",
     "output_type": "stream",
     "text": [
      "\n",
      "Test set: Average loss: 1.6930, Accuracy: 5710/10000 (57.10%)\n",
      "\n",
      "💾 Checkpoint saved at epoch 62\n",
      "\n",
      "EPOCH: 63/300\n"
     ]
    },
    {
     "name": "stderr",
     "output_type": "stream",
     "text": [
      "Loss=2.104078531265259 Batch_id=390 Accuracy=61.62: 100%|██████████| 391/391 [00:43<00:00,  9.08it/s] \n"
     ]
    },
    {
     "name": "stdout",
     "output_type": "stream",
     "text": [
      "\n",
      "Test set: Average loss: 1.5011, Accuracy: 6063/10000 (60.63%)\n",
      "\n",
      "💾 Checkpoint saved at epoch 63\n",
      "\n",
      "EPOCH: 64/300\n"
     ]
    },
    {
     "name": "stderr",
     "output_type": "stream",
     "text": [
      "Loss=1.8254859447479248 Batch_id=390 Accuracy=61.78: 100%|██████████| 391/391 [00:43<00:00,  9.08it/s]\n"
     ]
    },
    {
     "name": "stdout",
     "output_type": "stream",
     "text": [
      "\n",
      "Test set: Average loss: 1.6120, Accuracy: 5865/10000 (58.65%)\n",
      "\n",
      "💾 Checkpoint saved at epoch 64\n",
      "\n",
      "EPOCH: 65/300\n"
     ]
    },
    {
     "name": "stderr",
     "output_type": "stream",
     "text": [
      "Loss=1.9943116903305054 Batch_id=390 Accuracy=61.88: 100%|██████████| 391/391 [00:43<00:00,  9.08it/s]\n"
     ]
    },
    {
     "name": "stdout",
     "output_type": "stream",
     "text": [
      "\n",
      "Test set: Average loss: 1.6045, Accuracy: 5857/10000 (58.57%)\n",
      "\n",
      "💾 Checkpoint saved at epoch 65\n",
      "\n",
      "EPOCH: 66/300\n"
     ]
    },
    {
     "name": "stderr",
     "output_type": "stream",
     "text": [
      "Loss=1.6872739791870117 Batch_id=390 Accuracy=62.12: 100%|██████████| 391/391 [00:43<00:00,  9.09it/s]\n"
     ]
    },
    {
     "name": "stdout",
     "output_type": "stream",
     "text": [
      "\n",
      "Test set: Average loss: 1.6109, Accuracy: 5887/10000 (58.87%)\n",
      "\n",
      "💾 Checkpoint saved at epoch 66\n",
      "\n",
      "EPOCH: 67/300\n"
     ]
    },
    {
     "name": "stderr",
     "output_type": "stream",
     "text": [
      "Loss=2.1339447498321533 Batch_id=390 Accuracy=62.02: 100%|██████████| 391/391 [00:43<00:00,  9.09it/s]\n"
     ]
    },
    {
     "name": "stdout",
     "output_type": "stream",
     "text": [
      "\n",
      "Test set: Average loss: 1.5997, Accuracy: 5969/10000 (59.69%)\n",
      "\n",
      "💾 Checkpoint saved at epoch 67\n",
      "\n",
      "EPOCH: 68/300\n"
     ]
    },
    {
     "name": "stderr",
     "output_type": "stream",
     "text": [
      "Loss=1.6026437282562256 Batch_id=390 Accuracy=62.23: 100%|██████████| 391/391 [00:43<00:00,  9.08it/s]\n"
     ]
    },
    {
     "name": "stdout",
     "output_type": "stream",
     "text": [
      "\n",
      "Test set: Average loss: 1.4969, Accuracy: 6131/10000 (61.31%)\n",
      "\n",
      "💾 Checkpoint saved at epoch 68\n",
      "\n",
      "EPOCH: 69/300\n"
     ]
    },
    {
     "name": "stderr",
     "output_type": "stream",
     "text": [
      "Loss=1.915779709815979 Batch_id=390 Accuracy=62.17: 100%|██████████| 391/391 [00:43<00:00,  9.09it/s] \n"
     ]
    },
    {
     "name": "stdout",
     "output_type": "stream",
     "text": [
      "\n",
      "Test set: Average loss: 1.5794, Accuracy: 5894/10000 (58.94%)\n",
      "\n",
      "💾 Checkpoint saved at epoch 69\n",
      "\n",
      "EPOCH: 70/300\n"
     ]
    },
    {
     "name": "stderr",
     "output_type": "stream",
     "text": [
      "Loss=2.1010727882385254 Batch_id=390 Accuracy=62.62: 100%|██████████| 391/391 [00:43<00:00,  9.09it/s]\n"
     ]
    },
    {
     "name": "stdout",
     "output_type": "stream",
     "text": [
      "\n",
      "Test set: Average loss: 1.5735, Accuracy: 5957/10000 (59.57%)\n",
      "\n",
      "💾 Checkpoint saved at epoch 70\n",
      "\n",
      "EPOCH: 71/300\n"
     ]
    },
    {
     "name": "stderr",
     "output_type": "stream",
     "text": [
      "Loss=1.6504936218261719 Batch_id=390 Accuracy=62.33: 100%|██████████| 391/391 [00:43<00:00,  9.09it/s]\n"
     ]
    },
    {
     "name": "stdout",
     "output_type": "stream",
     "text": [
      "\n",
      "Test set: Average loss: 1.5652, Accuracy: 5943/10000 (59.43%)\n",
      "\n",
      "💾 Checkpoint saved at epoch 71\n",
      "\n",
      "EPOCH: 72/300\n"
     ]
    },
    {
     "name": "stderr",
     "output_type": "stream",
     "text": [
      "Loss=1.9169116020202637 Batch_id=390 Accuracy=62.82: 100%|██████████| 391/391 [00:43<00:00,  9.09it/s]\n"
     ]
    },
    {
     "name": "stdout",
     "output_type": "stream",
     "text": [
      "\n",
      "Test set: Average loss: 1.5496, Accuracy: 5981/10000 (59.81%)\n",
      "\n",
      "💾 Checkpoint saved at epoch 72\n",
      "\n",
      "EPOCH: 73/300\n"
     ]
    },
    {
     "name": "stderr",
     "output_type": "stream",
     "text": [
      "Loss=1.8585035800933838 Batch_id=390 Accuracy=62.66: 100%|██████████| 391/391 [00:43<00:00,  9.09it/s]\n"
     ]
    },
    {
     "name": "stdout",
     "output_type": "stream",
     "text": [
      "\n",
      "Test set: Average loss: 1.5735, Accuracy: 5966/10000 (59.66%)\n",
      "\n",
      "💾 Checkpoint saved at epoch 73\n",
      "\n",
      "EPOCH: 74/300\n"
     ]
    },
    {
     "name": "stderr",
     "output_type": "stream",
     "text": [
      "Loss=1.9756968021392822 Batch_id=390 Accuracy=62.66: 100%|██████████| 391/391 [00:43<00:00,  9.08it/s]\n"
     ]
    },
    {
     "name": "stdout",
     "output_type": "stream",
     "text": [
      "\n",
      "Test set: Average loss: 1.4784, Accuracy: 6184/10000 (61.84%)\n",
      "\n",
      "💾 Checkpoint saved at epoch 74\n",
      "\n",
      "EPOCH: 75/300\n"
     ]
    },
    {
     "name": "stderr",
     "output_type": "stream",
     "text": [
      "Loss=2.1266725063323975 Batch_id=390 Accuracy=62.82: 100%|██████████| 391/391 [00:43<00:00,  9.09it/s]\n"
     ]
    },
    {
     "name": "stdout",
     "output_type": "stream",
     "text": [
      "\n",
      "Test set: Average loss: 1.4966, Accuracy: 6143/10000 (61.43%)\n",
      "\n",
      "💾 Checkpoint saved at epoch 75\n",
      "\n",
      "EPOCH: 76/300\n"
     ]
    },
    {
     "name": "stderr",
     "output_type": "stream",
     "text": [
      "Loss=2.079921245574951 Batch_id=390 Accuracy=62.87: 100%|██████████| 391/391 [00:42<00:00,  9.09it/s] \n"
     ]
    },
    {
     "name": "stdout",
     "output_type": "stream",
     "text": [
      "\n",
      "Test set: Average loss: 1.8223, Accuracy: 5432/10000 (54.32%)\n",
      "\n",
      "💾 Checkpoint saved at epoch 76\n",
      "\n",
      "EPOCH: 77/300\n"
     ]
    },
    {
     "name": "stderr",
     "output_type": "stream",
     "text": [
      "Loss=2.0664637088775635 Batch_id=390 Accuracy=62.77: 100%|██████████| 391/391 [00:42<00:00,  9.09it/s]\n"
     ]
    },
    {
     "name": "stdout",
     "output_type": "stream",
     "text": [
      "\n",
      "Test set: Average loss: 1.5145, Accuracy: 6086/10000 (60.86%)\n",
      "\n",
      "💾 Checkpoint saved at epoch 77\n",
      "\n",
      "EPOCH: 78/300\n"
     ]
    },
    {
     "name": "stderr",
     "output_type": "stream",
     "text": [
      "Loss=2.0653934478759766 Batch_id=390 Accuracy=63.24: 100%|██████████| 391/391 [00:42<00:00,  9.09it/s]\n"
     ]
    },
    {
     "name": "stdout",
     "output_type": "stream",
     "text": [
      "\n",
      "Test set: Average loss: 1.5908, Accuracy: 5896/10000 (58.96%)\n",
      "\n",
      "💾 Checkpoint saved at epoch 78\n",
      "\n",
      "EPOCH: 79/300\n"
     ]
    },
    {
     "name": "stderr",
     "output_type": "stream",
     "text": [
      "Loss=1.922499179840088 Batch_id=390 Accuracy=62.95: 100%|██████████| 391/391 [00:42<00:00,  9.10it/s] \n"
     ]
    },
    {
     "name": "stdout",
     "output_type": "stream",
     "text": [
      "\n",
      "Test set: Average loss: 1.5476, Accuracy: 6037/10000 (60.37%)\n",
      "\n",
      "💾 Checkpoint saved at epoch 79\n",
      "\n",
      "EPOCH: 80/300\n"
     ]
    },
    {
     "name": "stderr",
     "output_type": "stream",
     "text": [
      "Loss=1.8878313302993774 Batch_id=390 Accuracy=62.82: 100%|██████████| 391/391 [00:42<00:00,  9.10it/s]\n"
     ]
    },
    {
     "name": "stdout",
     "output_type": "stream",
     "text": [
      "\n",
      "Test set: Average loss: 1.5432, Accuracy: 6079/10000 (60.79%)\n",
      "\n",
      "💾 Checkpoint saved at epoch 80\n",
      "\n",
      "EPOCH: 81/300\n"
     ]
    },
    {
     "name": "stderr",
     "output_type": "stream",
     "text": [
      "Loss=2.0711681842803955 Batch_id=390 Accuracy=63.24: 100%|██████████| 391/391 [00:42<00:00,  9.09it/s]\n"
     ]
    },
    {
     "name": "stdout",
     "output_type": "stream",
     "text": [
      "\n",
      "Test set: Average loss: 1.4994, Accuracy: 6096/10000 (60.96%)\n",
      "\n",
      "💾 Checkpoint saved at epoch 81\n",
      "\n",
      "EPOCH: 82/300\n"
     ]
    },
    {
     "name": "stderr",
     "output_type": "stream",
     "text": [
      "Loss=1.947985053062439 Batch_id=390 Accuracy=63.18: 100%|██████████| 391/391 [00:43<00:00,  9.09it/s] \n"
     ]
    },
    {
     "name": "stdout",
     "output_type": "stream",
     "text": [
      "\n",
      "Test set: Average loss: 1.4961, Accuracy: 6144/10000 (61.44%)\n",
      "\n",
      "💾 Checkpoint saved at epoch 82\n",
      "\n",
      "EPOCH: 83/300\n"
     ]
    },
    {
     "name": "stderr",
     "output_type": "stream",
     "text": [
      "Loss=1.9257252216339111 Batch_id=390 Accuracy=63.37: 100%|██████████| 391/391 [00:42<00:00,  9.09it/s]\n"
     ]
    },
    {
     "name": "stdout",
     "output_type": "stream",
     "text": [
      "\n",
      "Test set: Average loss: 1.4433, Accuracy: 6287/10000 (62.87%)\n",
      "\n",
      "💾 Checkpoint saved at epoch 83\n",
      "\n",
      "EPOCH: 84/300\n"
     ]
    },
    {
     "name": "stderr",
     "output_type": "stream",
     "text": [
      "Loss=2.0206871032714844 Batch_id=390 Accuracy=63.01: 100%|██████████| 391/391 [00:42<00:00,  9.10it/s]\n"
     ]
    },
    {
     "name": "stdout",
     "output_type": "stream",
     "text": [
      "\n",
      "Test set: Average loss: 1.6669, Accuracy: 5756/10000 (57.56%)\n",
      "\n",
      "💾 Checkpoint saved at epoch 84\n",
      "\n",
      "EPOCH: 85/300\n"
     ]
    },
    {
     "name": "stderr",
     "output_type": "stream",
     "text": [
      "Loss=2.12967586517334 Batch_id=390 Accuracy=63.60: 100%|██████████| 391/391 [00:42<00:00,  9.10it/s]  \n"
     ]
    },
    {
     "name": "stdout",
     "output_type": "stream",
     "text": [
      "\n",
      "Test set: Average loss: 1.5421, Accuracy: 6071/10000 (60.71%)\n",
      "\n",
      "💾 Checkpoint saved at epoch 85\n",
      "\n",
      "EPOCH: 86/300\n"
     ]
    },
    {
     "name": "stderr",
     "output_type": "stream",
     "text": [
      "Loss=2.2308597564697266 Batch_id=390 Accuracy=63.55: 100%|██████████| 391/391 [00:42<00:00,  9.10it/s]\n"
     ]
    },
    {
     "name": "stdout",
     "output_type": "stream",
     "text": [
      "\n",
      "Test set: Average loss: 1.5180, Accuracy: 6116/10000 (61.16%)\n",
      "\n",
      "💾 Checkpoint saved at epoch 86\n",
      "\n",
      "EPOCH: 87/300\n"
     ]
    },
    {
     "name": "stderr",
     "output_type": "stream",
     "text": [
      "Loss=2.2967658042907715 Batch_id=390 Accuracy=63.47: 100%|██████████| 391/391 [00:43<00:00,  9.09it/s]\n"
     ]
    },
    {
     "name": "stdout",
     "output_type": "stream",
     "text": [
      "\n",
      "Test set: Average loss: 1.7002, Accuracy: 5686/10000 (56.86%)\n",
      "\n",
      "💾 Checkpoint saved at epoch 87\n",
      "\n",
      "EPOCH: 88/300\n"
     ]
    },
    {
     "name": "stderr",
     "output_type": "stream",
     "text": [
      "Loss=2.199033737182617 Batch_id=390 Accuracy=63.44: 100%|██████████| 391/391 [00:42<00:00,  9.10it/s] \n"
     ]
    },
    {
     "name": "stdout",
     "output_type": "stream",
     "text": [
      "\n",
      "Test set: Average loss: 1.5743, Accuracy: 5985/10000 (59.85%)\n",
      "\n",
      "💾 Checkpoint saved at epoch 88\n",
      "\n",
      "EPOCH: 89/300\n"
     ]
    },
    {
     "name": "stderr",
     "output_type": "stream",
     "text": [
      "Loss=1.8805370330810547 Batch_id=390 Accuracy=63.48: 100%|██████████| 391/391 [00:42<00:00,  9.10it/s]\n"
     ]
    },
    {
     "name": "stdout",
     "output_type": "stream",
     "text": [
      "\n",
      "Test set: Average loss: 1.5112, Accuracy: 6130/10000 (61.30%)\n",
      "\n",
      "💾 Checkpoint saved at epoch 89\n",
      "\n",
      "EPOCH: 90/300\n"
     ]
    },
    {
     "name": "stderr",
     "output_type": "stream",
     "text": [
      "Loss=1.9066729545593262 Batch_id=390 Accuracy=63.42: 100%|██████████| 391/391 [00:42<00:00,  9.09it/s]\n"
     ]
    },
    {
     "name": "stdout",
     "output_type": "stream",
     "text": [
      "\n",
      "Test set: Average loss: 1.4828, Accuracy: 6183/10000 (61.83%)\n",
      "\n",
      "💾 Checkpoint saved at epoch 90\n",
      "\n",
      "EPOCH: 91/300\n"
     ]
    },
    {
     "name": "stderr",
     "output_type": "stream",
     "text": [
      "Loss=1.999042272567749 Batch_id=390 Accuracy=63.65: 100%|██████████| 391/391 [00:43<00:00,  9.08it/s] \n"
     ]
    },
    {
     "name": "stdout",
     "output_type": "stream",
     "text": [
      "\n",
      "Test set: Average loss: 1.4157, Accuracy: 6371/10000 (63.71%)\n",
      "\n",
      "💾 Checkpoint saved at epoch 91\n",
      "\n",
      "EPOCH: 92/300\n"
     ]
    },
    {
     "name": "stderr",
     "output_type": "stream",
     "text": [
      "Loss=2.051156520843506 Batch_id=390 Accuracy=63.98: 100%|██████████| 391/391 [00:42<00:00,  9.09it/s] \n"
     ]
    },
    {
     "name": "stdout",
     "output_type": "stream",
     "text": [
      "\n",
      "Test set: Average loss: 1.4043, Accuracy: 6461/10000 (64.61%)\n",
      "\n",
      "💾 Checkpoint saved at epoch 92\n",
      "\n",
      "EPOCH: 93/300\n"
     ]
    },
    {
     "name": "stderr",
     "output_type": "stream",
     "text": [
      "Loss=2.075812816619873 Batch_id=390 Accuracy=63.89: 100%|██████████| 391/391 [00:42<00:00,  9.10it/s] \n"
     ]
    },
    {
     "name": "stdout",
     "output_type": "stream",
     "text": [
      "\n",
      "Test set: Average loss: 1.6135, Accuracy: 5854/10000 (58.54%)\n",
      "\n",
      "💾 Checkpoint saved at epoch 93\n",
      "\n",
      "EPOCH: 94/300\n"
     ]
    },
    {
     "name": "stderr",
     "output_type": "stream",
     "text": [
      "Loss=2.0178141593933105 Batch_id=390 Accuracy=64.03: 100%|██████████| 391/391 [00:43<00:00,  9.09it/s]\n"
     ]
    },
    {
     "name": "stdout",
     "output_type": "stream",
     "text": [
      "\n",
      "Test set: Average loss: 1.5312, Accuracy: 6104/10000 (61.04%)\n",
      "\n",
      "💾 Checkpoint saved at epoch 94\n",
      "\n",
      "EPOCH: 95/300\n"
     ]
    },
    {
     "name": "stderr",
     "output_type": "stream",
     "text": [
      "Loss=2.2037901878356934 Batch_id=390 Accuracy=63.64: 100%|██████████| 391/391 [00:42<00:00,  9.09it/s]\n"
     ]
    },
    {
     "name": "stdout",
     "output_type": "stream",
     "text": [
      "\n",
      "Test set: Average loss: 1.5367, Accuracy: 6008/10000 (60.08%)\n",
      "\n",
      "💾 Checkpoint saved at epoch 95\n",
      "\n",
      "EPOCH: 96/300\n"
     ]
    },
    {
     "name": "stderr",
     "output_type": "stream",
     "text": [
      "Loss=2.015772819519043 Batch_id=390 Accuracy=64.07: 100%|██████████| 391/391 [00:42<00:00,  9.09it/s] \n"
     ]
    },
    {
     "name": "stdout",
     "output_type": "stream",
     "text": [
      "\n",
      "Test set: Average loss: 1.4767, Accuracy: 6232/10000 (62.32%)\n",
      "\n",
      "💾 Checkpoint saved at epoch 96\n",
      "\n",
      "EPOCH: 97/300\n"
     ]
    },
    {
     "name": "stderr",
     "output_type": "stream",
     "text": [
      "Loss=2.2073616981506348 Batch_id=390 Accuracy=64.12: 100%|██████████| 391/391 [00:43<00:00,  9.07it/s]\n"
     ]
    },
    {
     "name": "stdout",
     "output_type": "stream",
     "text": [
      "\n",
      "Test set: Average loss: 1.4612, Accuracy: 6242/10000 (62.42%)\n",
      "\n",
      "💾 Checkpoint saved at epoch 97\n",
      "\n",
      "EPOCH: 98/300\n"
     ]
    },
    {
     "name": "stderr",
     "output_type": "stream",
     "text": [
      "Loss=1.8410173654556274 Batch_id=390 Accuracy=64.28: 100%|██████████| 391/391 [00:43<00:00,  9.06it/s]\n"
     ]
    },
    {
     "name": "stdout",
     "output_type": "stream",
     "text": [
      "\n",
      "Test set: Average loss: 1.4339, Accuracy: 6350/10000 (63.50%)\n",
      "\n",
      "💾 Checkpoint saved at epoch 98\n",
      "\n",
      "EPOCH: 99/300\n"
     ]
    },
    {
     "name": "stderr",
     "output_type": "stream",
     "text": [
      "Loss=1.9260578155517578 Batch_id=390 Accuracy=63.99: 100%|██████████| 391/391 [00:43<00:00,  9.09it/s]\n"
     ]
    },
    {
     "name": "stdout",
     "output_type": "stream",
     "text": [
      "\n",
      "Test set: Average loss: 1.4724, Accuracy: 6225/10000 (62.25%)\n",
      "\n",
      "💾 Checkpoint saved at epoch 99\n",
      "\n",
      "EPOCH: 100/300\n"
     ]
    },
    {
     "name": "stderr",
     "output_type": "stream",
     "text": [
      "Loss=1.6632881164550781 Batch_id=390 Accuracy=64.29: 100%|██████████| 391/391 [00:43<00:00,  9.09it/s]\n"
     ]
    },
    {
     "name": "stdout",
     "output_type": "stream",
     "text": [
      "\n",
      "Test set: Average loss: 1.5733, Accuracy: 5976/10000 (59.76%)\n",
      "\n",
      "💾 Checkpoint saved at epoch 100\n",
      "\n",
      "EPOCH: 101/300\n"
     ]
    },
    {
     "name": "stderr",
     "output_type": "stream",
     "text": [
      "Loss=2.240598440170288 Batch_id=390 Accuracy=64.11: 100%|██████████| 391/391 [00:42<00:00,  9.10it/s] \n"
     ]
    },
    {
     "name": "stdout",
     "output_type": "stream",
     "text": [
      "\n",
      "Test set: Average loss: 1.3964, Accuracy: 6410/10000 (64.10%)\n",
      "\n",
      "💾 Checkpoint saved at epoch 101\n",
      "\n",
      "EPOCH: 102/300\n"
     ]
    },
    {
     "name": "stderr",
     "output_type": "stream",
     "text": [
      "Loss=2.0053067207336426 Batch_id=390 Accuracy=64.54: 100%|██████████| 391/391 [00:42<00:00,  9.09it/s]\n"
     ]
    },
    {
     "name": "stdout",
     "output_type": "stream",
     "text": [
      "\n",
      "Test set: Average loss: 1.5080, Accuracy: 6109/10000 (61.09%)\n",
      "\n",
      "💾 Checkpoint saved at epoch 102\n",
      "\n",
      "EPOCH: 103/300\n"
     ]
    },
    {
     "name": "stderr",
     "output_type": "stream",
     "text": [
      "Loss=2.0070533752441406 Batch_id=390 Accuracy=64.55: 100%|██████████| 391/391 [00:43<00:00,  9.09it/s]\n"
     ]
    },
    {
     "name": "stdout",
     "output_type": "stream",
     "text": [
      "\n",
      "Test set: Average loss: 1.5748, Accuracy: 6013/10000 (60.13%)\n",
      "\n",
      "💾 Checkpoint saved at epoch 103\n",
      "\n",
      "EPOCH: 104/300\n"
     ]
    },
    {
     "name": "stderr",
     "output_type": "stream",
     "text": [
      "Loss=1.8810365200042725 Batch_id=390 Accuracy=64.42: 100%|██████████| 391/391 [00:42<00:00,  9.10it/s]\n"
     ]
    },
    {
     "name": "stdout",
     "output_type": "stream",
     "text": [
      "\n",
      "Test set: Average loss: 1.4379, Accuracy: 6330/10000 (63.30%)\n",
      "\n",
      "💾 Checkpoint saved at epoch 104\n",
      "\n",
      "EPOCH: 105/300\n"
     ]
    },
    {
     "name": "stderr",
     "output_type": "stream",
     "text": [
      "Loss=2.151235580444336 Batch_id=390 Accuracy=64.63: 100%|██████████| 391/391 [00:43<00:00,  9.09it/s] \n"
     ]
    },
    {
     "name": "stdout",
     "output_type": "stream",
     "text": [
      "\n",
      "Test set: Average loss: 1.4734, Accuracy: 6259/10000 (62.59%)\n",
      "\n",
      "💾 Checkpoint saved at epoch 105\n",
      "\n",
      "EPOCH: 106/300\n"
     ]
    },
    {
     "name": "stderr",
     "output_type": "stream",
     "text": [
      "Loss=1.9777846336364746 Batch_id=390 Accuracy=64.62: 100%|██████████| 391/391 [00:43<00:00,  9.09it/s]\n"
     ]
    },
    {
     "name": "stdout",
     "output_type": "stream",
     "text": [
      "\n",
      "Test set: Average loss: 1.5226, Accuracy: 6131/10000 (61.31%)\n",
      "\n",
      "💾 Checkpoint saved at epoch 106\n",
      "\n",
      "EPOCH: 107/300\n"
     ]
    },
    {
     "name": "stderr",
     "output_type": "stream",
     "text": [
      "Loss=2.1397697925567627 Batch_id=390 Accuracy=64.93: 100%|██████████| 391/391 [00:43<00:00,  9.09it/s]\n"
     ]
    },
    {
     "name": "stdout",
     "output_type": "stream",
     "text": [
      "\n",
      "Test set: Average loss: 1.4698, Accuracy: 6210/10000 (62.10%)\n",
      "\n",
      "💾 Checkpoint saved at epoch 107\n",
      "\n",
      "EPOCH: 108/300\n"
     ]
    },
    {
     "name": "stderr",
     "output_type": "stream",
     "text": [
      "Loss=1.9594522714614868 Batch_id=390 Accuracy=65.10: 100%|██████████| 391/391 [00:43<00:00,  9.09it/s]\n"
     ]
    },
    {
     "name": "stdout",
     "output_type": "stream",
     "text": [
      "\n",
      "Test set: Average loss: 1.4467, Accuracy: 6294/10000 (62.94%)\n",
      "\n",
      "💾 Checkpoint saved at epoch 108\n",
      "\n",
      "EPOCH: 109/300\n"
     ]
    },
    {
     "name": "stderr",
     "output_type": "stream",
     "text": [
      "Loss=1.8910707235336304 Batch_id=390 Accuracy=64.46: 100%|██████████| 391/391 [00:42<00:00,  9.10it/s]\n"
     ]
    },
    {
     "name": "stdout",
     "output_type": "stream",
     "text": [
      "\n",
      "Test set: Average loss: 1.3739, Accuracy: 6476/10000 (64.76%)\n",
      "\n",
      "💾 Checkpoint saved at epoch 109\n",
      "\n",
      "EPOCH: 110/300\n"
     ]
    },
    {
     "name": "stderr",
     "output_type": "stream",
     "text": [
      "Loss=1.6980047225952148 Batch_id=390 Accuracy=64.85: 100%|██████████| 391/391 [00:42<00:00,  9.10it/s]\n"
     ]
    },
    {
     "name": "stdout",
     "output_type": "stream",
     "text": [
      "\n",
      "Test set: Average loss: 1.5522, Accuracy: 6077/10000 (60.77%)\n",
      "\n",
      "💾 Checkpoint saved at epoch 110\n",
      "\n",
      "EPOCH: 111/300\n"
     ]
    },
    {
     "name": "stderr",
     "output_type": "stream",
     "text": [
      "Loss=2.3633809089660645 Batch_id=390 Accuracy=64.94: 100%|██████████| 391/391 [00:42<00:00,  9.10it/s]\n"
     ]
    },
    {
     "name": "stdout",
     "output_type": "stream",
     "text": [
      "\n",
      "Test set: Average loss: 1.6096, Accuracy: 5904/10000 (59.04%)\n",
      "\n",
      "💾 Checkpoint saved at epoch 111\n",
      "\n",
      "EPOCH: 112/300\n"
     ]
    },
    {
     "name": "stderr",
     "output_type": "stream",
     "text": [
      "Loss=2.0097317695617676 Batch_id=390 Accuracy=64.87: 100%|██████████| 391/391 [00:42<00:00,  9.10it/s]\n"
     ]
    },
    {
     "name": "stdout",
     "output_type": "stream",
     "text": [
      "\n",
      "Test set: Average loss: 1.4167, Accuracy: 6374/10000 (63.74%)\n",
      "\n",
      "💾 Checkpoint saved at epoch 112\n",
      "\n",
      "EPOCH: 113/300\n"
     ]
    },
    {
     "name": "stderr",
     "output_type": "stream",
     "text": [
      "Loss=1.9802467823028564 Batch_id=390 Accuracy=64.92: 100%|██████████| 391/391 [00:42<00:00,  9.10it/s]\n"
     ]
    },
    {
     "name": "stdout",
     "output_type": "stream",
     "text": [
      "\n",
      "Test set: Average loss: 1.3927, Accuracy: 6374/10000 (63.74%)\n",
      "\n",
      "💾 Checkpoint saved at epoch 113\n",
      "\n",
      "EPOCH: 114/300\n"
     ]
    },
    {
     "name": "stderr",
     "output_type": "stream",
     "text": [
      "Loss=1.8390743732452393 Batch_id=390 Accuracy=65.01: 100%|██████████| 391/391 [00:42<00:00,  9.10it/s]\n"
     ]
    },
    {
     "name": "stdout",
     "output_type": "stream",
     "text": [
      "\n",
      "Test set: Average loss: 1.3012, Accuracy: 6621/10000 (66.21%)\n",
      "\n",
      "💾 Checkpoint saved at epoch 114\n",
      "\n",
      "EPOCH: 115/300\n"
     ]
    },
    {
     "name": "stderr",
     "output_type": "stream",
     "text": [
      "Loss=1.8053425550460815 Batch_id=390 Accuracy=64.77: 100%|██████████| 391/391 [00:42<00:00,  9.10it/s]\n"
     ]
    },
    {
     "name": "stdout",
     "output_type": "stream",
     "text": [
      "\n",
      "Test set: Average loss: 1.6278, Accuracy: 5839/10000 (58.39%)\n",
      "\n",
      "💾 Checkpoint saved at epoch 115\n",
      "\n",
      "EPOCH: 116/300\n"
     ]
    },
    {
     "name": "stderr",
     "output_type": "stream",
     "text": [
      "Loss=2.029843807220459 Batch_id=390 Accuracy=65.15: 100%|██████████| 391/391 [00:42<00:00,  9.10it/s] \n"
     ]
    },
    {
     "name": "stdout",
     "output_type": "stream",
     "text": [
      "\n",
      "Test set: Average loss: 1.4154, Accuracy: 6389/10000 (63.89%)\n",
      "\n",
      "💾 Checkpoint saved at epoch 116\n",
      "\n",
      "EPOCH: 117/300\n"
     ]
    },
    {
     "name": "stderr",
     "output_type": "stream",
     "text": [
      "Loss=1.724656581878662 Batch_id=390 Accuracy=65.19: 100%|██████████| 391/391 [00:42<00:00,  9.10it/s] \n"
     ]
    },
    {
     "name": "stdout",
     "output_type": "stream",
     "text": [
      "\n",
      "Test set: Average loss: 1.5887, Accuracy: 6003/10000 (60.03%)\n",
      "\n",
      "💾 Checkpoint saved at epoch 117\n",
      "\n",
      "EPOCH: 118/300\n"
     ]
    },
    {
     "name": "stderr",
     "output_type": "stream",
     "text": [
      "Loss=1.8276174068450928 Batch_id=390 Accuracy=65.31: 100%|██████████| 391/391 [00:43<00:00,  9.09it/s]\n"
     ]
    },
    {
     "name": "stdout",
     "output_type": "stream",
     "text": [
      "\n",
      "Test set: Average loss: 1.4621, Accuracy: 6235/10000 (62.35%)\n",
      "\n",
      "💾 Checkpoint saved at epoch 118\n",
      "\n",
      "EPOCH: 119/300\n"
     ]
    },
    {
     "name": "stderr",
     "output_type": "stream",
     "text": [
      "Loss=1.837071418762207 Batch_id=390 Accuracy=65.51: 100%|██████████| 391/391 [00:42<00:00,  9.09it/s] \n"
     ]
    },
    {
     "name": "stdout",
     "output_type": "stream",
     "text": [
      "\n",
      "Test set: Average loss: 1.4681, Accuracy: 6152/10000 (61.52%)\n",
      "\n",
      "💾 Checkpoint saved at epoch 119\n",
      "\n",
      "EPOCH: 120/300\n"
     ]
    },
    {
     "name": "stderr",
     "output_type": "stream",
     "text": [
      "Loss=2.020944595336914 Batch_id=390 Accuracy=65.66: 100%|██████████| 391/391 [00:42<00:00,  9.10it/s] \n"
     ]
    },
    {
     "name": "stdout",
     "output_type": "stream",
     "text": [
      "\n",
      "Test set: Average loss: 1.3972, Accuracy: 6394/10000 (63.94%)\n",
      "\n",
      "💾 Checkpoint saved at epoch 120\n",
      "\n",
      "EPOCH: 121/300\n"
     ]
    },
    {
     "name": "stderr",
     "output_type": "stream",
     "text": [
      "Loss=1.9780569076538086 Batch_id=390 Accuracy=65.44: 100%|██████████| 391/391 [00:42<00:00,  9.10it/s]\n"
     ]
    },
    {
     "name": "stdout",
     "output_type": "stream",
     "text": [
      "\n",
      "Test set: Average loss: 1.4739, Accuracy: 6210/10000 (62.10%)\n",
      "\n",
      "💾 Checkpoint saved at epoch 121\n",
      "\n",
      "EPOCH: 122/300\n"
     ]
    },
    {
     "name": "stderr",
     "output_type": "stream",
     "text": [
      "Loss=2.0445518493652344 Batch_id=390 Accuracy=65.61: 100%|██████████| 391/391 [00:42<00:00,  9.10it/s]\n"
     ]
    },
    {
     "name": "stdout",
     "output_type": "stream",
     "text": [
      "\n",
      "Test set: Average loss: 1.4346, Accuracy: 6315/10000 (63.15%)\n",
      "\n",
      "💾 Checkpoint saved at epoch 122\n",
      "\n",
      "EPOCH: 123/300\n"
     ]
    },
    {
     "name": "stderr",
     "output_type": "stream",
     "text": [
      "Loss=2.055379867553711 Batch_id=390 Accuracy=65.32: 100%|██████████| 391/391 [00:43<00:00,  9.09it/s] \n"
     ]
    },
    {
     "name": "stdout",
     "output_type": "stream",
     "text": [
      "\n",
      "Test set: Average loss: 1.4176, Accuracy: 6295/10000 (62.95%)\n",
      "\n",
      "💾 Checkpoint saved at epoch 123\n",
      "\n",
      "EPOCH: 124/300\n"
     ]
    },
    {
     "name": "stderr",
     "output_type": "stream",
     "text": [
      "Loss=1.9266376495361328 Batch_id=390 Accuracy=65.45: 100%|██████████| 391/391 [00:43<00:00,  9.09it/s]\n"
     ]
    },
    {
     "name": "stdout",
     "output_type": "stream",
     "text": [
      "\n",
      "Test set: Average loss: 1.4320, Accuracy: 6384/10000 (63.84%)\n",
      "\n",
      "💾 Checkpoint saved at epoch 124\n",
      "\n",
      "EPOCH: 125/300\n"
     ]
    },
    {
     "name": "stderr",
     "output_type": "stream",
     "text": [
      "Loss=1.6448311805725098 Batch_id=390 Accuracy=65.70: 100%|██████████| 391/391 [00:43<00:00,  9.09it/s]\n"
     ]
    },
    {
     "name": "stdout",
     "output_type": "stream",
     "text": [
      "\n",
      "Test set: Average loss: 1.4554, Accuracy: 6357/10000 (63.57%)\n",
      "\n",
      "💾 Checkpoint saved at epoch 125\n",
      "\n",
      "EPOCH: 126/300\n"
     ]
    },
    {
     "name": "stderr",
     "output_type": "stream",
     "text": [
      "Loss=1.852829933166504 Batch_id=390 Accuracy=66.00: 100%|██████████| 391/391 [00:43<00:00,  9.09it/s] \n"
     ]
    },
    {
     "name": "stdout",
     "output_type": "stream",
     "text": [
      "\n",
      "Test set: Average loss: 1.3463, Accuracy: 6526/10000 (65.26%)\n",
      "\n",
      "💾 Checkpoint saved at epoch 126\n",
      "\n",
      "EPOCH: 127/300\n"
     ]
    },
    {
     "name": "stderr",
     "output_type": "stream",
     "text": [
      "Loss=2.0650079250335693 Batch_id=390 Accuracy=65.32: 100%|██████████| 391/391 [00:42<00:00,  9.11it/s]\n"
     ]
    },
    {
     "name": "stdout",
     "output_type": "stream",
     "text": [
      "\n",
      "Test set: Average loss: 1.4635, Accuracy: 6252/10000 (62.52%)\n",
      "\n",
      "💾 Checkpoint saved at epoch 127\n",
      "\n",
      "EPOCH: 128/300\n"
     ]
    },
    {
     "name": "stderr",
     "output_type": "stream",
     "text": [
      "Loss=1.831256628036499 Batch_id=390 Accuracy=65.93: 100%|██████████| 391/391 [00:43<00:00,  9.09it/s] \n"
     ]
    },
    {
     "name": "stdout",
     "output_type": "stream",
     "text": [
      "\n",
      "Test set: Average loss: 1.4664, Accuracy: 6266/10000 (62.66%)\n",
      "\n",
      "💾 Checkpoint saved at epoch 128\n",
      "\n",
      "EPOCH: 129/300\n"
     ]
    },
    {
     "name": "stderr",
     "output_type": "stream",
     "text": [
      "Loss=1.803409218788147 Batch_id=390 Accuracy=66.03: 100%|██████████| 391/391 [00:42<00:00,  9.10it/s] \n"
     ]
    },
    {
     "name": "stdout",
     "output_type": "stream",
     "text": [
      "\n",
      "Test set: Average loss: 1.3758, Accuracy: 6439/10000 (64.39%)\n",
      "\n",
      "💾 Checkpoint saved at epoch 129\n",
      "\n",
      "EPOCH: 130/300\n"
     ]
    },
    {
     "name": "stderr",
     "output_type": "stream",
     "text": [
      "Loss=1.963740348815918 Batch_id=390 Accuracy=66.36: 100%|██████████| 391/391 [00:42<00:00,  9.10it/s] \n"
     ]
    },
    {
     "name": "stdout",
     "output_type": "stream",
     "text": [
      "\n",
      "Test set: Average loss: 1.4389, Accuracy: 6330/10000 (63.30%)\n",
      "\n",
      "💾 Checkpoint saved at epoch 130\n",
      "\n",
      "EPOCH: 131/300\n"
     ]
    },
    {
     "name": "stderr",
     "output_type": "stream",
     "text": [
      "Loss=1.9388656616210938 Batch_id=390 Accuracy=66.41: 100%|██████████| 391/391 [00:42<00:00,  9.10it/s]\n"
     ]
    },
    {
     "name": "stdout",
     "output_type": "stream",
     "text": [
      "\n",
      "Test set: Average loss: 1.3395, Accuracy: 6590/10000 (65.90%)\n",
      "\n",
      "💾 Checkpoint saved at epoch 131\n",
      "\n",
      "EPOCH: 132/300\n"
     ]
    },
    {
     "name": "stderr",
     "output_type": "stream",
     "text": [
      "Loss=1.7053879499435425 Batch_id=390 Accuracy=66.43: 100%|██████████| 391/391 [00:42<00:00,  9.09it/s]\n"
     ]
    },
    {
     "name": "stdout",
     "output_type": "stream",
     "text": [
      "\n",
      "Test set: Average loss: 1.4836, Accuracy: 6250/10000 (62.50%)\n",
      "\n",
      "💾 Checkpoint saved at epoch 132\n",
      "\n",
      "EPOCH: 133/300\n"
     ]
    },
    {
     "name": "stderr",
     "output_type": "stream",
     "text": [
      "Loss=2.088902473449707 Batch_id=390 Accuracy=66.27: 100%|██████████| 391/391 [00:42<00:00,  9.09it/s] \n"
     ]
    },
    {
     "name": "stdout",
     "output_type": "stream",
     "text": [
      "\n",
      "Test set: Average loss: 1.4056, Accuracy: 6434/10000 (64.34%)\n",
      "\n",
      "💾 Checkpoint saved at epoch 133\n",
      "\n",
      "EPOCH: 134/300\n"
     ]
    },
    {
     "name": "stderr",
     "output_type": "stream",
     "text": [
      "Loss=1.8377163410186768 Batch_id=390 Accuracy=66.54: 100%|██████████| 391/391 [00:43<00:00,  9.09it/s]\n"
     ]
    },
    {
     "name": "stdout",
     "output_type": "stream",
     "text": [
      "\n",
      "Test set: Average loss: 1.4512, Accuracy: 6265/10000 (62.65%)\n",
      "\n",
      "💾 Checkpoint saved at epoch 134\n",
      "\n",
      "EPOCH: 135/300\n"
     ]
    },
    {
     "name": "stderr",
     "output_type": "stream",
     "text": [
      "Loss=1.9605967998504639 Batch_id=390 Accuracy=66.46: 100%|██████████| 391/391 [00:43<00:00,  9.09it/s]\n"
     ]
    },
    {
     "name": "stdout",
     "output_type": "stream",
     "text": [
      "\n",
      "Test set: Average loss: 1.3387, Accuracy: 6538/10000 (65.38%)\n",
      "\n",
      "💾 Checkpoint saved at epoch 135\n",
      "\n",
      "EPOCH: 136/300\n"
     ]
    },
    {
     "name": "stderr",
     "output_type": "stream",
     "text": [
      "Loss=1.6062872409820557 Batch_id=390 Accuracy=66.31: 100%|██████████| 391/391 [00:43<00:00,  9.09it/s]\n"
     ]
    },
    {
     "name": "stdout",
     "output_type": "stream",
     "text": [
      "\n",
      "Test set: Average loss: 1.5014, Accuracy: 6241/10000 (62.41%)\n",
      "\n",
      "💾 Checkpoint saved at epoch 136\n",
      "\n",
      "EPOCH: 137/300\n"
     ]
    },
    {
     "name": "stderr",
     "output_type": "stream",
     "text": [
      "Loss=1.8000800609588623 Batch_id=390 Accuracy=66.69: 100%|██████████| 391/391 [00:43<00:00,  9.09it/s]\n"
     ]
    },
    {
     "name": "stdout",
     "output_type": "stream",
     "text": [
      "\n",
      "Test set: Average loss: 1.4287, Accuracy: 6423/10000 (64.23%)\n",
      "\n",
      "💾 Checkpoint saved at epoch 137\n",
      "\n",
      "EPOCH: 138/300\n"
     ]
    },
    {
     "name": "stderr",
     "output_type": "stream",
     "text": [
      "Loss=1.7781782150268555 Batch_id=390 Accuracy=66.49: 100%|██████████| 391/391 [00:43<00:00,  9.09it/s]\n"
     ]
    },
    {
     "name": "stdout",
     "output_type": "stream",
     "text": [
      "\n",
      "Test set: Average loss: 1.4054, Accuracy: 6385/10000 (63.85%)\n",
      "\n",
      "💾 Checkpoint saved at epoch 138\n",
      "\n",
      "EPOCH: 139/300\n"
     ]
    },
    {
     "name": "stderr",
     "output_type": "stream",
     "text": [
      "Loss=1.6842012405395508 Batch_id=390 Accuracy=66.79: 100%|██████████| 391/391 [00:43<00:00,  9.09it/s]\n"
     ]
    },
    {
     "name": "stdout",
     "output_type": "stream",
     "text": [
      "\n",
      "Test set: Average loss: 1.4012, Accuracy: 6429/10000 (64.29%)\n",
      "\n",
      "💾 Checkpoint saved at epoch 139\n",
      "\n",
      "EPOCH: 140/300\n"
     ]
    },
    {
     "name": "stderr",
     "output_type": "stream",
     "text": [
      "Loss=1.8899239301681519 Batch_id=390 Accuracy=66.71: 100%|██████████| 391/391 [00:42<00:00,  9.09it/s]\n"
     ]
    },
    {
     "name": "stdout",
     "output_type": "stream",
     "text": [
      "\n",
      "Test set: Average loss: 1.4812, Accuracy: 6304/10000 (63.04%)\n",
      "\n",
      "💾 Checkpoint saved at epoch 140\n",
      "\n",
      "EPOCH: 141/300\n"
     ]
    },
    {
     "name": "stderr",
     "output_type": "stream",
     "text": [
      "Loss=1.6511778831481934 Batch_id=390 Accuracy=66.67: 100%|██████████| 391/391 [00:43<00:00,  9.08it/s]\n"
     ]
    },
    {
     "name": "stdout",
     "output_type": "stream",
     "text": [
      "\n",
      "Test set: Average loss: 1.3850, Accuracy: 6457/10000 (64.57%)\n",
      "\n",
      "💾 Checkpoint saved at epoch 141\n",
      "\n",
      "EPOCH: 142/300\n"
     ]
    },
    {
     "name": "stderr",
     "output_type": "stream",
     "text": [
      "Loss=2.0419607162475586 Batch_id=390 Accuracy=67.04: 100%|██████████| 391/391 [00:43<00:00,  9.09it/s]\n"
     ]
    },
    {
     "name": "stdout",
     "output_type": "stream",
     "text": [
      "\n",
      "Test set: Average loss: 1.4878, Accuracy: 6241/10000 (62.41%)\n",
      "\n",
      "💾 Checkpoint saved at epoch 142\n",
      "\n",
      "EPOCH: 143/300\n"
     ]
    },
    {
     "name": "stderr",
     "output_type": "stream",
     "text": [
      "Loss=2.2802271842956543 Batch_id=390 Accuracy=66.94: 100%|██████████| 391/391 [00:43<00:00,  9.08it/s]\n"
     ]
    },
    {
     "name": "stdout",
     "output_type": "stream",
     "text": [
      "\n",
      "Test set: Average loss: 1.4234, Accuracy: 6400/10000 (64.00%)\n",
      "\n",
      "💾 Checkpoint saved at epoch 143\n",
      "\n",
      "EPOCH: 144/300\n"
     ]
    },
    {
     "name": "stderr",
     "output_type": "stream",
     "text": [
      "Loss=1.9710664749145508 Batch_id=390 Accuracy=67.21: 100%|██████████| 391/391 [00:43<00:00,  9.08it/s]\n"
     ]
    },
    {
     "name": "stdout",
     "output_type": "stream",
     "text": [
      "\n",
      "Test set: Average loss: 1.3588, Accuracy: 6510/10000 (65.10%)\n",
      "\n",
      "💾 Checkpoint saved at epoch 144\n",
      "\n",
      "EPOCH: 145/300\n"
     ]
    },
    {
     "name": "stderr",
     "output_type": "stream",
     "text": [
      "Loss=1.8919737339019775 Batch_id=390 Accuracy=66.98: 100%|██████████| 391/391 [00:43<00:00,  9.08it/s]\n"
     ]
    },
    {
     "name": "stdout",
     "output_type": "stream",
     "text": [
      "\n",
      "Test set: Average loss: 1.3269, Accuracy: 6630/10000 (66.30%)\n",
      "\n",
      "💾 Checkpoint saved at epoch 145\n",
      "\n",
      "EPOCH: 146/300\n"
     ]
    },
    {
     "name": "stderr",
     "output_type": "stream",
     "text": [
      "Loss=1.9422194957733154 Batch_id=390 Accuracy=67.22: 100%|██████████| 391/391 [00:43<00:00,  9.09it/s]\n"
     ]
    },
    {
     "name": "stdout",
     "output_type": "stream",
     "text": [
      "\n",
      "Test set: Average loss: 1.5079, Accuracy: 6190/10000 (61.90%)\n",
      "\n",
      "💾 Checkpoint saved at epoch 146\n",
      "\n",
      "EPOCH: 147/300\n"
     ]
    },
    {
     "name": "stderr",
     "output_type": "stream",
     "text": [
      "Loss=1.8289707899093628 Batch_id=390 Accuracy=67.24: 100%|██████████| 391/391 [00:43<00:00,  9.09it/s]\n"
     ]
    },
    {
     "name": "stdout",
     "output_type": "stream",
     "text": [
      "\n",
      "Test set: Average loss: 1.3665, Accuracy: 6458/10000 (64.58%)\n",
      "\n",
      "💾 Checkpoint saved at epoch 147\n",
      "\n",
      "EPOCH: 148/300\n"
     ]
    },
    {
     "name": "stderr",
     "output_type": "stream",
     "text": [
      "Loss=1.7750616073608398 Batch_id=390 Accuracy=67.46: 100%|██████████| 391/391 [00:43<00:00,  9.08it/s]\n"
     ]
    },
    {
     "name": "stdout",
     "output_type": "stream",
     "text": [
      "\n",
      "Test set: Average loss: 1.3505, Accuracy: 6510/10000 (65.10%)\n",
      "\n",
      "💾 Checkpoint saved at epoch 148\n",
      "\n",
      "EPOCH: 149/300\n"
     ]
    },
    {
     "name": "stderr",
     "output_type": "stream",
     "text": [
      "Loss=1.9549016952514648 Batch_id=390 Accuracy=67.74: 100%|██████████| 391/391 [00:43<00:00,  9.08it/s]\n"
     ]
    },
    {
     "name": "stdout",
     "output_type": "stream",
     "text": [
      "\n",
      "Test set: Average loss: 1.4459, Accuracy: 6363/10000 (63.63%)\n",
      "\n",
      "💾 Checkpoint saved at epoch 149\n",
      "\n",
      "EPOCH: 150/300\n"
     ]
    },
    {
     "name": "stderr",
     "output_type": "stream",
     "text": [
      "Loss=1.7939224243164062 Batch_id=390 Accuracy=67.78: 100%|██████████| 391/391 [00:43<00:00,  9.08it/s]\n"
     ]
    },
    {
     "name": "stdout",
     "output_type": "stream",
     "text": [
      "\n",
      "Test set: Average loss: 1.2642, Accuracy: 6748/10000 (67.48%)\n",
      "\n",
      "💾 Checkpoint saved at epoch 150\n",
      "\n",
      "EPOCH: 151/300\n"
     ]
    },
    {
     "name": "stderr",
     "output_type": "stream",
     "text": [
      "Loss=2.1272549629211426 Batch_id=390 Accuracy=67.55: 100%|██████████| 391/391 [00:43<00:00,  9.09it/s]\n"
     ]
    },
    {
     "name": "stdout",
     "output_type": "stream",
     "text": [
      "\n",
      "Test set: Average loss: 1.3498, Accuracy: 6603/10000 (66.03%)\n",
      "\n",
      "💾 Checkpoint saved at epoch 151\n",
      "\n",
      "EPOCH: 152/300\n"
     ]
    },
    {
     "name": "stderr",
     "output_type": "stream",
     "text": [
      "Loss=1.8271706104278564 Batch_id=390 Accuracy=67.69: 100%|██████████| 391/391 [00:43<00:00,  9.09it/s]\n"
     ]
    },
    {
     "name": "stdout",
     "output_type": "stream",
     "text": [
      "\n",
      "Test set: Average loss: 1.3964, Accuracy: 6448/10000 (64.48%)\n",
      "\n",
      "💾 Checkpoint saved at epoch 152\n",
      "\n",
      "EPOCH: 153/300\n"
     ]
    },
    {
     "name": "stderr",
     "output_type": "stream",
     "text": [
      "Loss=1.7045155763626099 Batch_id=390 Accuracy=67.77: 100%|██████████| 391/391 [00:43<00:00,  9.08it/s]\n"
     ]
    },
    {
     "name": "stdout",
     "output_type": "stream",
     "text": [
      "\n",
      "Test set: Average loss: 1.2859, Accuracy: 6694/10000 (66.94%)\n",
      "\n",
      "💾 Checkpoint saved at epoch 153\n",
      "\n",
      "EPOCH: 154/300\n"
     ]
    },
    {
     "name": "stderr",
     "output_type": "stream",
     "text": [
      "Loss=2.012791633605957 Batch_id=390 Accuracy=67.91: 100%|██████████| 391/391 [00:43<00:00,  9.09it/s] \n"
     ]
    },
    {
     "name": "stdout",
     "output_type": "stream",
     "text": [
      "\n",
      "Test set: Average loss: 1.3413, Accuracy: 6602/10000 (66.02%)\n",
      "\n",
      "💾 Checkpoint saved at epoch 154\n",
      "\n",
      "EPOCH: 155/300\n"
     ]
    },
    {
     "name": "stderr",
     "output_type": "stream",
     "text": [
      "Loss=1.9128763675689697 Batch_id=390 Accuracy=68.21: 100%|██████████| 391/391 [00:43<00:00,  9.08it/s]\n"
     ]
    },
    {
     "name": "stdout",
     "output_type": "stream",
     "text": [
      "\n",
      "Test set: Average loss: 1.3493, Accuracy: 6524/10000 (65.24%)\n",
      "\n",
      "💾 Checkpoint saved at epoch 155\n",
      "\n",
      "EPOCH: 156/300\n"
     ]
    },
    {
     "name": "stderr",
     "output_type": "stream",
     "text": [
      "Loss=2.0333614349365234 Batch_id=390 Accuracy=68.33: 100%|██████████| 391/391 [00:43<00:00,  9.09it/s]\n"
     ]
    },
    {
     "name": "stdout",
     "output_type": "stream",
     "text": [
      "\n",
      "Test set: Average loss: 1.4279, Accuracy: 6424/10000 (64.24%)\n",
      "\n",
      "💾 Checkpoint saved at epoch 156\n",
      "\n",
      "EPOCH: 157/300\n"
     ]
    },
    {
     "name": "stderr",
     "output_type": "stream",
     "text": [
      "Loss=1.7947750091552734 Batch_id=390 Accuracy=67.98: 100%|██████████| 391/391 [00:43<00:00,  9.09it/s]\n"
     ]
    },
    {
     "name": "stdout",
     "output_type": "stream",
     "text": [
      "\n",
      "Test set: Average loss: 1.3802, Accuracy: 6521/10000 (65.21%)\n",
      "\n",
      "💾 Checkpoint saved at epoch 157\n",
      "\n",
      "EPOCH: 158/300\n"
     ]
    },
    {
     "name": "stderr",
     "output_type": "stream",
     "text": [
      "Loss=1.7664092779159546 Batch_id=390 Accuracy=68.25: 100%|██████████| 391/391 [00:43<00:00,  9.09it/s]\n"
     ]
    },
    {
     "name": "stdout",
     "output_type": "stream",
     "text": [
      "\n",
      "Test set: Average loss: 1.3581, Accuracy: 6548/10000 (65.48%)\n",
      "\n",
      "💾 Checkpoint saved at epoch 158\n",
      "\n",
      "EPOCH: 159/300\n"
     ]
    },
    {
     "name": "stderr",
     "output_type": "stream",
     "text": [
      "Loss=1.8734287023544312 Batch_id=390 Accuracy=68.20: 100%|██████████| 391/391 [00:43<00:00,  9.08it/s]\n"
     ]
    },
    {
     "name": "stdout",
     "output_type": "stream",
     "text": [
      "\n",
      "Test set: Average loss: 1.3238, Accuracy: 6619/10000 (66.19%)\n",
      "\n",
      "💾 Checkpoint saved at epoch 159\n",
      "\n",
      "EPOCH: 160/300\n"
     ]
    },
    {
     "name": "stderr",
     "output_type": "stream",
     "text": [
      "Loss=1.8584671020507812 Batch_id=390 Accuracy=68.64: 100%|██████████| 391/391 [00:43<00:00,  9.09it/s]\n"
     ]
    },
    {
     "name": "stdout",
     "output_type": "stream",
     "text": [
      "\n",
      "Test set: Average loss: 1.3263, Accuracy: 6603/10000 (66.03%)\n",
      "\n",
      "💾 Checkpoint saved at epoch 160\n",
      "\n",
      "EPOCH: 161/300\n"
     ]
    },
    {
     "name": "stderr",
     "output_type": "stream",
     "text": [
      "Loss=1.572401523590088 Batch_id=390 Accuracy=68.65: 100%|██████████| 391/391 [00:43<00:00,  9.09it/s] \n"
     ]
    },
    {
     "name": "stdout",
     "output_type": "stream",
     "text": [
      "\n",
      "Test set: Average loss: 1.3081, Accuracy: 6688/10000 (66.88%)\n",
      "\n",
      "💾 Checkpoint saved at epoch 161\n",
      "\n",
      "EPOCH: 162/300\n"
     ]
    },
    {
     "name": "stderr",
     "output_type": "stream",
     "text": [
      "Loss=1.61956787109375 Batch_id=390 Accuracy=68.51: 100%|██████████| 391/391 [00:43<00:00,  9.09it/s]  \n"
     ]
    },
    {
     "name": "stdout",
     "output_type": "stream",
     "text": [
      "\n",
      "Test set: Average loss: 1.4432, Accuracy: 6367/10000 (63.67%)\n",
      "\n",
      "💾 Checkpoint saved at epoch 162\n",
      "\n",
      "EPOCH: 163/300\n"
     ]
    },
    {
     "name": "stderr",
     "output_type": "stream",
     "text": [
      "Loss=1.96697199344635 Batch_id=390 Accuracy=68.89: 100%|██████████| 391/391 [00:42<00:00,  9.09it/s]  \n"
     ]
    },
    {
     "name": "stdout",
     "output_type": "stream",
     "text": [
      "\n",
      "Test set: Average loss: 1.4354, Accuracy: 6392/10000 (63.92%)\n",
      "\n",
      "💾 Checkpoint saved at epoch 163\n",
      "\n",
      "EPOCH: 164/300\n"
     ]
    },
    {
     "name": "stderr",
     "output_type": "stream",
     "text": [
      "Loss=1.833446979522705 Batch_id=390 Accuracy=68.55: 100%|██████████| 391/391 [00:43<00:00,  9.09it/s] \n"
     ]
    },
    {
     "name": "stdout",
     "output_type": "stream",
     "text": [
      "\n",
      "Test set: Average loss: 1.4667, Accuracy: 6341/10000 (63.41%)\n",
      "\n",
      "💾 Checkpoint saved at epoch 164\n",
      "\n",
      "EPOCH: 165/300\n"
     ]
    },
    {
     "name": "stderr",
     "output_type": "stream",
     "text": [
      "Loss=1.6996536254882812 Batch_id=390 Accuracy=68.74: 100%|██████████| 391/391 [00:43<00:00,  9.09it/s]\n"
     ]
    },
    {
     "name": "stdout",
     "output_type": "stream",
     "text": [
      "\n",
      "Test set: Average loss: 1.3924, Accuracy: 6471/10000 (64.71%)\n",
      "\n",
      "💾 Checkpoint saved at epoch 165\n",
      "\n",
      "EPOCH: 166/300\n"
     ]
    },
    {
     "name": "stderr",
     "output_type": "stream",
     "text": [
      "Loss=1.625767469406128 Batch_id=390 Accuracy=69.10: 100%|██████████| 391/391 [00:43<00:00,  9.09it/s] \n"
     ]
    },
    {
     "name": "stdout",
     "output_type": "stream",
     "text": [
      "\n",
      "Test set: Average loss: 1.4946, Accuracy: 6279/10000 (62.79%)\n",
      "\n",
      "💾 Checkpoint saved at epoch 166\n",
      "\n",
      "EPOCH: 167/300\n"
     ]
    },
    {
     "name": "stderr",
     "output_type": "stream",
     "text": [
      "Loss=1.5661227703094482 Batch_id=390 Accuracy=68.99: 100%|██████████| 391/391 [00:43<00:00,  9.09it/s]\n"
     ]
    },
    {
     "name": "stdout",
     "output_type": "stream",
     "text": [
      "\n",
      "Test set: Average loss: 1.2762, Accuracy: 6717/10000 (67.17%)\n",
      "\n",
      "💾 Checkpoint saved at epoch 167\n",
      "\n",
      "EPOCH: 168/300\n"
     ]
    },
    {
     "name": "stderr",
     "output_type": "stream",
     "text": [
      "Loss=1.8624603748321533 Batch_id=390 Accuracy=69.44: 100%|██████████| 391/391 [00:43<00:00,  9.08it/s]\n"
     ]
    },
    {
     "name": "stdout",
     "output_type": "stream",
     "text": [
      "\n",
      "Test set: Average loss: 1.4503, Accuracy: 6388/10000 (63.88%)\n",
      "\n",
      "💾 Checkpoint saved at epoch 168\n",
      "\n",
      "EPOCH: 169/300\n"
     ]
    },
    {
     "name": "stderr",
     "output_type": "stream",
     "text": [
      "Loss=1.7544357776641846 Batch_id=390 Accuracy=69.46: 100%|██████████| 391/391 [00:43<00:00,  9.08it/s]\n"
     ]
    },
    {
     "name": "stdout",
     "output_type": "stream",
     "text": [
      "\n",
      "Test set: Average loss: 1.2764, Accuracy: 6739/10000 (67.39%)\n",
      "\n",
      "💾 Checkpoint saved at epoch 169\n",
      "\n",
      "EPOCH: 170/300\n"
     ]
    },
    {
     "name": "stderr",
     "output_type": "stream",
     "text": [
      "Loss=1.8596200942993164 Batch_id=390 Accuracy=69.50: 100%|██████████| 391/391 [00:43<00:00,  9.08it/s]\n"
     ]
    },
    {
     "name": "stdout",
     "output_type": "stream",
     "text": [
      "\n",
      "Test set: Average loss: 1.2550, Accuracy: 6844/10000 (68.44%)\n",
      "\n",
      "💾 Checkpoint saved at epoch 170\n",
      "\n",
      "EPOCH: 171/300\n"
     ]
    },
    {
     "name": "stderr",
     "output_type": "stream",
     "text": [
      "Loss=1.6002155542373657 Batch_id=390 Accuracy=69.71: 100%|██████████| 391/391 [00:43<00:00,  9.08it/s]\n"
     ]
    },
    {
     "name": "stdout",
     "output_type": "stream",
     "text": [
      "\n",
      "Test set: Average loss: 1.3278, Accuracy: 6621/10000 (66.21%)\n",
      "\n",
      "💾 Checkpoint saved at epoch 171\n",
      "\n",
      "EPOCH: 172/300\n"
     ]
    },
    {
     "name": "stderr",
     "output_type": "stream",
     "text": [
      "Loss=1.9887117147445679 Batch_id=390 Accuracy=69.64: 100%|██████████| 391/391 [00:43<00:00,  9.09it/s]\n"
     ]
    },
    {
     "name": "stdout",
     "output_type": "stream",
     "text": [
      "\n",
      "Test set: Average loss: 1.2769, Accuracy: 6748/10000 (67.48%)\n",
      "\n",
      "💾 Checkpoint saved at epoch 172\n",
      "\n",
      "EPOCH: 173/300\n"
     ]
    },
    {
     "name": "stderr",
     "output_type": "stream",
     "text": [
      "Loss=1.769998550415039 Batch_id=390 Accuracy=69.81: 100%|██████████| 391/391 [00:42<00:00,  9.09it/s] \n"
     ]
    },
    {
     "name": "stdout",
     "output_type": "stream",
     "text": [
      "\n",
      "Test set: Average loss: 1.2931, Accuracy: 6711/10000 (67.11%)\n",
      "\n",
      "💾 Checkpoint saved at epoch 173\n",
      "\n",
      "EPOCH: 174/300\n"
     ]
    },
    {
     "name": "stderr",
     "output_type": "stream",
     "text": [
      "Loss=1.8686649799346924 Batch_id=390 Accuracy=69.98: 100%|██████████| 391/391 [00:43<00:00,  9.08it/s]\n"
     ]
    },
    {
     "name": "stdout",
     "output_type": "stream",
     "text": [
      "\n",
      "Test set: Average loss: 1.3274, Accuracy: 6574/10000 (65.74%)\n",
      "\n",
      "💾 Checkpoint saved at epoch 174\n",
      "\n",
      "EPOCH: 175/300\n"
     ]
    },
    {
     "name": "stderr",
     "output_type": "stream",
     "text": [
      "Loss=1.6780238151550293 Batch_id=390 Accuracy=70.03: 100%|██████████| 391/391 [00:43<00:00,  9.09it/s]\n"
     ]
    },
    {
     "name": "stdout",
     "output_type": "stream",
     "text": [
      "\n",
      "Test set: Average loss: 1.3457, Accuracy: 6593/10000 (65.93%)\n",
      "\n",
      "💾 Checkpoint saved at epoch 175\n",
      "\n",
      "EPOCH: 176/300\n"
     ]
    },
    {
     "name": "stderr",
     "output_type": "stream",
     "text": [
      "Loss=1.9606950283050537 Batch_id=390 Accuracy=70.22: 100%|██████████| 391/391 [00:43<00:00,  9.07it/s]\n"
     ]
    },
    {
     "name": "stdout",
     "output_type": "stream",
     "text": [
      "\n",
      "Test set: Average loss: 1.2408, Accuracy: 6821/10000 (68.21%)\n",
      "\n",
      "💾 Checkpoint saved at epoch 176\n",
      "\n",
      "EPOCH: 177/300\n"
     ]
    },
    {
     "name": "stderr",
     "output_type": "stream",
     "text": [
      "Loss=1.7956328392028809 Batch_id=390 Accuracy=70.26: 100%|██████████| 391/391 [00:43<00:00,  9.09it/s]\n"
     ]
    },
    {
     "name": "stdout",
     "output_type": "stream",
     "text": [
      "\n",
      "Test set: Average loss: 1.3419, Accuracy: 6634/10000 (66.34%)\n",
      "\n",
      "💾 Checkpoint saved at epoch 177\n",
      "\n",
      "EPOCH: 178/300\n"
     ]
    },
    {
     "name": "stderr",
     "output_type": "stream",
     "text": [
      "Loss=1.5538522005081177 Batch_id=390 Accuracy=70.38: 100%|██████████| 391/391 [00:43<00:00,  9.08it/s]\n"
     ]
    },
    {
     "name": "stdout",
     "output_type": "stream",
     "text": [
      "\n",
      "Test set: Average loss: 1.2503, Accuracy: 6817/10000 (68.17%)\n",
      "\n",
      "💾 Checkpoint saved at epoch 178\n",
      "\n",
      "EPOCH: 179/300\n"
     ]
    },
    {
     "name": "stderr",
     "output_type": "stream",
     "text": [
      "Loss=1.7311017513275146 Batch_id=390 Accuracy=70.63: 100%|██████████| 391/391 [00:43<00:00,  9.07it/s]\n"
     ]
    },
    {
     "name": "stdout",
     "output_type": "stream",
     "text": [
      "\n",
      "Test set: Average loss: 1.2521, Accuracy: 6864/10000 (68.64%)\n",
      "\n",
      "💾 Checkpoint saved at epoch 179\n",
      "\n",
      "EPOCH: 180/300\n"
     ]
    },
    {
     "name": "stderr",
     "output_type": "stream",
     "text": [
      "Loss=1.7565208673477173 Batch_id=390 Accuracy=70.48: 100%|██████████| 391/391 [00:43<00:00,  9.07it/s]\n"
     ]
    },
    {
     "name": "stdout",
     "output_type": "stream",
     "text": [
      "\n",
      "Test set: Average loss: 1.3048, Accuracy: 6695/10000 (66.95%)\n",
      "\n",
      "💾 Checkpoint saved at epoch 180\n",
      "\n",
      "EPOCH: 181/300\n"
     ]
    },
    {
     "name": "stderr",
     "output_type": "stream",
     "text": [
      "Loss=1.7912704944610596 Batch_id=390 Accuracy=70.79: 100%|██████████| 391/391 [00:43<00:00,  9.08it/s]\n"
     ]
    },
    {
     "name": "stdout",
     "output_type": "stream",
     "text": [
      "\n",
      "Test set: Average loss: 1.2483, Accuracy: 6797/10000 (67.97%)\n",
      "\n",
      "💾 Checkpoint saved at epoch 181\n",
      "\n",
      "EPOCH: 182/300\n"
     ]
    },
    {
     "name": "stderr",
     "output_type": "stream",
     "text": [
      "Loss=1.7783892154693604 Batch_id=390 Accuracy=71.24: 100%|██████████| 391/391 [00:43<00:00,  9.06it/s]\n"
     ]
    },
    {
     "name": "stdout",
     "output_type": "stream",
     "text": [
      "\n",
      "Test set: Average loss: 1.3446, Accuracy: 6566/10000 (65.66%)\n",
      "\n",
      "💾 Checkpoint saved at epoch 182\n",
      "\n",
      "EPOCH: 183/300\n"
     ]
    },
    {
     "name": "stderr",
     "output_type": "stream",
     "text": [
      "Loss=1.9157099723815918 Batch_id=390 Accuracy=71.43: 100%|██████████| 391/391 [00:43<00:00,  9.09it/s]\n"
     ]
    },
    {
     "name": "stdout",
     "output_type": "stream",
     "text": [
      "\n",
      "Test set: Average loss: 1.3433, Accuracy: 6635/10000 (66.35%)\n",
      "\n",
      "💾 Checkpoint saved at epoch 183\n",
      "\n",
      "EPOCH: 184/300\n"
     ]
    },
    {
     "name": "stderr",
     "output_type": "stream",
     "text": [
      "Loss=1.696580410003662 Batch_id=390 Accuracy=71.31: 100%|██████████| 391/391 [00:43<00:00,  9.00it/s] \n"
     ]
    },
    {
     "name": "stdout",
     "output_type": "stream",
     "text": [
      "\n",
      "Test set: Average loss: 1.2927, Accuracy: 6710/10000 (67.10%)\n",
      "\n",
      "💾 Checkpoint saved at epoch 184\n",
      "\n",
      "EPOCH: 185/300\n"
     ]
    },
    {
     "name": "stderr",
     "output_type": "stream",
     "text": [
      "Loss=1.6714985370635986 Batch_id=390 Accuracy=71.39: 100%|██████████| 391/391 [00:43<00:00,  9.00it/s]\n"
     ]
    },
    {
     "name": "stdout",
     "output_type": "stream",
     "text": [
      "\n",
      "Test set: Average loss: 1.2974, Accuracy: 6729/10000 (67.29%)\n",
      "\n",
      "💾 Checkpoint saved at epoch 185\n",
      "\n",
      "EPOCH: 186/300\n"
     ]
    },
    {
     "name": "stderr",
     "output_type": "stream",
     "text": [
      "Loss=1.6781517267227173 Batch_id=390 Accuracy=71.58: 100%|██████████| 391/391 [00:43<00:00,  9.00it/s]\n"
     ]
    },
    {
     "name": "stdout",
     "output_type": "stream",
     "text": [
      "\n",
      "Test set: Average loss: 1.2681, Accuracy: 6863/10000 (68.63%)\n",
      "\n",
      "💾 Checkpoint saved at epoch 186\n",
      "\n",
      "EPOCH: 187/300\n"
     ]
    },
    {
     "name": "stderr",
     "output_type": "stream",
     "text": [
      "Loss=1.6464756727218628 Batch_id=390 Accuracy=71.79: 100%|██████████| 391/391 [00:43<00:00,  8.98it/s]\n"
     ]
    },
    {
     "name": "stdout",
     "output_type": "stream",
     "text": [
      "\n",
      "Test set: Average loss: 1.3584, Accuracy: 6575/10000 (65.75%)\n",
      "\n",
      "💾 Checkpoint saved at epoch 187\n",
      "\n",
      "EPOCH: 188/300\n"
     ]
    },
    {
     "name": "stderr",
     "output_type": "stream",
     "text": [
      "Loss=1.8279368877410889 Batch_id=390 Accuracy=71.84: 100%|██████████| 391/391 [00:43<00:00,  8.99it/s]\n"
     ]
    },
    {
     "name": "stdout",
     "output_type": "stream",
     "text": [
      "\n",
      "Test set: Average loss: 1.3821, Accuracy: 6586/10000 (65.86%)\n",
      "\n",
      "💾 Checkpoint saved at epoch 188\n",
      "\n",
      "EPOCH: 189/300\n"
     ]
    },
    {
     "name": "stderr",
     "output_type": "stream",
     "text": [
      "Loss=1.7315280437469482 Batch_id=390 Accuracy=71.63: 100%|██████████| 391/391 [00:43<00:00,  9.02it/s]\n"
     ]
    },
    {
     "name": "stdout",
     "output_type": "stream",
     "text": [
      "\n",
      "Test set: Average loss: 1.3452, Accuracy: 6648/10000 (66.48%)\n",
      "\n",
      "💾 Checkpoint saved at epoch 189\n",
      "\n",
      "EPOCH: 190/300\n"
     ]
    },
    {
     "name": "stderr",
     "output_type": "stream",
     "text": [
      "Loss=1.7753047943115234 Batch_id=390 Accuracy=72.24: 100%|██████████| 391/391 [00:43<00:00,  9.03it/s]\n"
     ]
    },
    {
     "name": "stdout",
     "output_type": "stream",
     "text": [
      "\n",
      "Test set: Average loss: 1.3139, Accuracy: 6739/10000 (67.39%)\n",
      "\n",
      "💾 Checkpoint saved at epoch 190\n",
      "\n",
      "EPOCH: 191/300\n"
     ]
    },
    {
     "name": "stderr",
     "output_type": "stream",
     "text": [
      "Loss=1.7481529712677002 Batch_id=390 Accuracy=72.10: 100%|██████████| 391/391 [00:43<00:00,  9.04it/s]\n"
     ]
    },
    {
     "name": "stdout",
     "output_type": "stream",
     "text": [
      "\n",
      "Test set: Average loss: 1.2992, Accuracy: 6739/10000 (67.39%)\n",
      "\n",
      "💾 Checkpoint saved at epoch 191\n",
      "\n",
      "EPOCH: 192/300\n"
     ]
    },
    {
     "name": "stderr",
     "output_type": "stream",
     "text": [
      "Loss=1.8602619171142578 Batch_id=390 Accuracy=72.36: 100%|██████████| 391/391 [00:43<00:00,  9.04it/s]\n"
     ]
    },
    {
     "name": "stdout",
     "output_type": "stream",
     "text": [
      "\n",
      "Test set: Average loss: 1.2194, Accuracy: 6884/10000 (68.84%)\n",
      "\n",
      "💾 Checkpoint saved at epoch 192\n",
      "\n",
      "EPOCH: 193/300\n"
     ]
    },
    {
     "name": "stderr",
     "output_type": "stream",
     "text": [
      "Loss=1.590090036392212 Batch_id=390 Accuracy=72.52: 100%|██████████| 391/391 [00:43<00:00,  9.03it/s] \n"
     ]
    },
    {
     "name": "stdout",
     "output_type": "stream",
     "text": [
      "\n",
      "Test set: Average loss: 1.3064, Accuracy: 6772/10000 (67.72%)\n",
      "\n",
      "💾 Checkpoint saved at epoch 193\n",
      "\n",
      "EPOCH: 194/300\n"
     ]
    },
    {
     "name": "stderr",
     "output_type": "stream",
     "text": [
      "Loss=1.6903020143508911 Batch_id=390 Accuracy=72.82: 100%|██████████| 391/391 [00:43<00:00,  9.03it/s]\n"
     ]
    },
    {
     "name": "stdout",
     "output_type": "stream",
     "text": [
      "\n",
      "Test set: Average loss: 1.2762, Accuracy: 6824/10000 (68.24%)\n",
      "\n",
      "💾 Checkpoint saved at epoch 194\n",
      "\n",
      "EPOCH: 195/300\n"
     ]
    },
    {
     "name": "stderr",
     "output_type": "stream",
     "text": [
      "Loss=1.707757592201233 Batch_id=390 Accuracy=72.69: 100%|██████████| 391/391 [00:43<00:00,  9.05it/s] \n"
     ]
    },
    {
     "name": "stdout",
     "output_type": "stream",
     "text": [
      "\n",
      "Test set: Average loss: 1.2705, Accuracy: 6802/10000 (68.02%)\n",
      "\n",
      "💾 Checkpoint saved at epoch 195\n",
      "\n",
      "EPOCH: 196/300\n"
     ]
    },
    {
     "name": "stderr",
     "output_type": "stream",
     "text": [
      "Loss=1.7796680927276611 Batch_id=390 Accuracy=73.09: 100%|██████████| 391/391 [00:43<00:00,  9.01it/s]\n"
     ]
    },
    {
     "name": "stdout",
     "output_type": "stream",
     "text": [
      "\n",
      "Test set: Average loss: 1.2412, Accuracy: 6784/10000 (67.84%)\n",
      "\n",
      "💾 Checkpoint saved at epoch 196\n",
      "\n",
      "EPOCH: 197/300\n"
     ]
    },
    {
     "name": "stderr",
     "output_type": "stream",
     "text": [
      "Loss=1.7383121252059937 Batch_id=390 Accuracy=73.08: 100%|██████████| 391/391 [00:43<00:00,  9.03it/s]\n"
     ]
    },
    {
     "name": "stdout",
     "output_type": "stream",
     "text": [
      "\n",
      "Test set: Average loss: 1.2034, Accuracy: 6959/10000 (69.59%)\n",
      "\n",
      "💾 Checkpoint saved at epoch 197\n",
      "\n",
      "EPOCH: 198/300\n"
     ]
    },
    {
     "name": "stderr",
     "output_type": "stream",
     "text": [
      "Loss=1.4483799934387207 Batch_id=390 Accuracy=73.35: 100%|██████████| 391/391 [00:43<00:00,  9.03it/s]\n"
     ]
    },
    {
     "name": "stdout",
     "output_type": "stream",
     "text": [
      "\n",
      "Test set: Average loss: 1.2071, Accuracy: 6973/10000 (69.73%)\n",
      "\n",
      "💾 Checkpoint saved at epoch 198\n",
      "\n",
      "EPOCH: 199/300\n"
     ]
    },
    {
     "name": "stderr",
     "output_type": "stream",
     "text": [
      "Loss=1.6121845245361328 Batch_id=390 Accuracy=73.66: 100%|██████████| 391/391 [00:43<00:00,  9.01it/s]\n"
     ]
    },
    {
     "name": "stdout",
     "output_type": "stream",
     "text": [
      "\n",
      "Test set: Average loss: 1.2609, Accuracy: 6858/10000 (68.58%)\n",
      "\n",
      "💾 Checkpoint saved at epoch 199\n",
      "\n",
      "EPOCH: 200/300\n"
     ]
    },
    {
     "name": "stderr",
     "output_type": "stream",
     "text": [
      "Loss=1.6576470136642456 Batch_id=390 Accuracy=73.86: 100%|██████████| 391/391 [00:43<00:00,  9.01it/s]\n"
     ]
    },
    {
     "name": "stdout",
     "output_type": "stream",
     "text": [
      "\n",
      "Test set: Average loss: 1.3085, Accuracy: 6716/10000 (67.16%)\n",
      "\n",
      "💾 Checkpoint saved at epoch 200\n",
      "\n",
      "EPOCH: 201/300\n"
     ]
    },
    {
     "name": "stderr",
     "output_type": "stream",
     "text": [
      "Loss=1.533900260925293 Batch_id=390 Accuracy=73.83: 100%|██████████| 391/391 [00:43<00:00,  9.01it/s] \n"
     ]
    },
    {
     "name": "stdout",
     "output_type": "stream",
     "text": [
      "\n",
      "Test set: Average loss: 1.1718, Accuracy: 7041/10000 (70.41%)\n",
      "\n",
      "💾 Checkpoint saved at epoch 201\n",
      "\n",
      "EPOCH: 202/300\n"
     ]
    },
    {
     "name": "stderr",
     "output_type": "stream",
     "text": [
      "Loss=1.7242701053619385 Batch_id=390 Accuracy=74.19: 100%|██████████| 391/391 [00:43<00:00,  9.00it/s]\n"
     ]
    },
    {
     "name": "stdout",
     "output_type": "stream",
     "text": [
      "\n",
      "Test set: Average loss: 1.2433, Accuracy: 6914/10000 (69.14%)\n",
      "\n",
      "💾 Checkpoint saved at epoch 202\n",
      "\n",
      "EPOCH: 203/300\n"
     ]
    },
    {
     "name": "stderr",
     "output_type": "stream",
     "text": [
      "Loss=1.5816593170166016 Batch_id=390 Accuracy=74.05: 100%|██████████| 391/391 [00:43<00:00,  8.99it/s]\n"
     ]
    },
    {
     "name": "stdout",
     "output_type": "stream",
     "text": [
      "\n",
      "Test set: Average loss: 1.2545, Accuracy: 6878/10000 (68.78%)\n",
      "\n",
      "💾 Checkpoint saved at epoch 203\n",
      "\n",
      "EPOCH: 204/300\n"
     ]
    },
    {
     "name": "stderr",
     "output_type": "stream",
     "text": [
      "Loss=1.8657386302947998 Batch_id=390 Accuracy=74.89: 100%|██████████| 391/391 [00:43<00:00,  9.02it/s]\n"
     ]
    },
    {
     "name": "stdout",
     "output_type": "stream",
     "text": [
      "\n",
      "Test set: Average loss: 1.2501, Accuracy: 6897/10000 (68.97%)\n",
      "\n",
      "💾 Checkpoint saved at epoch 204\n",
      "\n",
      "EPOCH: 205/300\n"
     ]
    },
    {
     "name": "stderr",
     "output_type": "stream",
     "text": [
      "Loss=1.7747814655303955 Batch_id=390 Accuracy=74.73: 100%|██████████| 391/391 [00:43<00:00,  9.03it/s]\n"
     ]
    },
    {
     "name": "stdout",
     "output_type": "stream",
     "text": [
      "\n",
      "Test set: Average loss: 1.1801, Accuracy: 7031/10000 (70.31%)\n",
      "\n",
      "💾 Checkpoint saved at epoch 205\n",
      "\n",
      "EPOCH: 206/300\n"
     ]
    },
    {
     "name": "stderr",
     "output_type": "stream",
     "text": [
      "Loss=1.5455358028411865 Batch_id=390 Accuracy=74.92: 100%|██████████| 391/391 [00:43<00:00,  9.02it/s]\n"
     ]
    },
    {
     "name": "stdout",
     "output_type": "stream",
     "text": [
      "\n",
      "Test set: Average loss: 1.2485, Accuracy: 6907/10000 (69.07%)\n",
      "\n",
      "💾 Checkpoint saved at epoch 206\n",
      "\n",
      "EPOCH: 207/300\n"
     ]
    },
    {
     "name": "stderr",
     "output_type": "stream",
     "text": [
      "Loss=1.642568826675415 Batch_id=390 Accuracy=75.19: 100%|██████████| 391/391 [00:43<00:00,  9.02it/s] \n"
     ]
    },
    {
     "name": "stdout",
     "output_type": "stream",
     "text": [
      "\n",
      "Test set: Average loss: 1.2869, Accuracy: 6807/10000 (68.07%)\n",
      "\n",
      "💾 Checkpoint saved at epoch 207\n",
      "\n",
      "EPOCH: 208/300\n"
     ]
    },
    {
     "name": "stderr",
     "output_type": "stream",
     "text": [
      "Loss=1.440678596496582 Batch_id=390 Accuracy=75.58: 100%|██████████| 391/391 [00:43<00:00,  9.06it/s] \n"
     ]
    },
    {
     "name": "stdout",
     "output_type": "stream",
     "text": [
      "\n",
      "Test set: Average loss: 1.2711, Accuracy: 6836/10000 (68.36%)\n",
      "\n",
      "💾 Checkpoint saved at epoch 208\n",
      "\n",
      "EPOCH: 209/300\n"
     ]
    },
    {
     "name": "stderr",
     "output_type": "stream",
     "text": [
      "Loss=1.6681307554244995 Batch_id=390 Accuracy=75.86: 100%|██████████| 391/391 [00:43<00:00,  9.05it/s]\n"
     ]
    },
    {
     "name": "stdout",
     "output_type": "stream",
     "text": [
      "\n",
      "Test set: Average loss: 1.2020, Accuracy: 6976/10000 (69.76%)\n",
      "\n",
      "💾 Checkpoint saved at epoch 209\n",
      "\n",
      "EPOCH: 210/300\n"
     ]
    },
    {
     "name": "stderr",
     "output_type": "stream",
     "text": [
      "Loss=1.553558111190796 Batch_id=390 Accuracy=75.75: 100%|██████████| 391/391 [00:43<00:00,  9.05it/s] \n"
     ]
    },
    {
     "name": "stdout",
     "output_type": "stream",
     "text": [
      "\n",
      "Test set: Average loss: 1.3117, Accuracy: 6744/10000 (67.44%)\n",
      "\n",
      "💾 Checkpoint saved at epoch 210\n",
      "\n",
      "EPOCH: 211/300\n"
     ]
    },
    {
     "name": "stderr",
     "output_type": "stream",
     "text": [
      "Loss=1.519578218460083 Batch_id=390 Accuracy=75.88: 100%|██████████| 391/391 [00:43<00:00,  9.05it/s] \n"
     ]
    },
    {
     "name": "stdout",
     "output_type": "stream",
     "text": [
      "\n",
      "Test set: Average loss: 1.1982, Accuracy: 7047/10000 (70.47%)\n",
      "\n",
      "💾 Checkpoint saved at epoch 211\n",
      "\n",
      "EPOCH: 212/300\n"
     ]
    },
    {
     "name": "stderr",
     "output_type": "stream",
     "text": [
      "Loss=1.671915054321289 Batch_id=390 Accuracy=76.24: 100%|██████████| 391/391 [00:43<00:00,  9.07it/s] \n"
     ]
    },
    {
     "name": "stdout",
     "output_type": "stream",
     "text": [
      "\n",
      "Test set: Average loss: 1.2224, Accuracy: 6916/10000 (69.16%)\n",
      "\n",
      "💾 Checkpoint saved at epoch 212\n",
      "\n",
      "EPOCH: 213/300\n"
     ]
    },
    {
     "name": "stderr",
     "output_type": "stream",
     "text": [
      "Loss=1.572788119316101 Batch_id=390 Accuracy=76.55: 100%|██████████| 391/391 [00:43<00:00,  9.08it/s] \n"
     ]
    },
    {
     "name": "stdout",
     "output_type": "stream",
     "text": [
      "\n",
      "Test set: Average loss: 1.1570, Accuracy: 7078/10000 (70.78%)\n",
      "\n",
      "💾 Checkpoint saved at epoch 213\n",
      "\n",
      "EPOCH: 214/300\n"
     ]
    },
    {
     "name": "stderr",
     "output_type": "stream",
     "text": [
      "Loss=1.5060925483703613 Batch_id=390 Accuracy=76.70: 100%|██████████| 391/391 [00:43<00:00,  9.08it/s]\n"
     ]
    },
    {
     "name": "stdout",
     "output_type": "stream",
     "text": [
      "\n",
      "Test set: Average loss: 1.2383, Accuracy: 6910/10000 (69.10%)\n",
      "\n",
      "💾 Checkpoint saved at epoch 214\n",
      "\n",
      "EPOCH: 215/300\n"
     ]
    },
    {
     "name": "stderr",
     "output_type": "stream",
     "text": [
      "Loss=1.4405252933502197 Batch_id=390 Accuracy=77.10: 100%|██████████| 391/391 [00:43<00:00,  9.08it/s]\n"
     ]
    },
    {
     "name": "stdout",
     "output_type": "stream",
     "text": [
      "\n",
      "Test set: Average loss: 1.2247, Accuracy: 7006/10000 (70.06%)\n",
      "\n",
      "💾 Checkpoint saved at epoch 215\n",
      "\n",
      "EPOCH: 216/300\n"
     ]
    },
    {
     "name": "stderr",
     "output_type": "stream",
     "text": [
      "Loss=1.4294838905334473 Batch_id=390 Accuracy=77.34: 100%|██████████| 391/391 [00:43<00:00,  9.08it/s]\n"
     ]
    },
    {
     "name": "stdout",
     "output_type": "stream",
     "text": [
      "\n",
      "Test set: Average loss: 1.1925, Accuracy: 7041/10000 (70.41%)\n",
      "\n",
      "💾 Checkpoint saved at epoch 216\n",
      "\n",
      "EPOCH: 217/300\n"
     ]
    },
    {
     "name": "stderr",
     "output_type": "stream",
     "text": [
      "Loss=1.653684377670288 Batch_id=390 Accuracy=77.62: 100%|██████████| 391/391 [00:43<00:00,  9.08it/s] \n"
     ]
    },
    {
     "name": "stdout",
     "output_type": "stream",
     "text": [
      "\n",
      "Test set: Average loss: 1.1239, Accuracy: 7254/10000 (72.54%)\n",
      "\n",
      "💾 Checkpoint saved at epoch 217\n",
      "\n",
      "EPOCH: 218/300\n"
     ]
    },
    {
     "name": "stderr",
     "output_type": "stream",
     "text": [
      "Loss=1.5567524433135986 Batch_id=390 Accuracy=77.70: 100%|██████████| 391/391 [00:43<00:00,  9.08it/s]\n"
     ]
    },
    {
     "name": "stdout",
     "output_type": "stream",
     "text": [
      "\n",
      "Test set: Average loss: 1.1461, Accuracy: 7146/10000 (71.46%)\n",
      "\n",
      "💾 Checkpoint saved at epoch 218\n",
      "\n",
      "EPOCH: 219/300\n"
     ]
    },
    {
     "name": "stderr",
     "output_type": "stream",
     "text": [
      "Loss=1.443389654159546 Batch_id=390 Accuracy=77.73: 100%|██████████| 391/391 [00:43<00:00,  9.08it/s] \n"
     ]
    },
    {
     "name": "stdout",
     "output_type": "stream",
     "text": [
      "\n",
      "Test set: Average loss: 1.2153, Accuracy: 6985/10000 (69.85%)\n",
      "\n",
      "💾 Checkpoint saved at epoch 219\n",
      "\n",
      "EPOCH: 220/300\n"
     ]
    },
    {
     "name": "stderr",
     "output_type": "stream",
     "text": [
      "Loss=1.5167678594589233 Batch_id=390 Accuracy=77.95: 100%|██████████| 391/391 [00:43<00:00,  9.08it/s]\n"
     ]
    },
    {
     "name": "stdout",
     "output_type": "stream",
     "text": [
      "\n",
      "Test set: Average loss: 1.1644, Accuracy: 7090/10000 (70.90%)\n",
      "\n",
      "💾 Checkpoint saved at epoch 220\n",
      "\n",
      "EPOCH: 221/300\n"
     ]
    },
    {
     "name": "stderr",
     "output_type": "stream",
     "text": [
      "Loss=1.3889133930206299 Batch_id=390 Accuracy=78.50: 100%|██████████| 391/391 [00:42<00:00,  9.09it/s]\n"
     ]
    },
    {
     "name": "stdout",
     "output_type": "stream",
     "text": [
      "\n",
      "Test set: Average loss: 1.1845, Accuracy: 7093/10000 (70.93%)\n",
      "\n",
      "💾 Checkpoint saved at epoch 221\n",
      "\n",
      "EPOCH: 222/300\n"
     ]
    },
    {
     "name": "stderr",
     "output_type": "stream",
     "text": [
      "Loss=1.6927063465118408 Batch_id=390 Accuracy=78.36: 100%|██████████| 391/391 [00:43<00:00,  9.09it/s]\n"
     ]
    },
    {
     "name": "stdout",
     "output_type": "stream",
     "text": [
      "\n",
      "Test set: Average loss: 1.1320, Accuracy: 7218/10000 (72.18%)\n",
      "\n",
      "💾 Checkpoint saved at epoch 222\n",
      "\n",
      "EPOCH: 223/300\n"
     ]
    },
    {
     "name": "stderr",
     "output_type": "stream",
     "text": [
      "Loss=1.4205070734024048 Batch_id=390 Accuracy=78.99: 100%|██████████| 391/391 [00:42<00:00,  9.10it/s]\n"
     ]
    },
    {
     "name": "stdout",
     "output_type": "stream",
     "text": [
      "\n",
      "Test set: Average loss: 1.1574, Accuracy: 7154/10000 (71.54%)\n",
      "\n",
      "💾 Checkpoint saved at epoch 223\n",
      "\n",
      "EPOCH: 224/300\n"
     ]
    },
    {
     "name": "stderr",
     "output_type": "stream",
     "text": [
      "Loss=1.6977342367172241 Batch_id=390 Accuracy=79.04: 100%|██████████| 391/391 [00:42<00:00,  9.10it/s]\n"
     ]
    },
    {
     "name": "stdout",
     "output_type": "stream",
     "text": [
      "\n",
      "Test set: Average loss: 1.1127, Accuracy: 7251/10000 (72.51%)\n",
      "\n",
      "💾 Checkpoint saved at epoch 224\n",
      "\n",
      "EPOCH: 225/300\n"
     ]
    },
    {
     "name": "stderr",
     "output_type": "stream",
     "text": [
      "Loss=1.4634582996368408 Batch_id=390 Accuracy=79.58: 100%|██████████| 391/391 [00:43<00:00,  9.08it/s]\n"
     ]
    },
    {
     "name": "stdout",
     "output_type": "stream",
     "text": [
      "\n",
      "Test set: Average loss: 1.1530, Accuracy: 7153/10000 (71.53%)\n",
      "\n",
      "💾 Checkpoint saved at epoch 225\n",
      "\n",
      "EPOCH: 226/300\n"
     ]
    },
    {
     "name": "stderr",
     "output_type": "stream",
     "text": [
      "Loss=1.5409096479415894 Batch_id=390 Accuracy=79.85: 100%|██████████| 391/391 [00:42<00:00,  9.10it/s]\n"
     ]
    },
    {
     "name": "stdout",
     "output_type": "stream",
     "text": [
      "\n",
      "Test set: Average loss: 1.1470, Accuracy: 7201/10000 (72.01%)\n",
      "\n",
      "💾 Checkpoint saved at epoch 226\n",
      "\n",
      "EPOCH: 227/300\n"
     ]
    },
    {
     "name": "stderr",
     "output_type": "stream",
     "text": [
      "Loss=1.3398120403289795 Batch_id=390 Accuracy=79.87: 100%|██████████| 391/391 [00:43<00:00,  9.08it/s]\n"
     ]
    },
    {
     "name": "stdout",
     "output_type": "stream",
     "text": [
      "\n",
      "Test set: Average loss: 1.1128, Accuracy: 7292/10000 (72.92%)\n",
      "\n",
      "💾 Checkpoint saved at epoch 227\n",
      "\n",
      "EPOCH: 228/300\n"
     ]
    },
    {
     "name": "stderr",
     "output_type": "stream",
     "text": [
      "Loss=1.5094503164291382 Batch_id=390 Accuracy=80.20: 100%|██████████| 391/391 [00:43<00:00,  9.09it/s]\n"
     ]
    },
    {
     "name": "stdout",
     "output_type": "stream",
     "text": [
      "\n",
      "Test set: Average loss: 1.1552, Accuracy: 7221/10000 (72.21%)\n",
      "\n",
      "💾 Checkpoint saved at epoch 228\n",
      "\n",
      "EPOCH: 229/300\n"
     ]
    },
    {
     "name": "stderr",
     "output_type": "stream",
     "text": [
      "Loss=1.4411691427230835 Batch_id=390 Accuracy=80.99: 100%|██████████| 391/391 [00:43<00:00,  9.09it/s]\n"
     ]
    },
    {
     "name": "stdout",
     "output_type": "stream",
     "text": [
      "\n",
      "Test set: Average loss: 1.1026, Accuracy: 7338/10000 (73.38%)\n",
      "\n",
      "💾 Checkpoint saved at epoch 229\n",
      "\n",
      "EPOCH: 230/300\n"
     ]
    },
    {
     "name": "stderr",
     "output_type": "stream",
     "text": [
      "Loss=1.3851783275604248 Batch_id=390 Accuracy=81.06: 100%|██████████| 391/391 [00:43<00:00,  9.09it/s]\n"
     ]
    },
    {
     "name": "stdout",
     "output_type": "stream",
     "text": [
      "\n",
      "Test set: Average loss: 1.0991, Accuracy: 7315/10000 (73.15%)\n",
      "\n",
      "💾 Checkpoint saved at epoch 230\n",
      "\n",
      "EPOCH: 231/300\n"
     ]
    },
    {
     "name": "stderr",
     "output_type": "stream",
     "text": [
      "Loss=1.4188846349716187 Batch_id=390 Accuracy=80.96: 100%|██████████| 391/391 [00:43<00:00,  9.09it/s]\n"
     ]
    },
    {
     "name": "stdout",
     "output_type": "stream",
     "text": [
      "\n",
      "Test set: Average loss: 1.0728, Accuracy: 7345/10000 (73.45%)\n",
      "\n",
      "💾 Checkpoint saved at epoch 231\n",
      "\n",
      "EPOCH: 232/300\n"
     ]
    },
    {
     "name": "stderr",
     "output_type": "stream",
     "text": [
      "Loss=1.4636174440383911 Batch_id=390 Accuracy=81.57: 100%|██████████| 391/391 [00:43<00:00,  9.09it/s]\n"
     ]
    },
    {
     "name": "stdout",
     "output_type": "stream",
     "text": [
      "\n",
      "Test set: Average loss: 1.0964, Accuracy: 7339/10000 (73.39%)\n",
      "\n",
      "💾 Checkpoint saved at epoch 232\n",
      "\n",
      "EPOCH: 233/300\n"
     ]
    },
    {
     "name": "stderr",
     "output_type": "stream",
     "text": [
      "Loss=1.3370157480239868 Batch_id=390 Accuracy=82.07: 100%|██████████| 391/391 [00:42<00:00,  9.10it/s]\n"
     ]
    },
    {
     "name": "stdout",
     "output_type": "stream",
     "text": [
      "\n",
      "Test set: Average loss: 1.0949, Accuracy: 7334/10000 (73.34%)\n",
      "\n",
      "💾 Checkpoint saved at epoch 233\n",
      "\n",
      "EPOCH: 234/300\n"
     ]
    },
    {
     "name": "stderr",
     "output_type": "stream",
     "text": [
      "Loss=1.3507429361343384 Batch_id=390 Accuracy=82.23: 100%|██████████| 391/391 [00:43<00:00,  9.09it/s]\n"
     ]
    },
    {
     "name": "stdout",
     "output_type": "stream",
     "text": [
      "\n",
      "Test set: Average loss: 1.1016, Accuracy: 7332/10000 (73.32%)\n",
      "\n",
      "💾 Checkpoint saved at epoch 234\n",
      "\n",
      "EPOCH: 235/300\n"
     ]
    },
    {
     "name": "stderr",
     "output_type": "stream",
     "text": [
      "Loss=1.4322468042373657 Batch_id=390 Accuracy=82.41: 100%|██████████| 391/391 [00:43<00:00,  9.07it/s]\n"
     ]
    },
    {
     "name": "stdout",
     "output_type": "stream",
     "text": [
      "\n",
      "Test set: Average loss: 1.1472, Accuracy: 7247/10000 (72.47%)\n",
      "\n",
      "💾 Checkpoint saved at epoch 235\n",
      "\n",
      "EPOCH: 236/300\n"
     ]
    },
    {
     "name": "stderr",
     "output_type": "stream",
     "text": [
      "Loss=1.4784172773361206 Batch_id=390 Accuracy=82.74: 100%|██████████| 391/391 [00:42<00:00,  9.09it/s]\n"
     ]
    },
    {
     "name": "stdout",
     "output_type": "stream",
     "text": [
      "\n",
      "Test set: Average loss: 1.0901, Accuracy: 7367/10000 (73.67%)\n",
      "\n",
      "💾 Checkpoint saved at epoch 236\n",
      "\n",
      "EPOCH: 237/300\n"
     ]
    },
    {
     "name": "stderr",
     "output_type": "stream",
     "text": [
      "Loss=1.4255855083465576 Batch_id=390 Accuracy=83.18: 100%|██████████| 391/391 [00:43<00:00,  9.09it/s]\n"
     ]
    },
    {
     "name": "stdout",
     "output_type": "stream",
     "text": [
      "\n",
      "Test set: Average loss: 1.1046, Accuracy: 7331/10000 (73.31%)\n",
      "\n",
      "💾 Checkpoint saved at epoch 237\n",
      "\n",
      "EPOCH: 238/300\n"
     ]
    },
    {
     "name": "stderr",
     "output_type": "stream",
     "text": [
      "Loss=1.4647643566131592 Batch_id=390 Accuracy=83.46: 100%|██████████| 391/391 [00:42<00:00,  9.10it/s]\n"
     ]
    },
    {
     "name": "stdout",
     "output_type": "stream",
     "text": [
      "\n",
      "Test set: Average loss: 1.1011, Accuracy: 7343/10000 (73.43%)\n",
      "\n",
      "💾 Checkpoint saved at epoch 238\n",
      "\n",
      "EPOCH: 239/300\n"
     ]
    },
    {
     "name": "stderr",
     "output_type": "stream",
     "text": [
      "Loss=1.4601577520370483 Batch_id=390 Accuracy=83.67: 100%|██████████| 391/391 [00:43<00:00,  9.09it/s]\n"
     ]
    },
    {
     "name": "stdout",
     "output_type": "stream",
     "text": [
      "\n",
      "Test set: Average loss: 1.0962, Accuracy: 7391/10000 (73.91%)\n",
      "\n",
      "💾 Checkpoint saved at epoch 239\n",
      "\n",
      "EPOCH: 240/300\n"
     ]
    },
    {
     "name": "stderr",
     "output_type": "stream",
     "text": [
      "Loss=1.472471833229065 Batch_id=390 Accuracy=84.37: 100%|██████████| 391/391 [00:42<00:00,  9.10it/s] \n"
     ]
    },
    {
     "name": "stdout",
     "output_type": "stream",
     "text": [
      "\n",
      "Test set: Average loss: 1.0399, Accuracy: 7499/10000 (74.99%)\n",
      "\n",
      "💾 Checkpoint saved at epoch 240\n",
      "\n",
      "EPOCH: 241/300\n"
     ]
    },
    {
     "name": "stderr",
     "output_type": "stream",
     "text": [
      "Loss=1.3689813613891602 Batch_id=390 Accuracy=84.49: 100%|██████████| 391/391 [00:42<00:00,  9.10it/s]\n"
     ]
    },
    {
     "name": "stdout",
     "output_type": "stream",
     "text": [
      "\n",
      "Test set: Average loss: 1.0765, Accuracy: 7424/10000 (74.24%)\n",
      "\n",
      "💾 Checkpoint saved at epoch 241\n",
      "\n",
      "EPOCH: 242/300\n"
     ]
    },
    {
     "name": "stderr",
     "output_type": "stream",
     "text": [
      "Loss=1.3713955879211426 Batch_id=390 Accuracy=84.85: 100%|██████████| 391/391 [00:43<00:00,  9.08it/s]\n"
     ]
    },
    {
     "name": "stdout",
     "output_type": "stream",
     "text": [
      "\n",
      "Test set: Average loss: 1.0513, Accuracy: 7484/10000 (74.84%)\n",
      "\n",
      "💾 Checkpoint saved at epoch 242\n",
      "\n",
      "EPOCH: 243/300\n"
     ]
    },
    {
     "name": "stderr",
     "output_type": "stream",
     "text": [
      "Loss=1.2898163795471191 Batch_id=390 Accuracy=84.84: 100%|██████████| 391/391 [00:42<00:00,  9.10it/s]\n"
     ]
    },
    {
     "name": "stdout",
     "output_type": "stream",
     "text": [
      "\n",
      "Test set: Average loss: 1.1329, Accuracy: 7318/10000 (73.18%)\n",
      "\n",
      "💾 Checkpoint saved at epoch 243\n",
      "\n",
      "EPOCH: 244/300\n"
     ]
    },
    {
     "name": "stderr",
     "output_type": "stream",
     "text": [
      "Loss=1.411653757095337 Batch_id=390 Accuracy=85.70: 100%|██████████| 391/391 [00:42<00:00,  9.10it/s] \n"
     ]
    },
    {
     "name": "stdout",
     "output_type": "stream",
     "text": [
      "\n",
      "Test set: Average loss: 1.0790, Accuracy: 7442/10000 (74.42%)\n",
      "\n",
      "💾 Checkpoint saved at epoch 244\n",
      "\n",
      "EPOCH: 245/300\n"
     ]
    },
    {
     "name": "stderr",
     "output_type": "stream",
     "text": [
      "Loss=1.3710107803344727 Batch_id=390 Accuracy=85.82: 100%|██████████| 391/391 [00:42<00:00,  9.10it/s]\n"
     ]
    },
    {
     "name": "stdout",
     "output_type": "stream",
     "text": [
      "\n",
      "Test set: Average loss: 1.0878, Accuracy: 7438/10000 (74.38%)\n",
      "\n",
      "💾 Checkpoint saved at epoch 245\n",
      "\n",
      "EPOCH: 246/300\n"
     ]
    },
    {
     "name": "stderr",
     "output_type": "stream",
     "text": [
      "Loss=1.2661468982696533 Batch_id=390 Accuracy=86.19: 100%|██████████| 391/391 [00:42<00:00,  9.10it/s]\n"
     ]
    },
    {
     "name": "stdout",
     "output_type": "stream",
     "text": [
      "\n",
      "Test set: Average loss: 1.0727, Accuracy: 7438/10000 (74.38%)\n",
      "\n",
      "💾 Checkpoint saved at epoch 246\n",
      "\n",
      "EPOCH: 247/300\n"
     ]
    },
    {
     "name": "stderr",
     "output_type": "stream",
     "text": [
      "Loss=1.1980215311050415 Batch_id=390 Accuracy=86.60: 100%|██████████| 391/391 [00:42<00:00,  9.10it/s]\n"
     ]
    },
    {
     "name": "stdout",
     "output_type": "stream",
     "text": [
      "\n",
      "Test set: Average loss: 1.0447, Accuracy: 7501/10000 (75.01%)\n",
      "\n",
      "💾 Checkpoint saved at epoch 247\n",
      "\n",
      "EPOCH: 248/300\n"
     ]
    },
    {
     "name": "stderr",
     "output_type": "stream",
     "text": [
      "Loss=1.1425981521606445 Batch_id=390 Accuracy=86.78: 100%|██████████| 391/391 [00:42<00:00,  9.10it/s]\n"
     ]
    },
    {
     "name": "stdout",
     "output_type": "stream",
     "text": [
      "\n",
      "Test set: Average loss: 1.0616, Accuracy: 7471/10000 (74.71%)\n",
      "\n",
      "💾 Checkpoint saved at epoch 248\n",
      "\n",
      "EPOCH: 249/300\n"
     ]
    },
    {
     "name": "stderr",
     "output_type": "stream",
     "text": [
      "Loss=1.170053482055664 Batch_id=390 Accuracy=87.25: 100%|██████████| 391/391 [00:43<00:00,  9.09it/s] \n"
     ]
    },
    {
     "name": "stdout",
     "output_type": "stream",
     "text": [
      "\n",
      "Test set: Average loss: 1.0660, Accuracy: 7489/10000 (74.89%)\n",
      "\n",
      "💾 Checkpoint saved at epoch 249\n",
      "\n",
      "EPOCH: 250/300\n"
     ]
    },
    {
     "name": "stderr",
     "output_type": "stream",
     "text": [
      "Loss=1.212629795074463 Batch_id=390 Accuracy=87.55: 100%|██████████| 391/391 [00:42<00:00,  9.10it/s] \n"
     ]
    },
    {
     "name": "stdout",
     "output_type": "stream",
     "text": [
      "\n",
      "Test set: Average loss: 1.0531, Accuracy: 7523/10000 (75.23%)\n",
      "\n",
      "💾 Checkpoint saved at epoch 250\n",
      "\n",
      "EPOCH: 251/300\n"
     ]
    },
    {
     "name": "stderr",
     "output_type": "stream",
     "text": [
      "Loss=1.2574729919433594 Batch_id=390 Accuracy=88.17: 100%|██████████| 391/391 [00:42<00:00,  9.10it/s]\n"
     ]
    },
    {
     "name": "stdout",
     "output_type": "stream",
     "text": [
      "\n",
      "Test set: Average loss: 1.0532, Accuracy: 7532/10000 (75.32%)\n",
      "\n",
      "💾 Checkpoint saved at epoch 251\n",
      "\n",
      "EPOCH: 252/300\n"
     ]
    },
    {
     "name": "stderr",
     "output_type": "stream",
     "text": [
      "Loss=1.1859322786331177 Batch_id=390 Accuracy=88.49: 100%|██████████| 391/391 [00:43<00:00,  9.07it/s]\n"
     ]
    },
    {
     "name": "stdout",
     "output_type": "stream",
     "text": [
      "\n",
      "Test set: Average loss: 1.0314, Accuracy: 7607/10000 (76.07%)\n",
      "\n",
      "💾 Checkpoint saved at epoch 252\n",
      "\n",
      "EPOCH: 253/300\n"
     ]
    },
    {
     "name": "stderr",
     "output_type": "stream",
     "text": [
      "Loss=1.2435898780822754 Batch_id=390 Accuracy=88.55: 100%|██████████| 391/391 [00:43<00:00,  9.05it/s]\n"
     ]
    },
    {
     "name": "stdout",
     "output_type": "stream",
     "text": [
      "\n",
      "Test set: Average loss: 1.0519, Accuracy: 7508/10000 (75.08%)\n",
      "\n",
      "💾 Checkpoint saved at epoch 253\n",
      "\n",
      "EPOCH: 254/300\n"
     ]
    },
    {
     "name": "stderr",
     "output_type": "stream",
     "text": [
      "Loss=1.2010140419006348 Batch_id=365 Accuracy=88.83:  94%|█████████▎| 366/391 [00:40<00:02,  9.42it/s]"
     ]
    }
   ],
   "source": [
    "\n",
    "import os\n",
    "import torch\n",
    "\n",
    "checkpoint_path = \"/kaggle/working/checkpoint.pth\"\n",
    "\n",
    "# --- Load checkpoint if it exists ---\n",
    "start_epoch = 0\n",
    "best_val_acc = 0.0\n",
    "\n",
    "if os.path.exists(checkpoint_path):\n",
    "    print(f\"🔁 Found existing checkpoint at {checkpoint_path}. Resuming training...\")\n",
    "    checkpoint = torch.load(checkpoint_path, map_location=device)\n",
    "    model.load_state_dict(checkpoint['model_state_dict'])\n",
    "    optimizer.load_state_dict(checkpoint['optimizer_state_dict'])\n",
    "    if 'scheduler_state_dict' in checkpoint:\n",
    "        scheduler.load_state_dict(checkpoint['scheduler_state_dict'])\n",
    "    start_epoch = checkpoint['epoch'] + 1\n",
    "    best_val_acc = checkpoint.get('best_val_acc', 0.0)\n",
    "    print(f\"✅ Resumed from epoch {start_epoch}, best_val_acc={best_val_acc:.4f}\")\n",
    "else:\n",
    "    print(\"🚀 No checkpoint found. Starting training from scratch.\")\n",
    "\n",
    "# --- Training Loop ---\n",
    "num_epochs = 300  # Example; replace with yours\n",
    "\n",
    "for epoch in range(start_epoch, EPOCHS):\n",
    "    print(f\"\\nEPOCH: {epoch+1}/{EPOCHS}\")\n",
    "    \n",
    "    # Clear memory before each epoch\n",
    "    if torch.cuda.is_available():\n",
    "        torch.cuda.empty_cache()\n",
    "    gc.collect()\n",
    "    \n",
    "    # Training\n",
    "    train(model, device, train_loader, optimizer, epoch, scheduler)\n",
    "    \n",
    "    # Testing\n",
    "    test(model, device, test_loader)\n",
    "\n",
    "\n",
    "    # --- Save checkpoint ---\n",
    "    state = {\n",
    "        'epoch': epoch,\n",
    "        'model_state_dict': model.state_dict(),\n",
    "        'optimizer_state_dict': optimizer.state_dict(),\n",
    "        'best_val_acc': best_val_acc,\n",
    "    }\n",
    "    if 'scheduler' in locals():\n",
    "        state['scheduler_state_dict'] = scheduler.state_dict()\n",
    "\n",
    "    torch.save(state, checkpoint_path)\n",
    "    print(f\"💾 Checkpoint saved at epoch {epoch+1}\")\n",
    "\n",
    "    # --- Optionally keep best model ---\n",
    "    if val_acc > best_val_acc:\n",
    "        best_val_acc = val_acc\n",
    "        torch.save(model.state_dict(), \"/kaggle/working/best_model.pth\")\n",
    "        print(f\"🏆 New best model saved (val_acc={val_acc:.2f}%)\")\n"
   ]
  },
  {
   "cell_type": "code",
   "execution_count": null,
   "id": "8075825f",
   "metadata": {
    "id": "8075825f",
    "trusted": true
   },
   "outputs": [],
   "source": [
    "# Plotting results\n",
    "import matplotlib.pyplot as plt\n",
    "fig, axs = plt.subplots(2,2,figsize=(15,10))\n",
    "axs[0, 0].plot([t.item() for t in train_losses])\n",
    "axs[0, 0].set_title(\"Training Loss\")\n",
    "axs[1, 0].plot(train_acc)\n",
    "axs[1, 0].set_title(\"Training Accuracy\")\n",
    "axs[0, 1].plot(test_losses)\n",
    "axs[0, 1].set_title(\"Test Loss\")\n",
    "axs[1, 1].plot(test_acc)\n",
    "axs[1, 1].set_title(\"Test Accuracy\")\n",
    "plt.show()"
   ]
  }
 ],
 "metadata": {
  "accelerator": "GPU",
  "colab": {
   "gpuType": "T4",
   "provenance": []
  },
  "kaggle": {
   "accelerator": "gpu",
   "dataSources": [],
   "dockerImageVersionId": 31154,
   "isGpuEnabled": true,
   "isInternetEnabled": true,
   "language": "python",
   "sourceType": "notebook"
  },
  "kernelspec": {
   "display_name": "Python 3",
   "language": "python",
   "name": "python3"
  },
  "language_info": {
   "codemirror_mode": {
    "name": "ipython",
    "version": 3
   },
   "file_extension": ".py",
   "mimetype": "text/x-python",
   "name": "python",
   "nbconvert_exporter": "python",
   "pygments_lexer": "ipython3",
   "version": "3.11.13"
  }
 },
 "nbformat": 4,
 "nbformat_minor": 5
}
